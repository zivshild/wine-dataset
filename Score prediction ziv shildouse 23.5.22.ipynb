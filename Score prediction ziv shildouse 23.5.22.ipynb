{
 "cells": [
  {
   "cell_type": "markdown",
   "metadata": {},
   "source": [
    "# Wines Points prediction "
   ]
  },
  {
   "cell_type": "code",
   "execution_count": 64,
   "metadata": {},
   "outputs": [],
   "source": [
    "%load_ext autoreload\n",
    "%autoreload 2\n",
    "import sys; sys.path.append('../')"
   ]
  },
  {
   "cell_type": "markdown",
   "metadata": {},
   "source": [
    "Here we will try to predict the points a wine will get based on known characteristics (i.e. features, in the ML terminology). The mine point in this stage is to establish a simple, ideally super cost effective, basline.\n",
    "In the real world there is a tradeoff between complexity and perforamnce, and the DS job, among others, is to present a tradeoff tables of what performance is achivalbel at what complexity level. \n",
    "\n",
    "to which models with increased complexity and resource demands will be compared. Complexity should then be translated into cost. For example:\n",
    " * Compute cost \n",
    " * Maintenance cost\n",
    " * Serving costs (i.e. is new platform needed?) \n",
    " "
   ]
  },
  {
   "cell_type": "markdown",
   "metadata": {},
   "source": [
    "## Loading the data"
   ]
  },
  {
   "cell_type": "code",
   "execution_count": 65,
   "metadata": {},
   "outputs": [
    {
     "data": {
      "text/html": [
       "        <script type=\"text/javascript\">\n",
       "        window.PlotlyConfig = {MathJaxConfig: 'local'};\n",
       "        if (window.MathJax) {MathJax.Hub.Config({SVG: {font: \"STIX-Web\"}});}\n",
       "        if (typeof require !== 'undefined') {\n",
       "        require.undef(\"plotly\");\n",
       "        requirejs.config({\n",
       "            paths: {\n",
       "                'plotly': ['https://cdn.plot.ly/plotly-2.9.0.min']\n",
       "            }\n",
       "        });\n",
       "        require(['plotly'], function(Plotly) {\n",
       "            window._Plotly = Plotly;\n",
       "        });\n",
       "        }\n",
       "        </script>\n",
       "        "
      ]
     },
     "metadata": {},
     "output_type": "display_data"
    }
   ],
   "source": [
    "import pandas as pd\n",
    "import cufflinks as cf; cf.go_offline()"
   ]
  },
  {
   "cell_type": "code",
   "execution_count": 3,
   "metadata": {},
   "outputs": [
    {
     "data": {
      "text/plain": [
       "(129971, 14)"
      ]
     },
     "execution_count": 3,
     "metadata": {},
     "output_type": "execute_result"
    }
   ],
   "source": [
    "wine_reviews = pd.read_csv(\"data/winemag-data-130k-v2.csv\")\n",
    "wine_reviews.shape"
   ]
  },
  {
   "cell_type": "code",
   "execution_count": 4,
   "metadata": {},
   "outputs": [
    {
     "data": {
      "text/html": [
       "<div>\n",
       "<style scoped>\n",
       "    .dataframe tbody tr th:only-of-type {\n",
       "        vertical-align: middle;\n",
       "    }\n",
       "\n",
       "    .dataframe tbody tr th {\n",
       "        vertical-align: top;\n",
       "    }\n",
       "\n",
       "    .dataframe thead th {\n",
       "        text-align: right;\n",
       "    }\n",
       "</style>\n",
       "<table border=\"1\" class=\"dataframe\">\n",
       "  <thead>\n",
       "    <tr style=\"text-align: right;\">\n",
       "      <th></th>\n",
       "      <th>Unnamed: 0</th>\n",
       "      <th>country</th>\n",
       "      <th>description</th>\n",
       "      <th>designation</th>\n",
       "      <th>points</th>\n",
       "      <th>price</th>\n",
       "      <th>province</th>\n",
       "      <th>region_1</th>\n",
       "      <th>region_2</th>\n",
       "      <th>taster_name</th>\n",
       "      <th>taster_twitter_handle</th>\n",
       "      <th>title</th>\n",
       "      <th>variety</th>\n",
       "      <th>winery</th>\n",
       "    </tr>\n",
       "  </thead>\n",
       "  <tbody>\n",
       "    <tr>\n",
       "      <th>6562</th>\n",
       "      <td>6562</td>\n",
       "      <td>Chile</td>\n",
       "      <td>Wiry, scratchy blueberry and black-currant aro...</td>\n",
       "      <td>Marques de Casa Concha</td>\n",
       "      <td>85</td>\n",
       "      <td>25.0</td>\n",
       "      <td>Maule Valley</td>\n",
       "      <td>NaN</td>\n",
       "      <td>NaN</td>\n",
       "      <td>Michael Schachner</td>\n",
       "      <td>@wineschach</td>\n",
       "      <td>Concha y Toro 2013 Marques de Casa Concha Merl...</td>\n",
       "      <td>Merlot</td>\n",
       "      <td>Concha y Toro</td>\n",
       "    </tr>\n",
       "    <tr>\n",
       "      <th>98676</th>\n",
       "      <td>98676</td>\n",
       "      <td>US</td>\n",
       "      <td>This unusual wine has a backbone of acidity ak...</td>\n",
       "      <td>NaN</td>\n",
       "      <td>82</td>\n",
       "      <td>27.0</td>\n",
       "      <td>California</td>\n",
       "      <td>Sonoma Valley</td>\n",
       "      <td>Sonoma</td>\n",
       "      <td>NaN</td>\n",
       "      <td>NaN</td>\n",
       "      <td>Envolve 2012 Sauvignon Blanc (Sonoma Valley)</td>\n",
       "      <td>Sauvignon Blanc</td>\n",
       "      <td>Envolve</td>\n",
       "    </tr>\n",
       "    <tr>\n",
       "      <th>88892</th>\n",
       "      <td>88892</td>\n",
       "      <td>US</td>\n",
       "      <td>Fresh and appealing, this unusual blend of 80%...</td>\n",
       "      <td>Portfolio Collection Due Rossi Barbera-Sangiovese</td>\n",
       "      <td>85</td>\n",
       "      <td>25.0</td>\n",
       "      <td>Pennsylvania</td>\n",
       "      <td>Pennsylvania</td>\n",
       "      <td>NaN</td>\n",
       "      <td>NaN</td>\n",
       "      <td>NaN</td>\n",
       "      <td>Chaddsford 2007 Portfolio Collection Due Rossi...</td>\n",
       "      <td>Red Blend</td>\n",
       "      <td>Chaddsford</td>\n",
       "    </tr>\n",
       "    <tr>\n",
       "      <th>9052</th>\n",
       "      <td>9052</td>\n",
       "      <td>Germany</td>\n",
       "      <td>While intensely aromatic of honey and marmalad...</td>\n",
       "      <td>Graacher Dompropst GG</td>\n",
       "      <td>91</td>\n",
       "      <td>72.0</td>\n",
       "      <td>Mosel</td>\n",
       "      <td>NaN</td>\n",
       "      <td>NaN</td>\n",
       "      <td>Anna Lee C. Iijima</td>\n",
       "      <td>NaN</td>\n",
       "      <td>S.A. Prüm 2011 Graacher Dompropst GG Riesling ...</td>\n",
       "      <td>Riesling</td>\n",
       "      <td>S.A. Prüm</td>\n",
       "    </tr>\n",
       "    <tr>\n",
       "      <th>12529</th>\n",
       "      <td>12529</td>\n",
       "      <td>US</td>\n",
       "      <td>The winery remains committed to French Colomba...</td>\n",
       "      <td>The Count's Selection</td>\n",
       "      <td>88</td>\n",
       "      <td>32.0</td>\n",
       "      <td>California</td>\n",
       "      <td>Russian River Valley</td>\n",
       "      <td>Sonoma</td>\n",
       "      <td>Virginie Boone</td>\n",
       "      <td>@vboone</td>\n",
       "      <td>Buena Vista 2013 The Count's Selection Colomba...</td>\n",
       "      <td>Colombard</td>\n",
       "      <td>Buena Vista</td>\n",
       "    </tr>\n",
       "  </tbody>\n",
       "</table>\n",
       "</div>"
      ],
      "text/plain": [
       "       Unnamed: 0  country                                        description  \\\n",
       "6562         6562    Chile  Wiry, scratchy blueberry and black-currant aro...   \n",
       "98676       98676       US  This unusual wine has a backbone of acidity ak...   \n",
       "88892       88892       US  Fresh and appealing, this unusual blend of 80%...   \n",
       "9052         9052  Germany  While intensely aromatic of honey and marmalad...   \n",
       "12529       12529       US  The winery remains committed to French Colomba...   \n",
       "\n",
       "                                             designation  points  price  \\\n",
       "6562                              Marques de Casa Concha      85   25.0   \n",
       "98676                                                NaN      82   27.0   \n",
       "88892  Portfolio Collection Due Rossi Barbera-Sangiovese      85   25.0   \n",
       "9052                               Graacher Dompropst GG      91   72.0   \n",
       "12529                              The Count's Selection      88   32.0   \n",
       "\n",
       "           province              region_1 region_2         taster_name  \\\n",
       "6562   Maule Valley                   NaN      NaN   Michael Schachner   \n",
       "98676    California         Sonoma Valley   Sonoma                 NaN   \n",
       "88892  Pennsylvania          Pennsylvania      NaN                 NaN   \n",
       "9052          Mosel                   NaN      NaN  Anna Lee C. Iijima   \n",
       "12529    California  Russian River Valley   Sonoma      Virginie Boone   \n",
       "\n",
       "      taster_twitter_handle  \\\n",
       "6562            @wineschach   \n",
       "98676                   NaN   \n",
       "88892                   NaN   \n",
       "9052                    NaN   \n",
       "12529               @vboone   \n",
       "\n",
       "                                                   title          variety  \\\n",
       "6562   Concha y Toro 2013 Marques de Casa Concha Merl...           Merlot   \n",
       "98676       Envolve 2012 Sauvignon Blanc (Sonoma Valley)  Sauvignon Blanc   \n",
       "88892  Chaddsford 2007 Portfolio Collection Due Rossi...        Red Blend   \n",
       "9052   S.A. Prüm 2011 Graacher Dompropst GG Riesling ...         Riesling   \n",
       "12529  Buena Vista 2013 The Count's Selection Colomba...        Colombard   \n",
       "\n",
       "              winery  \n",
       "6562   Concha y Toro  \n",
       "98676        Envolve  \n",
       "88892     Chaddsford  \n",
       "9052       S.A. Prüm  \n",
       "12529    Buena Vista  "
      ]
     },
     "execution_count": 4,
     "metadata": {},
     "output_type": "execute_result"
    }
   ],
   "source": [
    "wine_reviews.sample(5)"
   ]
  },
  {
   "cell_type": "markdown",
   "metadata": {},
   "source": [
    "## Data exploration and transformation"
   ]
  },
  {
   "cell_type": "markdown",
   "metadata": {},
   "source": [
    "### drop_duplicates"
   ]
  },
  {
   "cell_type": "code",
   "execution_count": 5,
   "metadata": {},
   "outputs": [],
   "source": [
    "wine_reviews = wine_reviews.drop(columns=['Unnamed: 0'])"
   ]
  },
  {
   "cell_type": "code",
   "execution_count": 6,
   "metadata": {
    "tags": []
   },
   "outputs": [
    {
     "data": {
      "text/plain": [
       "(119988, 13)"
      ]
     },
     "execution_count": 6,
     "metadata": {},
     "output_type": "execute_result"
    }
   ],
   "source": [
    "wine_reviews = wine_reviews.drop_duplicates()\n",
    "wine_reviews.shape"
   ]
  },
  {
   "cell_type": "markdown",
   "metadata": {},
   "source": [
    "### describe wine point"
   ]
  },
  {
   "cell_type": "code",
   "execution_count": 7,
   "metadata": {
    "tags": []
   },
   "outputs": [
    {
     "data": {
      "text/plain": [
       "count    119988.000000\n",
       "mean         88.442236\n",
       "std           3.092915\n",
       "min          80.000000\n",
       "25%          86.000000\n",
       "50%          88.000000\n",
       "75%          91.000000\n",
       "max         100.000000\n",
       "Name: points, dtype: float64"
      ]
     },
     "execution_count": 7,
     "metadata": {},
     "output_type": "execute_result"
    }
   ],
   "source": [
    "statistic_info = wine_reviews.points.describe(percentiles=[0.25,0.75])\n",
    "statistic_info"
   ]
  },
  {
   "cell_type": "code",
   "execution_count": 8,
   "metadata": {
    "tags": []
   },
   "outputs": [],
   "source": [
    "mu = statistic_info[1]\n",
    "std = statistic_info[2]"
   ]
  },
  {
   "cell_type": "code",
   "execution_count": 9,
   "metadata": {},
   "outputs": [
    {
     "data": {
      "text/plain": [
       "<AxesSubplot:>"
      ]
     },
     "execution_count": 9,
     "metadata": {},
     "output_type": "execute_result"
    },
    {
     "data": {
      "image/png": "[encoded data removed]",
      "text/plain": [
       "<Figure size 432x288 with 1 Axes>"
      ]
     },
     "metadata": {
      "needs_background": "light"
     },
     "output_type": "display_data"
    }
   ],
   "source": [
    "wine_reviews.points.plot(kind = 'box')"
   ]
  },
  {
   "cell_type": "code",
   "execution_count": 66,
   "metadata": {},
   "outputs": [],
   "source": [
    "import numpy as np \n",
    "import pylab \n",
    "import scipy.stats as stats\n",
    "from scipy.stats import norm\n",
    "import matplotlib.pyplot as plt"
   ]
  },
  {
   "cell_type": "code",
   "execution_count": 11,
   "metadata": {
    "tags": []
   },
   "outputs": [],
   "source": [
    "wine_reviews['normalized points'] = wine_reviews.points.apply(lambda point: (point-mu)/std)"
   ]
  },
  {
   "cell_type": "code",
   "execution_count": 12,
   "metadata": {},
   "outputs": [
    {
     "data": {
      "text/plain": [
       "<AxesSubplot:>"
      ]
     },
     "execution_count": 12,
     "metadata": {},
     "output_type": "execute_result"
    },
    {
     "data": {
      "image/png": "[encoded data removed]",
      "text/plain": [
       "<Figure size 432x288 with 1 Axes>"
      ]
     },
     "metadata": {
      "needs_background": "light"
     },
     "output_type": "display_data"
    }
   ],
   "source": [
    "wine_reviews['normalized points'].hist()"
   ]
  },
  {
   "cell_type": "code",
   "execution_count": 13,
   "metadata": {},
   "outputs": [
    {
     "data": {
      "image/png": "[encoded data removed]",
      "text/plain": [
       "<Figure size 432x288 with 1 Axes>"
      ]
     },
     "metadata": {
      "needs_background": "light"
     },
     "output_type": "display_data"
    }
   ],
   "source": [
    "# Plot the histogram.\n",
    "plt.hist(wine_reviews['points'], bins=25, density=True, alpha=0.6, color='y')\n",
    "\n",
    "#Plot the PDF\n",
    "xmin, xmax = plt.xlim()\n",
    "x = np.linspace(xmin, xmax, 100)\n",
    "p = norm.pdf(x, mu, std)\n",
    "plt.plot(x, p, 'k', linewidth=2)\n",
    "title = \"Fit results: mu = %.2f,  std = %.2f\" % (mu, std)\n",
    "plt.title(title)\n",
    "\n",
    "plt.show()"
   ]
  },
  {
   "cell_type": "code",
   "execution_count": 14,
   "metadata": {},
   "outputs": [
    {
     "data": {
      "image/png": "[encoded data removed]",
      "text/plain": [
       "<Figure size 432x288 with 1 Axes>"
      ]
     },
     "metadata": {
      "needs_background": "light"
     },
     "output_type": "display_data"
    }
   ],
   "source": [
    "stats.probplot(wine_reviews['normalized points'], dist=\"norm\", plot=pylab)\n",
    "pylab.show()"
   ]
  },
  {
   "cell_type": "markdown",
   "metadata": {},
   "source": [
    "### repeated infromation in row"
   ]
  },
  {
   "cell_type": "markdown",
   "metadata": {},
   "source": [
    "In the last lesson, thanks to Anat, we noticed that the title column is actually made up of four information data in existing columns: veraity, winery, region2 and region 1. The other significant figure from this position is the year of production - so we opened a new column that applies only the year of production"
   ]
  },
  {
   "cell_type": "code",
   "execution_count": 15,
   "metadata": {
    "tags": []
   },
   "outputs": [
    {
     "data": {
      "text/plain": [
       "16658     Wines & Winemakers 2012 Pegos Claros Vinhas Ve...\n",
       "61775     V. Sattui 2009 Mounts Vineyard Zinfandel (Dry ...\n",
       "80528        Le Macchiole 2014 Paleo Bianco White (Toscana)\n",
       "109056    Conn Creek 2008 Collins Holystone Vineyard Cab...\n",
       "72567            Bella Grace 2013 Primitivo (Amador County)\n",
       "Name: title, dtype: object"
      ]
     },
     "execution_count": 15,
     "metadata": {},
     "output_type": "execute_result"
    }
   ],
   "source": [
    "wine_reviews['title'].sample(5)"
   ]
  },
  {
   "cell_type": "markdown",
   "metadata": {},
   "source": [
    "after looking at the data we can see there is a possibility of additional numbers other than the year, such as the year of establishment of the company, and it makes sense that the company has no wine before it was established, so we will always prefer the largest number until 2022, also, There is no wine before the year 2000"
   ]
  },
  {
   "cell_type": "code",
   "execution_count": 16,
   "metadata": {},
   "outputs": [
    {
     "data": {
      "text/html": [
       "<div>\n",
       "<style scoped>\n",
       "    .dataframe tbody tr th:only-of-type {\n",
       "        vertical-align: middle;\n",
       "    }\n",
       "\n",
       "    .dataframe tbody tr th {\n",
       "        vertical-align: top;\n",
       "    }\n",
       "\n",
       "    .dataframe thead th {\n",
       "        text-align: right;\n",
       "    }\n",
       "</style>\n",
       "<table border=\"1\" class=\"dataframe\">\n",
       "  <thead>\n",
       "    <tr style=\"text-align: right;\">\n",
       "      <th></th>\n",
       "      <th>0</th>\n",
       "      <th>1</th>\n",
       "    </tr>\n",
       "  </thead>\n",
       "  <tbody>\n",
       "    <tr>\n",
       "      <th>114808</th>\n",
       "      <td>2010.0</td>\n",
       "      <td>NaN</td>\n",
       "    </tr>\n",
       "    <tr>\n",
       "      <th>81872</th>\n",
       "      <td>2008.0</td>\n",
       "      <td>NaN</td>\n",
       "    </tr>\n",
       "    <tr>\n",
       "      <th>21716</th>\n",
       "      <td>2005.0</td>\n",
       "      <td>NaN</td>\n",
       "    </tr>\n",
       "    <tr>\n",
       "      <th>48830</th>\n",
       "      <td>2012.0</td>\n",
       "      <td>NaN</td>\n",
       "    </tr>\n",
       "    <tr>\n",
       "      <th>59129</th>\n",
       "      <td>2014.0</td>\n",
       "      <td>NaN</td>\n",
       "    </tr>\n",
       "  </tbody>\n",
       "</table>\n",
       "</div>"
      ],
      "text/plain": [
       "             0   1\n",
       "114808  2010.0 NaN\n",
       "81872   2008.0 NaN\n",
       "21716   2005.0 NaN\n",
       "48830   2012.0 NaN\n",
       "59129   2014.0 NaN"
      ]
     },
     "execution_count": 16,
     "metadata": {},
     "output_type": "execute_result"
    }
   ],
   "source": [
    "years = []\n",
    "for title in wine_reviews['title']:\n",
    "    year_production = [int(year) for year in title.split() if (year.isdigit() and int(year) < 2022 and int(year) > 1999) ]\n",
    "    years.append(year_production)\n",
    "years = pd.DataFrame(years)\n",
    "years.sample(5)\n"
   ]
  },
  {
   "cell_type": "code",
   "execution_count": 17,
   "metadata": {},
   "outputs": [
    {
     "data": {
      "text/plain": [
       "(119988, 2)"
      ]
     },
     "execution_count": 17,
     "metadata": {},
     "output_type": "execute_result"
    }
   ],
   "source": [
    "years.shape"
   ]
  },
  {
   "cell_type": "code",
   "execution_count": 18,
   "metadata": {
    "tags": []
   },
   "outputs": [
    {
     "data": {
      "text/plain": [
       "(113989,)"
      ]
     },
     "execution_count": 18,
     "metadata": {},
     "output_type": "execute_result"
    }
   ],
   "source": [
    "years.max(axis = 1)[years[0] > 0].shape"
   ]
  },
  {
   "cell_type": "code",
   "execution_count": 19,
   "metadata": {},
   "outputs": [
    {
     "data": {
      "text/plain": [
       "(5999,)"
      ]
     },
     "execution_count": 19,
     "metadata": {},
     "output_type": "execute_result"
    }
   ],
   "source": [
    "years.max(axis = 1)[years[0].isnull()].shape"
   ]
  },
  {
   "cell_type": "markdown",
   "metadata": {},
   "source": [
    "There is very small date without year  -  we will drop it"
   ]
  },
  {
   "cell_type": "code",
   "execution_count": 20,
   "metadata": {},
   "outputs": [
    {
     "data": {
      "text/plain": [
       "(105822, 15)"
      ]
     },
     "execution_count": 20,
     "metadata": {},
     "output_type": "execute_result"
    }
   ],
   "source": [
    "wine_reviews['years'] = years.max(axis = 1)\n",
    "wine_reviews =  wine_reviews[wine_reviews['years'] > 0]\n",
    "wine_reviews.to_csv(\"data/wine_reviews_wine.csv\")\n",
    "wine_reviews.shape"
   ]
  },
  {
   "cell_type": "code",
   "execution_count": 21,
   "metadata": {},
   "outputs": [
    {
     "data": {
      "text/plain": [
       "<AxesSubplot:>"
      ]
     },
     "execution_count": 21,
     "metadata": {},
     "output_type": "execute_result"
    },
    {
     "data": {
      "image/png": "[encoded data removed]",
      "text/plain": [
       "<Figure size 432x288 with 1 Axes>"
      ]
     },
     "metadata": {
      "needs_background": "light"
     },
     "output_type": "display_data"
    }
   ],
   "source": [
    "wine_reviews.years.plot(kind = 'box')"
   ]
  },
  {
   "cell_type": "code",
   "execution_count": 22,
   "metadata": {},
   "outputs": [
    {
     "data": {
      "text/html": [
       "<div>\n",
       "<style scoped>\n",
       "    .dataframe tbody tr th:only-of-type {\n",
       "        vertical-align: middle;\n",
       "    }\n",
       "\n",
       "    .dataframe tbody tr th {\n",
       "        vertical-align: top;\n",
       "    }\n",
       "\n",
       "    .dataframe thead th {\n",
       "        text-align: right;\n",
       "    }\n",
       "</style>\n",
       "<table border=\"1\" class=\"dataframe\">\n",
       "  <thead>\n",
       "    <tr style=\"text-align: right;\">\n",
       "      <th></th>\n",
       "      <th>years</th>\n",
       "      <th>points</th>\n",
       "    </tr>\n",
       "  </thead>\n",
       "  <tbody>\n",
       "    <tr>\n",
       "      <th>0</th>\n",
       "      <td>2017.0</td>\n",
       "      <td>87.400000</td>\n",
       "    </tr>\n",
       "    <tr>\n",
       "      <th>1</th>\n",
       "      <td>2000.0</td>\n",
       "      <td>88.034743</td>\n",
       "    </tr>\n",
       "    <tr>\n",
       "      <th>2</th>\n",
       "      <td>2002.0</td>\n",
       "      <td>88.167164</td>\n",
       "    </tr>\n",
       "    <tr>\n",
       "      <th>3</th>\n",
       "      <td>2001.0</td>\n",
       "      <td>88.319739</td>\n",
       "    </tr>\n",
       "    <tr>\n",
       "      <th>4</th>\n",
       "      <td>2004.0</td>\n",
       "      <td>88.338424</td>\n",
       "    </tr>\n",
       "  </tbody>\n",
       "</table>\n",
       "</div>"
      ],
      "text/plain": [
       "    years     points\n",
       "0  2017.0  87.400000\n",
       "1  2000.0  88.034743\n",
       "2  2002.0  88.167164\n",
       "3  2001.0  88.319739\n",
       "4  2004.0  88.338424"
      ]
     },
     "execution_count": 22,
     "metadata": {},
     "output_type": "execute_result"
    }
   ],
   "source": [
    "points_per_year = wine_reviews.groupby('years').points.mean().sort_values().reset_index()\n",
    "points_per_year.head()"
   ]
  },
  {
   "cell_type": "code",
   "execution_count": 23,
   "metadata": {},
   "outputs": [
    {
     "data": {
      "text/plain": [
       "<AxesSubplot:>"
      ]
     },
     "execution_count": 23,
     "metadata": {},
     "output_type": "execute_result"
    },
    {
     "data": {
      "image/png": "[encoded data removed]",
      "text/plain": [
       "<Figure size 432x288 with 1 Axes>"
      ]
     },
     "metadata": {
      "needs_background": "light"
     },
     "output_type": "display_data"
    }
   ],
   "source": [
    "wine_reviews['points'].hist()"
   ]
  },
  {
   "cell_type": "markdown",
   "metadata": {},
   "source": [
    "## Points prediction"
   ]
  },
  {
   "cell_type": "markdown",
   "metadata": {},
   "source": [
    "Points is descrete value target. There for we are talking about a prediction (Regression) problem (in contrary to classification problem). Prediction solutions can be measured in few metrics:\n",
    "\n",
    "* MSE - [Mean score error](https://en.wikipedia.org/wiki/Mean_squared_error)\n",
    "* R2 - [R Square](https://en.wikipedia.org/wiki/Coefficient_of_determination)\n",
    "* MAE - [Mean absolut error](https://en.wikipedia.org/wiki/Mean_absolute_error)\n",
    "\n",
    "Read more [here](https://towardsdatascience.com/what-are-the-best-metrics-to-evaluate-your-regression-model-418ca481755b)"
   ]
  },
  {
   "cell_type": "markdown",
   "metadata": {},
   "source": [
    "### Train and test set split"
   ]
  },
  {
   "cell_type": "markdown",
   "metadata": {},
   "source": [
    "To properly report results, let's split to train and test datasets:"
   ]
  },
  {
   "cell_type": "code",
   "execution_count": 24,
   "metadata": {
    "tags": []
   },
   "outputs": [],
   "source": [
    "train_data = wine_reviews.sample(frac = 0.8, random_state = 50000)\n",
    "test_data = wine_reviews[~wine_reviews.index.isin(train_data.index)]\n",
    "assert(len(train_data) + len(test_data) == len(wine_reviews))"
   ]
  },
  {
   "cell_type": "code",
   "execution_count": 27,
   "metadata": {},
   "outputs": [
    {
     "data": {
      "text/plain": [
       "(21164, 84658)"
      ]
     },
     "execution_count": 27,
     "metadata": {},
     "output_type": "execute_result"
    }
   ],
   "source": [
    "len(test_data), len(train_data)"
   ]
  },
  {
   "cell_type": "markdown",
   "metadata": {},
   "source": [
    "### Baselines"
   ]
  },
  {
   "cell_type": "code",
   "execution_count": 67,
   "metadata": {},
   "outputs": [],
   "source": [
    "from sklearn.metrics import mean_absolute_error, mean_squared_error, r2_score"
   ]
  },
  {
   "cell_type": "code",
   "execution_count": 2,
   "metadata": {},
   "outputs": [],
   "source": [
    "def calc_prediction_quality(df, pred_score_col, true_score_col):\n",
    "    return pd.Series({'MSE': mean_squared_error(df[true_score_col], df[pred_score_col]),\n",
    "                      'MAE': mean_absolute_error(df[true_score_col], df[pred_score_col]),\n",
    "                      'R2': r2_score(df[true_score_col], df[pred_score_col])})"
   ]
  },
  {
   "cell_type": "markdown",
   "metadata": {},
   "source": [
    "#### Baseline 1"
   ]
  },
  {
   "cell_type": "markdown",
   "metadata": {},
   "source": [
    "The most basic baseline is simply the average points. The implementaion is as simple as:"
   ]
  },
  {
   "cell_type": "code",
   "execution_count": 30,
   "metadata": {},
   "outputs": [
    {
     "data": {
      "text/plain": [
       "MSE    9.322615\n",
       "MAE    2.494265\n",
       "R2    -0.000002\n",
       "dtype: float64"
      ]
     },
     "execution_count": 30,
     "metadata": {},
     "output_type": "execute_result"
    }
   ],
   "source": [
    "test_data['basiline_1_predicted_points'] = train_data.points.mean()\n",
    "b1_stats = calc_prediction_quality(test_data, 'basiline_1_predicted_points', 'points')\n",
    "b1_stats"
   ]
  },
  {
   "cell_type": "markdown",
   "metadata": {},
   "source": [
    "#### Basline 2"
   ]
  },
  {
   "cell_type": "markdown",
   "metadata": {},
   "source": [
    "We can probably improve by predicting the average score based on the origin country:"
   ]
  },
  {
   "cell_type": "code",
   "execution_count": 31,
   "metadata": {},
   "outputs": [
    {
     "data": {
      "text/plain": [
       "country\n",
       "Argentina                 86.589024\n",
       "Armenia                   87.500000\n",
       "Australia                 88.519711\n",
       "Austria                   90.115475\n",
       "Bosnia and Herzegovina    86.500000\n",
       "Name: points, dtype: float64"
      ]
     },
     "execution_count": 31,
     "metadata": {},
     "output_type": "execute_result"
    }
   ],
   "source": [
    "avg_points_by_country = train_data.groupby('country').points.mean()\n",
    "avg_points_by_country.head()"
   ]
  },
  {
   "cell_type": "code",
   "execution_count": 32,
   "metadata": {},
   "outputs": [
    {
     "data": {
      "text/plain": [
       "MSE    8.859680\n",
       "MAE    2.430685\n",
       "R2     0.049655\n",
       "dtype: float64"
      ]
     },
     "execution_count": 32,
     "metadata": {},
     "output_type": "execute_result"
    }
   ],
   "source": [
    "test_data['basiline_2_predicted_points'] = test_data.country.map(avg_points_by_country).fillna(train_data.points.mean())\n",
    "b2_stats = calc_prediction_quality(test_data, 'basiline_2_predicted_points', 'points')\n",
    "b2_stats"
   ]
  },
  {
   "cell_type": "markdown",
   "metadata": {},
   "source": [
    "#### Baseline 3"
   ]
  },
  {
   "cell_type": "markdown",
   "metadata": {},
   "source": [
    "Adding more breakdowns will increase our granularity but can result in overfitting. Yet:"
   ]
  },
  {
   "cell_type": "code",
   "execution_count": 33,
   "metadata": {
    "tags": []
   },
   "outputs": [
    {
     "data": {
      "text/plain": [
       "country    province        \n",
       "Argentina  Mendoza Province    86.715575\n",
       "           Other               85.836158\n",
       "Armenia    Armenia             87.500000\n",
       "Australia  Australia Other     85.467456\n",
       "           New South Wales     87.686275\n",
       "Name: basiline_3_predicted_points, dtype: float64"
      ]
     },
     "execution_count": 33,
     "metadata": {},
     "output_type": "execute_result"
    }
   ],
   "source": [
    "avg_points_by_country_and_region = train_data.groupby(['country','province']).points.mean().rename('basiline_3_predicted_points')\n",
    "avg_points_by_country_and_region.head()"
   ]
  },
  {
   "cell_type": "code",
   "execution_count": 34,
   "metadata": {
    "tags": []
   },
   "outputs": [
    {
     "data": {
      "text/plain": [
       "((21164, 18), (21164, 17))"
      ]
     },
     "execution_count": 34,
     "metadata": {},
     "output_type": "execute_result"
    }
   ],
   "source": [
    "test_data_with_baseline_3 = test_data.merge(avg_points_by_country_and_region, on = ['country','province'], how='left')\n",
    "test_data_with_baseline_3.basiline_3_predicted_points = test_data_with_baseline_3.basiline_3_predicted_points.fillna(test_data_with_baseline_3.basiline_2_predicted_points).fillna(test_data.basiline_1_predicted_points)\n",
    "test_data_with_baseline_3.shape, test_data.shape"
   ]
  },
  {
   "cell_type": "code",
   "execution_count": 35,
   "metadata": {},
   "outputs": [
    {
     "data": {
      "text/plain": [
       "MSE    8.358605\n",
       "MAE    2.349938\n",
       "R2     0.103404\n",
       "dtype: float64"
      ]
     },
     "execution_count": 35,
     "metadata": {},
     "output_type": "execute_result"
    }
   ],
   "source": [
    "b3_stats = calc_prediction_quality(test_data_with_baseline_3, 'basiline_3_predicted_points', 'points')\n",
    "b3_stats"
   ]
  },
  {
   "cell_type": "markdown",
   "metadata": {},
   "source": [
    "### Baselines summary"
   ]
  },
  {
   "cell_type": "code",
   "execution_count": 36,
   "metadata": {},
   "outputs": [
    {
     "data": {
      "text/html": [
       "<div>\n",
       "<style scoped>\n",
       "    .dataframe tbody tr th:only-of-type {\n",
       "        vertical-align: middle;\n",
       "    }\n",
       "\n",
       "    .dataframe tbody tr th {\n",
       "        vertical-align: top;\n",
       "    }\n",
       "\n",
       "    .dataframe thead th {\n",
       "        text-align: right;\n",
       "    }\n",
       "</style>\n",
       "<table border=\"1\" class=\"dataframe\">\n",
       "  <thead>\n",
       "    <tr style=\"text-align: right;\">\n",
       "      <th></th>\n",
       "      <th>MSE</th>\n",
       "      <th>MAE</th>\n",
       "      <th>R2</th>\n",
       "    </tr>\n",
       "  </thead>\n",
       "  <tbody>\n",
       "    <tr>\n",
       "      <th>baseline_1</th>\n",
       "      <td>9.322615</td>\n",
       "      <td>2.494265</td>\n",
       "      <td>-0.000002</td>\n",
       "    </tr>\n",
       "    <tr>\n",
       "      <th>baseline_2</th>\n",
       "      <td>8.859680</td>\n",
       "      <td>2.430685</td>\n",
       "      <td>0.049655</td>\n",
       "    </tr>\n",
       "    <tr>\n",
       "      <th>baseline_3</th>\n",
       "      <td>8.358605</td>\n",
       "      <td>2.349938</td>\n",
       "      <td>0.103404</td>\n",
       "    </tr>\n",
       "  </tbody>\n",
       "</table>\n",
       "</div>"
      ],
      "text/plain": [
       "                 MSE       MAE        R2\n",
       "baseline_1  9.322615  2.494265 -0.000002\n",
       "baseline_2  8.859680  2.430685  0.049655\n",
       "baseline_3  8.358605  2.349938  0.103404"
      ]
     },
     "execution_count": 36,
     "metadata": {},
     "output_type": "execute_result"
    }
   ],
   "source": [
    "baseline_summary = pd.DataFrame([b1_stats, b2_stats, b3_stats], index=['baseline_1', 'baseline_2','baseline_3'])\n",
    "baseline_summary"
   ]
  },
  {
   "cell_type": "markdown",
   "metadata": {
    "tags": []
   },
   "source": [
    "## Training a Boosting trees regressor"
   ]
  },
  {
   "cell_type": "code",
   "execution_count": 68,
   "metadata": {},
   "outputs": [],
   "source": [
    "from sklearn.preprocessing import LabelEncoder\n",
    "le = LabelEncoder()"
   ]
  },
  {
   "cell_type": "markdown",
   "metadata": {},
   "source": [
    "#### Preparing data - Lable encoding categorical features"
   ]
  },
  {
   "cell_type": "code",
   "execution_count": 38,
   "metadata": {},
   "outputs": [],
   "source": [
    "categorical_features = ['country','province','region_1','region_2','taster_name','variety','winery','years']\n",
    "numerical_features = ['price']\n",
    "features = categorical_features + numerical_features"
   ]
  },
  {
   "cell_type": "code",
   "execution_count": 39,
   "metadata": {},
   "outputs": [
    {
     "data": {
      "text/html": [
       "<div>\n",
       "<style scoped>\n",
       "    .dataframe tbody tr th:only-of-type {\n",
       "        vertical-align: middle;\n",
       "    }\n",
       "\n",
       "    .dataframe tbody tr th {\n",
       "        vertical-align: top;\n",
       "    }\n",
       "\n",
       "    .dataframe thead th {\n",
       "        text-align: right;\n",
       "    }\n",
       "</style>\n",
       "<table border=\"1\" class=\"dataframe\">\n",
       "  <thead>\n",
       "    <tr style=\"text-align: right;\">\n",
       "      <th></th>\n",
       "      <th>country</th>\n",
       "      <th>province</th>\n",
       "      <th>region_1</th>\n",
       "      <th>region_2</th>\n",
       "      <th>taster_name</th>\n",
       "      <th>variety</th>\n",
       "      <th>winery</th>\n",
       "      <th>years</th>\n",
       "      <th>price</th>\n",
       "      <th>points</th>\n",
       "    </tr>\n",
       "  </thead>\n",
       "  <tbody>\n",
       "    <tr>\n",
       "      <th>0</th>\n",
       "      <td>22</td>\n",
       "      <td>328</td>\n",
       "      <td>420</td>\n",
       "      <td>6</td>\n",
       "      <td>9</td>\n",
       "      <td>675</td>\n",
       "      <td>11212</td>\n",
       "      <td>13</td>\n",
       "      <td>-1.0</td>\n",
       "      <td>87</td>\n",
       "    </tr>\n",
       "    <tr>\n",
       "      <th>1</th>\n",
       "      <td>32</td>\n",
       "      <td>107</td>\n",
       "      <td>732</td>\n",
       "      <td>6</td>\n",
       "      <td>16</td>\n",
       "      <td>439</td>\n",
       "      <td>12519</td>\n",
       "      <td>11</td>\n",
       "      <td>15.0</td>\n",
       "      <td>87</td>\n",
       "    </tr>\n",
       "    <tr>\n",
       "      <th>2</th>\n",
       "      <td>41</td>\n",
       "      <td>265</td>\n",
       "      <td>1202</td>\n",
       "      <td>17</td>\n",
       "      <td>15</td>\n",
       "      <td>425</td>\n",
       "      <td>12580</td>\n",
       "      <td>13</td>\n",
       "      <td>14.0</td>\n",
       "      <td>87</td>\n",
       "    </tr>\n",
       "    <tr>\n",
       "      <th>3</th>\n",
       "      <td>41</td>\n",
       "      <td>215</td>\n",
       "      <td>544</td>\n",
       "      <td>6</td>\n",
       "      <td>0</td>\n",
       "      <td>468</td>\n",
       "      <td>13906</td>\n",
       "      <td>13</td>\n",
       "      <td>13.0</td>\n",
       "      <td>87</td>\n",
       "    </tr>\n",
       "    <tr>\n",
       "      <th>4</th>\n",
       "      <td>41</td>\n",
       "      <td>265</td>\n",
       "      <td>1202</td>\n",
       "      <td>17</td>\n",
       "      <td>15</td>\n",
       "      <td>429</td>\n",
       "      <td>14130</td>\n",
       "      <td>12</td>\n",
       "      <td>65.0</td>\n",
       "      <td>87</td>\n",
       "    </tr>\n",
       "  </tbody>\n",
       "</table>\n",
       "</div>"
      ],
      "text/plain": [
       "   country  province  region_1  region_2  taster_name  variety  winery  years  \\\n",
       "0       22       328       420         6            9      675   11212     13   \n",
       "1       32       107       732         6           16      439   12519     11   \n",
       "2       41       265      1202        17           15      425   12580     13   \n",
       "3       41       215       544         6            0      468   13906     13   \n",
       "4       41       265      1202        17           15      429   14130     12   \n",
       "\n",
       "   price  points  \n",
       "0   -1.0      87  \n",
       "1   15.0      87  \n",
       "2   14.0      87  \n",
       "3   13.0      87  \n",
       "4   65.0      87  "
      ]
     },
     "execution_count": 39,
     "metadata": {},
     "output_type": "execute_result"
    }
   ],
   "source": [
    "encoded_features = wine_reviews[categorical_features].apply(lambda col: le.fit_transform(col.fillna('NA')))\n",
    "encoded_features['price'] = wine_reviews.price.fillna(-1)\n",
    "encoded_features['points'] = wine_reviews.points\n",
    "encoded_features.head()"
   ]
  },
  {
   "cell_type": "markdown",
   "metadata": {},
   "source": [
    "#### Re-splitting to train and test"
   ]
  },
  {
   "cell_type": "code",
   "execution_count": 40,
   "metadata": {},
   "outputs": [],
   "source": [
    "train_encoded_features = encoded_features[encoded_features.index.isin(train_data.index)]\n",
    "test_encoded_features = encoded_features[encoded_features.index.isin(test_data.index)]\n",
    "assert(len(train_encoded_features) + len(test_encoded_features) == len(wine_reviews))"
   ]
  },
  {
   "cell_type": "markdown",
   "metadata": {},
   "source": [
    "#### Fitting a tree-regressor"
   ]
  },
  {
   "cell_type": "code",
   "execution_count": 69,
   "metadata": {},
   "outputs": [],
   "source": [
    "from src.models import i_feel_lucky_xgboost_training"
   ]
  },
  {
   "cell_type": "code",
   "execution_count": 42,
   "metadata": {},
   "outputs": [
    {
     "name": "stdout",
     "output_type": "stream",
     "text": [
      "<class 'pandas.core.frame.DataFrame'>\n",
      "Int64Index: 84658 entries, 0 to 119987\n",
      "Data columns (total 10 columns):\n",
      " #   Column       Non-Null Count  Dtype  \n",
      "---  ------       --------------  -----  \n",
      " 0   country      84658 non-null  int32  \n",
      " 1   province     84658 non-null  int32  \n",
      " 2   region_1     84658 non-null  int32  \n",
      " 3   region_2     84658 non-null  int32  \n",
      " 4   taster_name  84658 non-null  int32  \n",
      " 5   variety      84658 non-null  int32  \n",
      " 6   winery       84658 non-null  int32  \n",
      " 7   years        84658 non-null  int64  \n",
      " 8   price        84658 non-null  float64\n",
      " 9   points       84658 non-null  int64  \n",
      "dtypes: float64(1), int32(7), int64(2)\n",
      "memory usage: 4.8 MB\n"
     ]
    }
   ],
   "source": [
    "train_encoded_features.info()"
   ]
  },
  {
   "cell_type": "code",
   "execution_count": 858,
   "metadata": {},
   "outputs": [],
   "source": [
    "xgb_clf, clf_name = i_feel_lucky_xgboost_training(train_encoded_features, test_encoded_features, features, 'points', name='xgb_clf_points_prediction')"
   ]
  },
  {
   "cell_type": "markdown",
   "metadata": {},
   "source": [
    "Let's look at the function output - specifically the **xgb_clf_points_prediction** column:"
   ]
  },
  {
   "cell_type": "code",
   "execution_count": 859,
   "metadata": {},
   "outputs": [
    {
     "data": {
      "text/html": [
       "<div>\n",
       "<style scoped>\n",
       "    .dataframe tbody tr th:only-of-type {\n",
       "        vertical-align: middle;\n",
       "    }\n",
       "\n",
       "    .dataframe tbody tr th {\n",
       "        vertical-align: top;\n",
       "    }\n",
       "\n",
       "    .dataframe thead th {\n",
       "        text-align: right;\n",
       "    }\n",
       "</style>\n",
       "<table border=\"1\" class=\"dataframe\">\n",
       "  <thead>\n",
       "    <tr style=\"text-align: right;\">\n",
       "      <th></th>\n",
       "      <th>country</th>\n",
       "      <th>province</th>\n",
       "      <th>region_1</th>\n",
       "      <th>region_2</th>\n",
       "      <th>taster_name</th>\n",
       "      <th>variety</th>\n",
       "      <th>winery</th>\n",
       "      <th>years</th>\n",
       "      <th>price</th>\n",
       "      <th>points</th>\n",
       "      <th>xgb_clf_points_prediction</th>\n",
       "    </tr>\n",
       "  </thead>\n",
       "  <tbody>\n",
       "    <tr>\n",
       "      <th>4</th>\n",
       "      <td>41</td>\n",
       "      <td>265</td>\n",
       "      <td>1202</td>\n",
       "      <td>17</td>\n",
       "      <td>15</td>\n",
       "      <td>429</td>\n",
       "      <td>14130</td>\n",
       "      <td>12</td>\n",
       "      <td>65.0</td>\n",
       "      <td>87</td>\n",
       "      <td>92</td>\n",
       "    </tr>\n",
       "    <tr>\n",
       "      <th>19</th>\n",
       "      <td>41</td>\n",
       "      <td>394</td>\n",
       "      <td>1185</td>\n",
       "      <td>6</td>\n",
       "      <td>0</td>\n",
       "      <td>317</td>\n",
       "      <td>12531</td>\n",
       "      <td>12</td>\n",
       "      <td>32.0</td>\n",
       "      <td>87</td>\n",
       "      <td>84</td>\n",
       "    </tr>\n",
       "    <tr>\n",
       "      <th>20</th>\n",
       "      <td>41</td>\n",
       "      <td>394</td>\n",
       "      <td>1185</td>\n",
       "      <td>6</td>\n",
       "      <td>0</td>\n",
       "      <td>462</td>\n",
       "      <td>12531</td>\n",
       "      <td>12</td>\n",
       "      <td>23.0</td>\n",
       "      <td>87</td>\n",
       "      <td>86</td>\n",
       "    </tr>\n",
       "    <tr>\n",
       "      <th>22</th>\n",
       "      <td>22</td>\n",
       "      <td>328</td>\n",
       "      <td>981</td>\n",
       "      <td>6</td>\n",
       "      <td>9</td>\n",
       "      <td>675</td>\n",
       "      <td>874</td>\n",
       "      <td>7</td>\n",
       "      <td>19.0</td>\n",
       "      <td>87</td>\n",
       "      <td>87</td>\n",
       "    </tr>\n",
       "    <tr>\n",
       "      <th>23</th>\n",
       "      <td>41</td>\n",
       "      <td>51</td>\n",
       "      <td>792</td>\n",
       "      <td>1</td>\n",
       "      <td>11</td>\n",
       "      <td>318</td>\n",
       "      <td>1199</td>\n",
       "      <td>11</td>\n",
       "      <td>22.0</td>\n",
       "      <td>87</td>\n",
       "      <td>88</td>\n",
       "    </tr>\n",
       "  </tbody>\n",
       "</table>\n",
       "</div>"
      ],
      "text/plain": [
       "    country  province  region_1  region_2  taster_name  variety  winery  \\\n",
       "4        41       265      1202        17           15      429   14130   \n",
       "19       41       394      1185         6            0      317   12531   \n",
       "20       41       394      1185         6            0      462   12531   \n",
       "22       22       328       981         6            9      675     874   \n",
       "23       41        51       792         1           11      318    1199   \n",
       "\n",
       "    years  price  points  xgb_clf_points_prediction  \n",
       "4      12   65.0      87                         92  \n",
       "19     12   32.0      87                         84  \n",
       "20     12   23.0      87                         86  \n",
       "22      7   19.0      87                         87  \n",
       "23     11   22.0      87                         88  "
      ]
     },
     "execution_count": 859,
     "metadata": {},
     "output_type": "execute_result"
    }
   ],
   "source": [
    "test_encoded_features.head()"
   ]
  },
  {
   "cell_type": "code",
   "execution_count": 860,
   "metadata": {},
   "outputs": [
    {
     "data": {
      "text/plain": [
       "MSE    6.230297\n",
       "MAE    1.877433\n",
       "R2     0.331700\n",
       "Name: xgb_stats, dtype: float64"
      ]
     },
     "execution_count": 860,
     "metadata": {},
     "output_type": "execute_result"
    }
   ],
   "source": [
    "xgb_stats = calc_prediction_quality(test_encoded_features, 'xgb_clf_points_prediction','points')\n",
    "xgb_stats.name = 'xgb_stats'\n",
    "xgb_stats"
   ]
  },
  {
   "cell_type": "code",
   "execution_count": 861,
   "metadata": {},
   "outputs": [
    {
     "data": {
      "text/html": [
       "<div>\n",
       "<style scoped>\n",
       "    .dataframe tbody tr th:only-of-type {\n",
       "        vertical-align: middle;\n",
       "    }\n",
       "\n",
       "    .dataframe tbody tr th {\n",
       "        vertical-align: top;\n",
       "    }\n",
       "\n",
       "    .dataframe thead th {\n",
       "        text-align: right;\n",
       "    }\n",
       "</style>\n",
       "<table border=\"1\" class=\"dataframe\">\n",
       "  <thead>\n",
       "    <tr style=\"text-align: right;\">\n",
       "      <th></th>\n",
       "      <th>MSE</th>\n",
       "      <th>MAE</th>\n",
       "      <th>R2</th>\n",
       "    </tr>\n",
       "  </thead>\n",
       "  <tbody>\n",
       "    <tr>\n",
       "      <th>baseline_1</th>\n",
       "      <td>9.322615</td>\n",
       "      <td>2.494265</td>\n",
       "      <td>-0.000002</td>\n",
       "    </tr>\n",
       "    <tr>\n",
       "      <th>baseline_2</th>\n",
       "      <td>8.859680</td>\n",
       "      <td>2.430685</td>\n",
       "      <td>0.049655</td>\n",
       "    </tr>\n",
       "    <tr>\n",
       "      <th>baseline_3</th>\n",
       "      <td>8.358605</td>\n",
       "      <td>2.349938</td>\n",
       "      <td>0.103404</td>\n",
       "    </tr>\n",
       "    <tr>\n",
       "      <th>xgb_stats</th>\n",
       "      <td>6.230297</td>\n",
       "      <td>1.877433</td>\n",
       "      <td>0.331700</td>\n",
       "    </tr>\n",
       "  </tbody>\n",
       "</table>\n",
       "</div>"
      ],
      "text/plain": [
       "                 MSE       MAE        R2\n",
       "baseline_1  9.322615  2.494265 -0.000002\n",
       "baseline_2  8.859680  2.430685  0.049655\n",
       "baseline_3  8.358605  2.349938  0.103404\n",
       "xgb_stats   6.230297  1.877433  0.331700"
      ]
     },
     "execution_count": 861,
     "metadata": {},
     "output_type": "execute_result"
    }
   ],
   "source": [
    "compared_model_4 = baseline_summary.append(xgb_stats)\n",
    "compared_model_4"
   ]
  },
  {
   "cell_type": "code",
   "execution_count": 864,
   "metadata": {},
   "outputs": [],
   "source": [
    "compared_model_4.to_csv('data/all_models_compared.csv', index=False)"
   ]
  },
  {
   "cell_type": "markdown",
   "metadata": {},
   "source": [
    "## Classical NLP approaches"
   ]
  },
  {
   "cell_type": "markdown",
   "metadata": {},
   "source": [
    "### Using only the text from the \"description\" column"
   ]
  },
  {
   "cell_type": "markdown",
   "metadata": {
    "tags": []
   },
   "source": [
    "<div class=\"alert alert-block alert-warning\">\n",
    "<b>TBD</b>\n",
    "</div>"
   ]
  },
  {
   "cell_type": "code",
   "execution_count": 865,
   "metadata": {},
   "outputs": [
    {
     "name": "stderr",
     "output_type": "stream",
     "text": [
      "[nltk_data] Downloading package stopwords to\n",
      "[nltk_data]     C:\\Users\\ZivS\\AppData\\Roaming\\nltk_data...\n",
      "[nltk_data]   Package stopwords is already up-to-date!\n"
     ]
    }
   ],
   "source": [
    "import nltk\n",
    "nltk.download('stopwords')\n",
    "import string\n",
    "import emoji\n",
    "import re as regex"
   ]
  },
  {
   "cell_type": "markdown",
   "metadata": {
    "tags": []
   },
   "source": [
    "#### trian data - pure Text description"
   ]
  },
  {
   "cell_type": "code",
   "execution_count": 866,
   "metadata": {},
   "outputs": [],
   "source": [
    "specialChars = ''.join([\",\", \":\", \"\\\"\", \"=\", \"&\", \";\", \"%\", \"$\",\"@\", \"%\", \"^\", \"*\", \"(\", \")\", \"{\", \"}\",'–','“', '”'\n",
    "                      \"[\", \"]\", \"|\", \"/\", \"\\\\\", \">\", \"<\", \"-\",\"!\", \"?\", \".\", \"'\",\"--\", \"---\", \"#\", '‘', '’', '…'])  \n",
    "space_chars = ['.',',',';', '&', '?','!']\n",
    "def remove_by_regex(tweets, regexp):\n",
    "    return tweets.replace(regexp, \"\")\n",
    "\n",
    "def remove_urls(tweets):\n",
    "    return remove_by_regex(tweets, regex.compile(r\"http\\S+\"))\n",
    "\n",
    "def remove_special_chars(tweets): \n",
    "    return tweets.apply(lambda tweet: ''.join([c for c in tweet if c not in specialChars]))\n",
    "\n",
    "def remove_usernames(tweets):\n",
    "    return remove_by_regex(tweets, regex.compile(r\"@[^\\s]+[\\s]?\"))\n",
    "\n",
    "def remove_numbers(tweets):\n",
    "    return remove_by_regex(tweets, regex.compile(r\"\\s?[0-9]+\\.?[0-9]*\"))\n",
    "\n",
    "def remove_emojis(tweets):\n",
    "    return tweets.apply(lambda tweet: ''.join(c for c in tweet if c not in emoji.UNICODE_EMOJI))\n",
    "\n",
    "def add_spaces(tweets):\n",
    "    def add_spaces_int(tweet):\n",
    "        for char in space_chars:\n",
    "            tweet = tweet.replace(char, char + ' ')\n",
    "        return tweet\n",
    "    return tweets.apply(lambda tweet: add_spaces_int(tweet))\n",
    "\n",
    "def leave_language_only(tweets):\n",
    "    for f in [remove_urls, remove_emojis, add_spaces, remove_numbers, remove_usernames, remove_special_chars]:\n",
    "        tweets = f(tweets)\n",
    "    return tweets"
   ]
  },
  {
   "cell_type": "code",
   "execution_count": 867,
   "metadata": {},
   "outputs": [
    {
     "name": "stdout",
     "output_type": "stream",
     "text": [
      "<class 'pandas.core.frame.DataFrame'>\n",
      "Int64Index: 84658 entries, 15798 to 40215\n",
      "Data columns (total 16 columns):\n",
      " #   Column                 Non-Null Count  Dtype  \n",
      "---  ------                 --------------  -----  \n",
      " 0   country                84620 non-null  object \n",
      " 1   description            84658 non-null  object \n",
      " 2   designation            60215 non-null  object \n",
      " 3   points                 84658 non-null  int64  \n",
      " 4   price                  78778 non-null  float64\n",
      " 5   province               84620 non-null  object \n",
      " 6   region_1               70870 non-null  object \n",
      " 7   region_2               33113 non-null  object \n",
      " 8   taster_name            66976 non-null  object \n",
      " 9   taster_twitter_handle  63776 non-null  object \n",
      " 10  title                  84658 non-null  object \n",
      " 11  variety                84657 non-null  object \n",
      " 12  winery                 84658 non-null  object \n",
      " 13  normalized points      84658 non-null  float64\n",
      " 14  years                  84658 non-null  float64\n",
      " 15  pureTextdescription    84658 non-null  object \n",
      "dtypes: float64(3), int64(1), object(12)\n",
      "memory usage: 11.0+ MB\n"
     ]
    }
   ],
   "source": [
    "train_data['pureTextdescription'] = leave_language_only(train_data.description.str.lower())\n",
    "train_data.info()"
   ]
  },
  {
   "cell_type": "code",
   "execution_count": 868,
   "metadata": {},
   "outputs": [
    {
     "data": {
      "text/html": [
       "<div>\n",
       "<style scoped>\n",
       "    .dataframe tbody tr th:only-of-type {\n",
       "        vertical-align: middle;\n",
       "    }\n",
       "\n",
       "    .dataframe tbody tr th {\n",
       "        vertical-align: top;\n",
       "    }\n",
       "\n",
       "    .dataframe thead th {\n",
       "        text-align: right;\n",
       "    }\n",
       "</style>\n",
       "<table border=\"1\" class=\"dataframe\">\n",
       "  <thead>\n",
       "    <tr style=\"text-align: right;\">\n",
       "      <th></th>\n",
       "      <th>description</th>\n",
       "      <th>pureTextdescription</th>\n",
       "    </tr>\n",
       "  </thead>\n",
       "  <tbody>\n",
       "    <tr>\n",
       "      <th>64345</th>\n",
       "      <td>Fresh apple and white floral aromas are dusted...</td>\n",
       "      <td>fresh apple and white floral aromas are dusted...</td>\n",
       "    </tr>\n",
       "    <tr>\n",
       "      <th>64630</th>\n",
       "      <td>A bit strong in those infamous feline aromas a...</td>\n",
       "      <td>a bit strong in those infamous feline aromas a...</td>\n",
       "    </tr>\n",
       "    <tr>\n",
       "      <th>30806</th>\n",
       "      <td>Dense packed earth and a wild edge make for a ...</td>\n",
       "      <td>dense packed earth and a wild edge make for a ...</td>\n",
       "    </tr>\n",
       "    <tr>\n",
       "      <th>6964</th>\n",
       "      <td>This is a medium-bodied gently balanced wine w...</td>\n",
       "      <td>this is a mediumbodied gently balanced wine wi...</td>\n",
       "    </tr>\n",
       "    <tr>\n",
       "      <th>5799</th>\n",
       "      <td>Horsey berry and vinegar aromas lack freshness...</td>\n",
       "      <td>horsey berry and vinegar aromas lack freshness...</td>\n",
       "    </tr>\n",
       "  </tbody>\n",
       "</table>\n",
       "</div>"
      ],
      "text/plain": [
       "                                             description  \\\n",
       "64345  Fresh apple and white floral aromas are dusted...   \n",
       "64630  A bit strong in those infamous feline aromas a...   \n",
       "30806  Dense packed earth and a wild edge make for a ...   \n",
       "6964   This is a medium-bodied gently balanced wine w...   \n",
       "5799   Horsey berry and vinegar aromas lack freshness...   \n",
       "\n",
       "                                     pureTextdescription  \n",
       "64345  fresh apple and white floral aromas are dusted...  \n",
       "64630  a bit strong in those infamous feline aromas a...  \n",
       "30806  dense packed earth and a wild edge make for a ...  \n",
       "6964   this is a mediumbodied gently balanced wine wi...  \n",
       "5799   horsey berry and vinegar aromas lack freshness...  "
      ]
     },
     "execution_count": 868,
     "metadata": {},
     "output_type": "execute_result"
    }
   ],
   "source": [
    "train_data[['description','pureTextdescription']].sample(5)"
   ]
  },
  {
   "cell_type": "code",
   "execution_count": 869,
   "metadata": {},
   "outputs": [
    {
     "data": {
      "text/plain": [
       "['i', 'me', 'my', 'myself', 'we', 'our', 'ours', 'ourselves', 'you', \"you're\"]"
      ]
     },
     "execution_count": 869,
     "metadata": {},
     "output_type": "execute_result"
    }
   ],
   "source": [
    "stopwords=nltk.corpus.stopwords.words(\"english\") + nltk.corpus.stopwords.words(\"italian\") + nltk.corpus.stopwords.words(\"spanish\")\n",
    "stopwords[:10]"
   ]
  },
  {
   "cell_type": "code",
   "execution_count": 870,
   "metadata": {},
   "outputs": [
    {
     "data": {
      "text/plain": [
       "['long',\n",
       " 'wood',\n",
       " 'aging',\n",
       " 'and',\n",
       " 'a',\n",
       " 'selection',\n",
       " 'of',\n",
       " 'grapes',\n",
       " 'from',\n",
       " 'old',\n",
       " 'vines',\n",
       " 'have',\n",
       " 'produced',\n",
       " 'this',\n",
       " 'firmly',\n",
       " 'structured',\n",
       " 'and',\n",
       " 'concentrated',\n",
       " 'wine',\n",
       " 'it',\n",
       " 'is',\n",
       " 'full',\n",
       " 'of',\n",
       " 'black',\n",
       " 'plumjelly',\n",
       " 'flavors',\n",
       " 'shot',\n",
       " 'through',\n",
       " 'with',\n",
       " 'acidity',\n",
       " 'a',\n",
       " 'solid',\n",
       " 'dry',\n",
       " 'core',\n",
       " 'promises',\n",
       " 'even',\n",
       " 'further',\n",
       " 'aging',\n",
       " 'at',\n",
       " 'the',\n",
       " 'end',\n",
       " 'acidity',\n",
       " 'gives',\n",
       " 'a',\n",
       " 'juicy',\n",
       " 'delicious',\n",
       " 'aftertaste',\n",
       " 'drink',\n",
       " 'from']"
      ]
     },
     "execution_count": 870,
     "metadata": {},
     "output_type": "execute_result"
    }
   ],
   "source": [
    "nltk.word_tokenize(train_data.pureTextdescription.iloc[0])"
   ]
  },
  {
   "cell_type": "code",
   "execution_count": 871,
   "metadata": {},
   "outputs": [],
   "source": [
    "all_words = [word for desc in train_data.pureTextdescription for word in nltk.word_tokenize(desc) if word.lower() not in stopwords] # Words without stop words"
   ]
  },
  {
   "cell_type": "code",
   "execution_count": 872,
   "metadata": {
    "tags": []
   },
   "outputs": [
    {
     "data": {
      "text/html": [
       "<div>\n",
       "<style scoped>\n",
       "    .dataframe tbody tr th:only-of-type {\n",
       "        vertical-align: middle;\n",
       "    }\n",
       "\n",
       "    .dataframe tbody tr th {\n",
       "        vertical-align: top;\n",
       "    }\n",
       "\n",
       "    .dataframe thead th {\n",
       "        text-align: right;\n",
       "    }\n",
       "</style>\n",
       "<table border=\"1\" class=\"dataframe\">\n",
       "  <thead>\n",
       "    <tr style=\"text-align: right;\">\n",
       "      <th></th>\n",
       "      <th>word</th>\n",
       "      <th>wordCount</th>\n",
       "      <th>wordImportance</th>\n",
       "    </tr>\n",
       "  </thead>\n",
       "  <tbody>\n",
       "    <tr>\n",
       "      <th>0</th>\n",
       "      <td>wine</td>\n",
       "      <td>50677</td>\n",
       "      <td>0.000015</td>\n",
       "    </tr>\n",
       "    <tr>\n",
       "      <th>1</th>\n",
       "      <td>flavors</td>\n",
       "      <td>40779</td>\n",
       "      <td>0.000018</td>\n",
       "    </tr>\n",
       "    <tr>\n",
       "      <th>2</th>\n",
       "      <td>fruit</td>\n",
       "      <td>29243</td>\n",
       "      <td>0.000025</td>\n",
       "    </tr>\n",
       "    <tr>\n",
       "      <th>3</th>\n",
       "      <td>aromas</td>\n",
       "      <td>25587</td>\n",
       "      <td>0.000029</td>\n",
       "    </tr>\n",
       "    <tr>\n",
       "      <th>4</th>\n",
       "      <td>palate</td>\n",
       "      <td>24549</td>\n",
       "      <td>0.000030</td>\n",
       "    </tr>\n",
       "  </tbody>\n",
       "</table>\n",
       "</div>"
      ],
      "text/plain": [
       "      word  wordCount  wordImportance\n",
       "0     wine      50677        0.000015\n",
       "1  flavors      40779        0.000018\n",
       "2    fruit      29243        0.000025\n",
       "3   aromas      25587        0.000029\n",
       "4   palate      24549        0.000030"
      ]
     },
     "execution_count": 872,
     "metadata": {},
     "output_type": "execute_result"
    }
   ],
   "source": [
    "words_df = pd.DataFrame(data = all_words, columns = ['word']).word.value_counts().reset_index()\n",
    "words_df.columns = ['word','wordCount']\n",
    "words_df['wordImportance'] = len(words_df) / words_df.wordCount / words_df.wordCount.max()\n",
    "words_df.head()"
   ]
  },
  {
   "cell_type": "code",
   "execution_count": 873,
   "metadata": {},
   "outputs": [
    {
     "data": {
      "application/vnd.plotly.v1+json": {
       "config": {
        "linkText": "Export to plot.ly",
        "plotlyServerURL": "https://plot.ly",
        "showLink": true
       },
       "data": [
        {
         "marker": {
          "color": "rgba(255, 153, 51, 0.6)",
          "line": {
           "color": "rgba(255, 153, 51, 1.0)",
           "width": 1
          }
         },
         "name": "wordCount",
         "orientation": "v",
         "text": "",
         "type": "bar",
         "x": [
          "wine",
          "flavors",
          "fruit",
          "aromas",
          "palate",
          "finish",
          "acidity",
          "tannins",
          "drink",
          "cherry",
          "ripe",
          "black",
          "notes",
          "red",
          "spice",
          "rich",
          "nose",
          "fresh",
          "oak",
          "dry"
         ],
         "y": [
          50677,
          40779,
          29243,
          25587,
          24549,
          22624,
          22515,
          19994,
          19216,
          17867,
          17366,
          16456,
          12353,
          12299,
          12192,
          11285,
          11068,
          11019,
          10865,
          10159
         ]
        }
       ],
       "layout": {
        "autosize": true,
        "legend": {
         "bgcolor": "#F5F6F9",
         "font": {
          "color": "#4D5663"
         }
        },
        "paper_bgcolor": "#F5F6F9",
        "plot_bgcolor": "#F5F6F9",
        "template": {
         "data": {
          "bar": [
           {
            "error_x": {
             "color": "#2a3f5f"
            },
            "error_y": {
             "color": "#2a3f5f"
            },
            "marker": {
             "line": {
              "color": "#E5ECF6",
              "width": 0.5
             },
             "pattern": {
              "fillmode": "overlay",
              "size": 10,
              "solidity": 0.2
             }
            },
            "type": "bar"
           }
          ],
          "barpolar": [
           {
            "marker": {
             "line": {
              "color": "#E5ECF6",
              "width": 0.5
             },
             "pattern": {
              "fillmode": "overlay",
              "size": 10,
              "solidity": 0.2
             }
            },
            "type": "barpolar"
           }
          ],
          "carpet": [
           {
            "aaxis": {
             "endlinecolor": "#2a3f5f",
             "gridcolor": "white",
             "linecolor": "white",
             "minorgridcolor": "white",
             "startlinecolor": "#2a3f5f"
            },
            "baxis": {
             "endlinecolor": "#2a3f5f",
             "gridcolor": "white",
             "linecolor": "white",
             "minorgridcolor": "white",
             "startlinecolor": "#2a3f5f"
            },
            "type": "carpet"
           }
          ],
          "choropleth": [
           {
            "colorbar": {
             "outlinewidth": 0,
             "ticks": ""
            },
            "type": "choropleth"
           }
          ],
          "contour": [
           {
            "colorbar": {
             "outlinewidth": 0,
             "ticks": ""
            },
            "colorscale": [
             [
              0,
              "#0d0887"
             ],
             [
              0.1111111111111111,
              "#46039f"
             ],
             [
              0.2222222222222222,
              "#7201a8"
             ],
             [
              0.3333333333333333,
              "#9c179e"
             ],
             [
              0.4444444444444444,
              "#bd3786"
             ],
             [
              0.5555555555555556,
              "#d8576b"
             ],
             [
              0.6666666666666666,
              "#ed7953"
             ],
             [
              0.7777777777777778,
              "#fb9f3a"
             ],
             [
              0.8888888888888888,
              "#fdca26"
             ],
             [
              1,
              "#f0f921"
             ]
            ],
            "type": "contour"
           }
          ],
          "contourcarpet": [
           {
            "colorbar": {
             "outlinewidth": 0,
             "ticks": ""
            },
            "type": "contourcarpet"
           }
          ],
          "heatmap": [
           {
            "colorbar": {
             "outlinewidth": 0,
             "ticks": ""
            },
            "colorscale": [
             [
              0,
              "#0d0887"
             ],
             [
              0.1111111111111111,
              "#46039f"
             ],
             [
              0.2222222222222222,
              "#7201a8"
             ],
             [
              0.3333333333333333,
              "#9c179e"
             ],
             [
              0.4444444444444444,
              "#bd3786"
             ],
             [
              0.5555555555555556,
              "#d8576b"
             ],
             [
              0.6666666666666666,
              "#ed7953"
             ],
             [
              0.7777777777777778,
              "#fb9f3a"
             ],
             [
              0.8888888888888888,
              "#fdca26"
             ],
             [
              1,
              "#f0f921"
             ]
            ],
            "type": "heatmap"
           }
          ],
          "heatmapgl": [
           {
            "colorbar": {
             "outlinewidth": 0,
             "ticks": ""
            },
            "colorscale": [
             [
              0,
              "#0d0887"
             ],
             [
              0.1111111111111111,
              "#46039f"
             ],
             [
              0.2222222222222222,
              "#7201a8"
             ],
             [
              0.3333333333333333,
              "#9c179e"
             ],
             [
              0.4444444444444444,
              "#bd3786"
             ],
             [
              0.5555555555555556,
              "#d8576b"
             ],
             [
              0.6666666666666666,
              "#ed7953"
             ],
             [
              0.7777777777777778,
              "#fb9f3a"
             ],
             [
              0.8888888888888888,
              "#fdca26"
             ],
             [
              1,
              "#f0f921"
             ]
            ],
            "type": "heatmapgl"
           }
          ],
          "histogram": [
           {
            "marker": {
             "pattern": {
              "fillmode": "overlay",
              "size": 10,
              "solidity": 0.2
             }
            },
            "type": "histogram"
           }
          ],
          "histogram2d": [
           {
            "colorbar": {
             "outlinewidth": 0,
             "ticks": ""
            },
            "colorscale": [
             [
              0,
              "#0d0887"
             ],
             [
              0.1111111111111111,
              "#46039f"
             ],
             [
              0.2222222222222222,
              "#7201a8"
             ],
             [
              0.3333333333333333,
              "#9c179e"
             ],
             [
              0.4444444444444444,
              "#bd3786"
             ],
             [
              0.5555555555555556,
              "#d8576b"
             ],
             [
              0.6666666666666666,
              "#ed7953"
             ],
             [
              0.7777777777777778,
              "#fb9f3a"
             ],
             [
              0.8888888888888888,
              "#fdca26"
             ],
             [
              1,
              "#f0f921"
             ]
            ],
            "type": "histogram2d"
           }
          ],
          "histogram2dcontour": [
           {
            "colorbar": {
             "outlinewidth": 0,
             "ticks": ""
            },
            "colorscale": [
             [
              0,
              "#0d0887"
             ],
             [
              0.1111111111111111,
              "#46039f"
             ],
             [
              0.2222222222222222,
              "#7201a8"
             ],
             [
              0.3333333333333333,
              "#9c179e"
             ],
             [
              0.4444444444444444,
              "#bd3786"
             ],
             [
              0.5555555555555556,
              "#d8576b"
             ],
             [
              0.6666666666666666,
              "#ed7953"
             ],
             [
              0.7777777777777778,
              "#fb9f3a"
             ],
             [
              0.8888888888888888,
              "#fdca26"
             ],
             [
              1,
              "#f0f921"
             ]
            ],
            "type": "histogram2dcontour"
           }
          ],
          "mesh3d": [
           {
            "colorbar": {
             "outlinewidth": 0,
             "ticks": ""
            },
            "type": "mesh3d"
           }
          ],
          "parcoords": [
           {
            "line": {
             "colorbar": {
              "outlinewidth": 0,
              "ticks": ""
             }
            },
            "type": "parcoords"
           }
          ],
          "pie": [
           {
            "automargin": true,
            "type": "pie"
           }
          ],
          "scatter": [
           {
            "marker": {
             "colorbar": {
              "outlinewidth": 0,
              "ticks": ""
             }
            },
            "type": "scatter"
           }
          ],
          "scatter3d": [
           {
            "line": {
             "colorbar": {
              "outlinewidth": 0,
              "ticks": ""
             }
            },
            "marker": {
             "colorbar": {
              "outlinewidth": 0,
              "ticks": ""
             }
            },
            "type": "scatter3d"
           }
          ],
          "scattercarpet": [
           {
            "marker": {
             "colorbar": {
              "outlinewidth": 0,
              "ticks": ""
             }
            },
            "type": "scattercarpet"
           }
          ],
          "scattergeo": [
           {
            "marker": {
             "colorbar": {
              "outlinewidth": 0,
              "ticks": ""
             }
            },
            "type": "scattergeo"
           }
          ],
          "scattergl": [
           {
            "marker": {
             "colorbar": {
              "outlinewidth": 0,
              "ticks": ""
             }
            },
            "type": "scattergl"
           }
          ],
          "scattermapbox": [
           {
            "marker": {
             "colorbar": {
              "outlinewidth": 0,
              "ticks": ""
             }
            },
            "type": "scattermapbox"
           }
          ],
          "scatterpolar": [
           {
            "marker": {
             "colorbar": {
              "outlinewidth": 0,
              "ticks": ""
             }
            },
            "type": "scatterpolar"
           }
          ],
          "scatterpolargl": [
           {
            "marker": {
             "colorbar": {
              "outlinewidth": 0,
              "ticks": ""
             }
            },
            "type": "scatterpolargl"
           }
          ],
          "scatterternary": [
           {
            "marker": {
             "colorbar": {
              "outlinewidth": 0,
              "ticks": ""
             }
            },
            "type": "scatterternary"
           }
          ],
          "surface": [
           {
            "colorbar": {
             "outlinewidth": 0,
             "ticks": ""
            },
            "colorscale": [
             [
              0,
              "#0d0887"
             ],
             [
              0.1111111111111111,
              "#46039f"
             ],
             [
              0.2222222222222222,
              "#7201a8"
             ],
             [
              0.3333333333333333,
              "#9c179e"
             ],
             [
              0.4444444444444444,
              "#bd3786"
             ],
             [
              0.5555555555555556,
              "#d8576b"
             ],
             [
              0.6666666666666666,
              "#ed7953"
             ],
             [
              0.7777777777777778,
              "#fb9f3a"
             ],
             [
              0.8888888888888888,
              "#fdca26"
             ],
             [
              1,
              "#f0f921"
             ]
            ],
            "type": "surface"
           }
          ],
          "table": [
           {
            "cells": {
             "fill": {
              "color": "#EBF0F8"
             },
             "line": {
              "color": "white"
             }
            },
            "header": {
             "fill": {
              "color": "#C8D4E3"
             },
             "line": {
              "color": "white"
             }
            },
            "type": "table"
           }
          ]
         },
         "layout": {
          "annotationdefaults": {
           "arrowcolor": "#2a3f5f",
           "arrowhead": 0,
           "arrowwidth": 1
          },
          "autotypenumbers": "strict",
          "coloraxis": {
           "colorbar": {
            "outlinewidth": 0,
            "ticks": ""
           }
          },
          "colorscale": {
           "diverging": [
            [
             0,
             "#8e0152"
            ],
            [
             0.1,
             "#c51b7d"
            ],
            [
             0.2,
             "#de77ae"
            ],
            [
             0.3,
             "#f1b6da"
            ],
            [
             0.4,
             "#fde0ef"
            ],
            [
             0.5,
             "#f7f7f7"
            ],
            [
             0.6,
             "#e6f5d0"
            ],
            [
             0.7,
             "#b8e186"
            ],
            [
             0.8,
             "#7fbc41"
            ],
            [
             0.9,
             "#4d9221"
            ],
            [
             1,
             "#276419"
            ]
           ],
           "sequential": [
            [
             0,
             "#0d0887"
            ],
            [
             0.1111111111111111,
             "#46039f"
            ],
            [
             0.2222222222222222,
             "#7201a8"
            ],
            [
             0.3333333333333333,
             "#9c179e"
            ],
            [
             0.4444444444444444,
             "#bd3786"
            ],
            [
             0.5555555555555556,
             "#d8576b"
            ],
            [
             0.6666666666666666,
             "#ed7953"
            ],
            [
             0.7777777777777778,
             "#fb9f3a"
            ],
            [
             0.8888888888888888,
             "#fdca26"
            ],
            [
             1,
             "#f0f921"
            ]
           ],
           "sequentialminus": [
            [
             0,
             "#0d0887"
            ],
            [
             0.1111111111111111,
             "#46039f"
            ],
            [
             0.2222222222222222,
             "#7201a8"
            ],
            [
             0.3333333333333333,
             "#9c179e"
            ],
            [
             0.4444444444444444,
             "#bd3786"
            ],
            [
             0.5555555555555556,
             "#d8576b"
            ],
            [
             0.6666666666666666,
             "#ed7953"
            ],
            [
             0.7777777777777778,
             "#fb9f3a"
            ],
            [
             0.8888888888888888,
             "#fdca26"
            ],
            [
             1,
             "#f0f921"
            ]
           ]
          },
          "colorway": [
           "#636efa",
           "#EF553B",
           "#00cc96",
           "#ab63fa",
           "#FFA15A",
           "#19d3f3",
           "#FF6692",
           "#B6E880",
           "#FF97FF",
           "#FECB52"
          ],
          "font": {
           "color": "#2a3f5f"
          },
          "geo": {
           "bgcolor": "white",
           "lakecolor": "white",
           "landcolor": "#E5ECF6",
           "showlakes": true,
           "showland": true,
           "subunitcolor": "white"
          },
          "hoverlabel": {
           "align": "left"
          },
          "hovermode": "closest",
          "mapbox": {
           "style": "light"
          },
          "paper_bgcolor": "white",
          "plot_bgcolor": "#E5ECF6",
          "polar": {
           "angularaxis": {
            "gridcolor": "white",
            "linecolor": "white",
            "ticks": ""
           },
           "bgcolor": "#E5ECF6",
           "radialaxis": {
            "gridcolor": "white",
            "linecolor": "white",
            "ticks": ""
           }
          },
          "scene": {
           "xaxis": {
            "backgroundcolor": "#E5ECF6",
            "gridcolor": "white",
            "gridwidth": 2,
            "linecolor": "white",
            "showbackground": true,
            "ticks": "",
            "zerolinecolor": "white"
           },
           "yaxis": {
            "backgroundcolor": "#E5ECF6",
            "gridcolor": "white",
            "gridwidth": 2,
            "linecolor": "white",
            "showbackground": true,
            "ticks": "",
            "zerolinecolor": "white"
           },
           "zaxis": {
            "backgroundcolor": "#E5ECF6",
            "gridcolor": "white",
            "gridwidth": 2,
            "linecolor": "white",
            "showbackground": true,
            "ticks": "",
            "zerolinecolor": "white"
           }
          },
          "shapedefaults": {
           "line": {
            "color": "#2a3f5f"
           }
          },
          "ternary": {
           "aaxis": {
            "gridcolor": "white",
            "linecolor": "white",
            "ticks": ""
           },
           "baxis": {
            "gridcolor": "white",
            "linecolor": "white",
            "ticks": ""
           },
           "bgcolor": "#E5ECF6",
           "caxis": {
            "gridcolor": "white",
            "linecolor": "white",
            "ticks": ""
           }
          },
          "title": {
           "x": 0.05
          },
          "xaxis": {
           "automargin": true,
           "gridcolor": "white",
           "linecolor": "white",
           "ticks": "",
           "title": {
            "standoff": 15
           },
           "zerolinecolor": "white",
           "zerolinewidth": 2
          },
          "yaxis": {
           "automargin": true,
           "gridcolor": "white",
           "linecolor": "white",
           "ticks": "",
           "title": {
            "standoff": 15
           },
           "zerolinecolor": "white",
           "zerolinewidth": 2
          }
         }
        },
        "title": {
         "font": {
          "color": "#4D5663"
         },
         "text": "Most frequent words in Corpus"
        },
        "xaxis": {
         "autorange": true,
         "gridcolor": "#E1E5ED",
         "range": [
          -0.5,
          19.5
         ],
         "showgrid": true,
         "tickfont": {
          "color": "#4D5663"
         },
         "title": {
          "font": {
           "color": "#4D5663"
          },
          "text": "Word"
         },
         "type": "category",
         "zerolinecolor": "#E1E5ED"
        },
        "yaxis": {
         "autorange": true,
         "gridcolor": "#E1E5ED",
         "range": [
          0,
          53344.21052631579
         ],
         "showgrid": true,
         "tickfont": {
          "color": "#4D5663"
         },
         "title": {
          "font": {
           "color": "#4D5663"
          },
          "text": "Count"
         },
         "type": "linear",
         "zerolinecolor": "#E1E5ED"
        }
       }
      },
      "image/png": "[encoded data removed]",
      "text/html": [
       "<div>                            <div id=\"e7caf4dd-2f08-48be-9dd9-8de005c8f67c\" class=\"plotly-graph-div\" style=\"height:525px; width:100%;\"></div>            <script type=\"text/javascript\">                require([\"plotly\"], function(Plotly) {                    window.PLOTLYENV=window.PLOTLYENV || {};\n",
       "                    window.PLOTLYENV.BASE_URL='https://plot.ly';                                    if (document.getElementById(\"e7caf4dd-2f08-48be-9dd9-8de005c8f67c\")) {                    Plotly.newPlot(                        \"e7caf4dd-2f08-48be-9dd9-8de005c8f67c\",                        [{\"marker\":{\"color\":\"rgba(255, 153, 51, 0.6)\",\"line\":{\"color\":\"rgba(255, 153, 51, 1.0)\",\"width\":1}},\"name\":\"wordCount\",\"orientation\":\"v\",\"text\":\"\",\"x\":[\"wine\",\"flavors\",\"fruit\",\"aromas\",\"palate\",\"finish\",\"acidity\",\"tannins\",\"drink\",\"cherry\",\"ripe\",\"black\",\"notes\",\"red\",\"spice\",\"rich\",\"nose\",\"fresh\",\"oak\",\"dry\"],\"y\":[50677,40779,29243,25587,24549,22624,22515,19994,19216,17867,17366,16456,12353,12299,12192,11285,11068,11019,10865,10159],\"type\":\"bar\"}],                        {\"legend\":{\"bgcolor\":\"#F5F6F9\",\"font\":{\"color\":\"#4D5663\"}},\"paper_bgcolor\":\"#F5F6F9\",\"plot_bgcolor\":\"#F5F6F9\",\"template\":{\"data\":{\"barpolar\":[{\"marker\":{\"line\":{\"color\":\"#E5ECF6\",\"width\":0.5},\"pattern\":{\"fillmode\":\"overlay\",\"size\":10,\"solidity\":0.2}},\"type\":\"barpolar\"}],\"bar\":[{\"error_x\":{\"color\":\"#2a3f5f\"},\"error_y\":{\"color\":\"#2a3f5f\"},\"marker\":{\"line\":{\"color\":\"#E5ECF6\",\"width\":0.5},\"pattern\":{\"fillmode\":\"overlay\",\"size\":10,\"solidity\":0.2}},\"type\":\"bar\"}],\"carpet\":[{\"aaxis\":{\"endlinecolor\":\"#2a3f5f\",\"gridcolor\":\"white\",\"linecolor\":\"white\",\"minorgridcolor\":\"white\",\"startlinecolor\":\"#2a3f5f\"},\"baxis\":{\"endlinecolor\":\"#2a3f5f\",\"gridcolor\":\"white\",\"linecolor\":\"white\",\"minorgridcolor\":\"white\",\"startlinecolor\":\"#2a3f5f\"},\"type\":\"carpet\"}],\"choropleth\":[{\"colorbar\":{\"outlinewidth\":0,\"ticks\":\"\"},\"type\":\"choropleth\"}],\"contourcarpet\":[{\"colorbar\":{\"outlinewidth\":0,\"ticks\":\"\"},\"type\":\"contourcarpet\"}],\"contour\":[{\"colorbar\":{\"outlinewidth\":0,\"ticks\":\"\"},\"colorscale\":[[0.0,\"#0d0887\"],[0.1111111111111111,\"#46039f\"],[0.2222222222222222,\"#7201a8\"],[0.3333333333333333,\"#9c179e\"],[0.4444444444444444,\"#bd3786\"],[0.5555555555555556,\"#d8576b\"],[0.6666666666666666,\"#ed7953\"],[0.7777777777777778,\"#fb9f3a\"],[0.8888888888888888,\"#fdca26\"],[1.0,\"#f0f921\"]],\"type\":\"contour\"}],\"heatmapgl\":[{\"colorbar\":{\"outlinewidth\":0,\"ticks\":\"\"},\"colorscale\":[[0.0,\"#0d0887\"],[0.1111111111111111,\"#46039f\"],[0.2222222222222222,\"#7201a8\"],[0.3333333333333333,\"#9c179e\"],[0.4444444444444444,\"#bd3786\"],[0.5555555555555556,\"#d8576b\"],[0.6666666666666666,\"#ed7953\"],[0.7777777777777778,\"#fb9f3a\"],[0.8888888888888888,\"#fdca26\"],[1.0,\"#f0f921\"]],\"type\":\"heatmapgl\"}],\"heatmap\":[{\"colorbar\":{\"outlinewidth\":0,\"ticks\":\"\"},\"colorscale\":[[0.0,\"#0d0887\"],[0.1111111111111111,\"#46039f\"],[0.2222222222222222,\"#7201a8\"],[0.3333333333333333,\"#9c179e\"],[0.4444444444444444,\"#bd3786\"],[0.5555555555555556,\"#d8576b\"],[0.6666666666666666,\"#ed7953\"],[0.7777777777777778,\"#fb9f3a\"],[0.8888888888888888,\"#fdca26\"],[1.0,\"#f0f921\"]],\"type\":\"heatmap\"}],\"histogram2dcontour\":[{\"colorbar\":{\"outlinewidth\":0,\"ticks\":\"\"},\"colorscale\":[[0.0,\"#0d0887\"],[0.1111111111111111,\"#46039f\"],[0.2222222222222222,\"#7201a8\"],[0.3333333333333333,\"#9c179e\"],[0.4444444444444444,\"#bd3786\"],[0.5555555555555556,\"#d8576b\"],[0.6666666666666666,\"#ed7953\"],[0.7777777777777778,\"#fb9f3a\"],[0.8888888888888888,\"#fdca26\"],[1.0,\"#f0f921\"]],\"type\":\"histogram2dcontour\"}],\"histogram2d\":[{\"colorbar\":{\"outlinewidth\":0,\"ticks\":\"\"},\"colorscale\":[[0.0,\"#0d0887\"],[0.1111111111111111,\"#46039f\"],[0.2222222222222222,\"#7201a8\"],[0.3333333333333333,\"#9c179e\"],[0.4444444444444444,\"#bd3786\"],[0.5555555555555556,\"#d8576b\"],[0.6666666666666666,\"#ed7953\"],[0.7777777777777778,\"#fb9f3a\"],[0.8888888888888888,\"#fdca26\"],[1.0,\"#f0f921\"]],\"type\":\"histogram2d\"}],\"histogram\":[{\"marker\":{\"pattern\":{\"fillmode\":\"overlay\",\"size\":10,\"solidity\":0.2}},\"type\":\"histogram\"}],\"mesh3d\":[{\"colorbar\":{\"outlinewidth\":0,\"ticks\":\"\"},\"type\":\"mesh3d\"}],\"parcoords\":[{\"line\":{\"colorbar\":{\"outlinewidth\":0,\"ticks\":\"\"}},\"type\":\"parcoords\"}],\"pie\":[{\"automargin\":true,\"type\":\"pie\"}],\"scatter3d\":[{\"line\":{\"colorbar\":{\"outlinewidth\":0,\"ticks\":\"\"}},\"marker\":{\"colorbar\":{\"outlinewidth\":0,\"ticks\":\"\"}},\"type\":\"scatter3d\"}],\"scattercarpet\":[{\"marker\":{\"colorbar\":{\"outlinewidth\":0,\"ticks\":\"\"}},\"type\":\"scattercarpet\"}],\"scattergeo\":[{\"marker\":{\"colorbar\":{\"outlinewidth\":0,\"ticks\":\"\"}},\"type\":\"scattergeo\"}],\"scattergl\":[{\"marker\":{\"colorbar\":{\"outlinewidth\":0,\"ticks\":\"\"}},\"type\":\"scattergl\"}],\"scattermapbox\":[{\"marker\":{\"colorbar\":{\"outlinewidth\":0,\"ticks\":\"\"}},\"type\":\"scattermapbox\"}],\"scatterpolargl\":[{\"marker\":{\"colorbar\":{\"outlinewidth\":0,\"ticks\":\"\"}},\"type\":\"scatterpolargl\"}],\"scatterpolar\":[{\"marker\":{\"colorbar\":{\"outlinewidth\":0,\"ticks\":\"\"}},\"type\":\"scatterpolar\"}],\"scatter\":[{\"marker\":{\"colorbar\":{\"outlinewidth\":0,\"ticks\":\"\"}},\"type\":\"scatter\"}],\"scatterternary\":[{\"marker\":{\"colorbar\":{\"outlinewidth\":0,\"ticks\":\"\"}},\"type\":\"scatterternary\"}],\"surface\":[{\"colorbar\":{\"outlinewidth\":0,\"ticks\":\"\"},\"colorscale\":[[0.0,\"#0d0887\"],[0.1111111111111111,\"#46039f\"],[0.2222222222222222,\"#7201a8\"],[0.3333333333333333,\"#9c179e\"],[0.4444444444444444,\"#bd3786\"],[0.5555555555555556,\"#d8576b\"],[0.6666666666666666,\"#ed7953\"],[0.7777777777777778,\"#fb9f3a\"],[0.8888888888888888,\"#fdca26\"],[1.0,\"#f0f921\"]],\"type\":\"surface\"}],\"table\":[{\"cells\":{\"fill\":{\"color\":\"#EBF0F8\"},\"line\":{\"color\":\"white\"}},\"header\":{\"fill\":{\"color\":\"#C8D4E3\"},\"line\":{\"color\":\"white\"}},\"type\":\"table\"}]},\"layout\":{\"annotationdefaults\":{\"arrowcolor\":\"#2a3f5f\",\"arrowhead\":0,\"arrowwidth\":1},\"autotypenumbers\":\"strict\",\"coloraxis\":{\"colorbar\":{\"outlinewidth\":0,\"ticks\":\"\"}},\"colorscale\":{\"diverging\":[[0,\"#8e0152\"],[0.1,\"#c51b7d\"],[0.2,\"#de77ae\"],[0.3,\"#f1b6da\"],[0.4,\"#fde0ef\"],[0.5,\"#f7f7f7\"],[0.6,\"#e6f5d0\"],[0.7,\"#b8e186\"],[0.8,\"#7fbc41\"],[0.9,\"#4d9221\"],[1,\"#276419\"]],\"sequential\":[[0.0,\"#0d0887\"],[0.1111111111111111,\"#46039f\"],[0.2222222222222222,\"#7201a8\"],[0.3333333333333333,\"#9c179e\"],[0.4444444444444444,\"#bd3786\"],[0.5555555555555556,\"#d8576b\"],[0.6666666666666666,\"#ed7953\"],[0.7777777777777778,\"#fb9f3a\"],[0.8888888888888888,\"#fdca26\"],[1.0,\"#f0f921\"]],\"sequentialminus\":[[0.0,\"#0d0887\"],[0.1111111111111111,\"#46039f\"],[0.2222222222222222,\"#7201a8\"],[0.3333333333333333,\"#9c179e\"],[0.4444444444444444,\"#bd3786\"],[0.5555555555555556,\"#d8576b\"],[0.6666666666666666,\"#ed7953\"],[0.7777777777777778,\"#fb9f3a\"],[0.8888888888888888,\"#fdca26\"],[1.0,\"#f0f921\"]]},\"colorway\":[\"#636efa\",\"#EF553B\",\"#00cc96\",\"#ab63fa\",\"#FFA15A\",\"#19d3f3\",\"#FF6692\",\"#B6E880\",\"#FF97FF\",\"#FECB52\"],\"font\":{\"color\":\"#2a3f5f\"},\"geo\":{\"bgcolor\":\"white\",\"lakecolor\":\"white\",\"landcolor\":\"#E5ECF6\",\"showlakes\":true,\"showland\":true,\"subunitcolor\":\"white\"},\"hoverlabel\":{\"align\":\"left\"},\"hovermode\":\"closest\",\"mapbox\":{\"style\":\"light\"},\"paper_bgcolor\":\"white\",\"plot_bgcolor\":\"#E5ECF6\",\"polar\":{\"angularaxis\":{\"gridcolor\":\"white\",\"linecolor\":\"white\",\"ticks\":\"\"},\"bgcolor\":\"#E5ECF6\",\"radialaxis\":{\"gridcolor\":\"white\",\"linecolor\":\"white\",\"ticks\":\"\"}},\"scene\":{\"xaxis\":{\"backgroundcolor\":\"#E5ECF6\",\"gridcolor\":\"white\",\"gridwidth\":2,\"linecolor\":\"white\",\"showbackground\":true,\"ticks\":\"\",\"zerolinecolor\":\"white\"},\"yaxis\":{\"backgroundcolor\":\"#E5ECF6\",\"gridcolor\":\"white\",\"gridwidth\":2,\"linecolor\":\"white\",\"showbackground\":true,\"ticks\":\"\",\"zerolinecolor\":\"white\"},\"zaxis\":{\"backgroundcolor\":\"#E5ECF6\",\"gridcolor\":\"white\",\"gridwidth\":2,\"linecolor\":\"white\",\"showbackground\":true,\"ticks\":\"\",\"zerolinecolor\":\"white\"}},\"shapedefaults\":{\"line\":{\"color\":\"#2a3f5f\"}},\"ternary\":{\"aaxis\":{\"gridcolor\":\"white\",\"linecolor\":\"white\",\"ticks\":\"\"},\"baxis\":{\"gridcolor\":\"white\",\"linecolor\":\"white\",\"ticks\":\"\"},\"bgcolor\":\"#E5ECF6\",\"caxis\":{\"gridcolor\":\"white\",\"linecolor\":\"white\",\"ticks\":\"\"}},\"title\":{\"x\":0.05},\"xaxis\":{\"automargin\":true,\"gridcolor\":\"white\",\"linecolor\":\"white\",\"ticks\":\"\",\"title\":{\"standoff\":15},\"zerolinecolor\":\"white\",\"zerolinewidth\":2},\"yaxis\":{\"automargin\":true,\"gridcolor\":\"white\",\"linecolor\":\"white\",\"ticks\":\"\",\"title\":{\"standoff\":15},\"zerolinecolor\":\"white\",\"zerolinewidth\":2}}},\"title\":{\"font\":{\"color\":\"#4D5663\"},\"text\":\"Most frequent words in Corpus\"},\"xaxis\":{\"gridcolor\":\"#E1E5ED\",\"showgrid\":true,\"tickfont\":{\"color\":\"#4D5663\"},\"title\":{\"font\":{\"color\":\"#4D5663\"},\"text\":\"Word\"},\"zerolinecolor\":\"#E1E5ED\"},\"yaxis\":{\"gridcolor\":\"#E1E5ED\",\"showgrid\":true,\"tickfont\":{\"color\":\"#4D5663\"},\"title\":{\"font\":{\"color\":\"#4D5663\"},\"text\":\"Count\"},\"zerolinecolor\":\"#E1E5ED\"}},                        {\"showLink\": true, \"linkText\": \"Export to plot.ly\", \"plotlyServerURL\": \"https://plot.ly\", \"responsive\": true}                    ).then(function(){\n",
       "                            \n",
       "var gd = document.getElementById('e7caf4dd-2f08-48be-9dd9-8de005c8f67c');\n",
       "var x = new MutationObserver(function (mutations, observer) {{\n",
       "        var display = window.getComputedStyle(gd).display;\n",
       "        if (!display || display === 'none') {{\n",
       "            console.log([gd, 'removed!']);\n",
       "            Plotly.purge(gd);\n",
       "            observer.disconnect();\n",
       "        }}\n",
       "}});\n",
       "\n",
       "// Listen for the removal of the full notebook cells\n",
       "var notebookContainer = gd.closest('#notebook-container');\n",
       "if (notebookContainer) {{\n",
       "    x.observe(notebookContainer, {childList: true});\n",
       "}}\n",
       "\n",
       "// Listen for the clearing of the current output cell\n",
       "var outputEl = gd.closest('.output');\n",
       "if (outputEl) {{\n",
       "    x.observe(outputEl, {childList: true});\n",
       "}}\n",
       "\n",
       "                        })                };                });            </script>        </div>"
      ]
     },
     "metadata": {},
     "output_type": "display_data"
    }
   ],
   "source": [
    "words_df.set_index('word').wordCount.head(20).iplot(kind = 'bar', title = 'Most frequent words in Corpus', yTitle = 'Count', xTitle = 'Word')"
   ]
  },
  {
   "cell_type": "code",
   "execution_count": 874,
   "metadata": {},
   "outputs": [
    {
     "name": "stdout",
     "output_type": "stream",
     "text": [
      "Total of 2080304 words, 37675 unique words\n"
     ]
    }
   ],
   "source": [
    "print(\"Total of {} words, {} unique words\".format(len(all_words), len(words_df)))"
   ]
  },
  {
   "cell_type": "code",
   "execution_count": 875,
   "metadata": {},
   "outputs": [
    {
     "name": "stdout",
     "output_type": "stream",
     "text": [
      "Using words with 5 or more appearnces will reduce the corpus size to: 11051\n"
     ]
    }
   ],
   "source": [
    "print (\"Using words with 5 or more appearnces will reduce the corpus size to: {}\".format(sum(words_df.wordCount >= 5)))"
   ]
  },
  {
   "cell_type": "code",
   "execution_count": 876,
   "metadata": {
    "tags": []
   },
   "outputs": [],
   "source": [
    "words_df = words_df[words_df.wordCount >= 5]"
   ]
  },
  {
   "cell_type": "markdown",
   "metadata": {},
   "source": [
    "#### train data- Bag of words "
   ]
  },
  {
   "cell_type": "code",
   "execution_count": 70,
   "metadata": {},
   "outputs": [],
   "source": [
    "from sklearn.feature_extraction.text import CountVectorizer\n",
    "from sklearn.feature_extraction.text import TfidfVectorizer"
   ]
  },
  {
   "cell_type": "code",
   "execution_count": 878,
   "metadata": {
    "tags": []
   },
   "outputs": [
    {
     "data": {
      "text/plain": [
       "(84658, 11051)"
      ]
     },
     "execution_count": 878,
     "metadata": {},
     "output_type": "execute_result"
    }
   ],
   "source": [
    "clean_vocab = set(words_df.word)\n",
    "count_vect = CountVectorizer(vocabulary = clean_vocab, tokenizer=nltk.word_tokenize)\n",
    "clean_bow_counts_train = count_vect.fit_transform(train_data.pureTextdescription)\n",
    "clean_bow_counts_train.shape"
   ]
  },
  {
   "cell_type": "markdown",
   "metadata": {},
   "source": [
    "##### exemple from the train data"
   ]
  },
  {
   "cell_type": "code",
   "execution_count": 879,
   "metadata": {},
   "outputs": [
    {
     "data": {
      "text/plain": [
       "'this wine comes from less than an acre in mâcons smallest appellation  the result is a tight wine with a steely edge  strong citrus and crisp apple flavors are lifted by the nervy acidity and finished with a shot of lemon juice  let this wine calm down and drink from '"
      ]
     },
     "execution_count": 879,
     "metadata": {},
     "output_type": "execute_result"
    }
   ],
   "source": [
    "train_data.iloc[1].pureTextdescription"
   ]
  },
  {
   "cell_type": "code",
   "execution_count": 880,
   "metadata": {},
   "outputs": [
    {
     "name": "stdout",
     "output_type": "stream",
     "text": [
      "  (0, 65)\t1\n",
      "  (0, 73)\t1\n",
      "  (0, 371)\t1\n",
      "  (0, 378)\t1\n",
      "  (0, 1360)\t1\n",
      "  (0, 1769)\t1\n",
      "  (0, 1962)\t1\n",
      "  (0, 2339)\t1\n",
      "  (0, 2898)\t1\n",
      "  (0, 3015)\t1\n",
      "  (0, 3593)\t1\n",
      "  (0, 3661)\t1\n",
      "  (0, 5060)\t1\n",
      "  (0, 5319)\t1\n",
      "  (0, 5345)\t1\n",
      "  (0, 5350)\t1\n",
      "  (0, 5379)\t1\n",
      "  (0, 6364)\t1\n",
      "  (0, 7965)\t1\n",
      "  (0, 8674)\t1\n",
      "  (0, 8862)\t1\n",
      "  (0, 9213)\t1\n",
      "  (0, 9332)\t1\n",
      "  (0, 9888)\t1\n",
      "  (0, 10849)\t3\n"
     ]
    }
   ],
   "source": [
    "print(clean_bow_counts_train[1])"
   ]
  },
  {
   "cell_type": "code",
   "execution_count": 881,
   "metadata": {
    "tags": []
   },
   "outputs": [
    {
     "name": "stdout",
     "output_type": "stream",
     "text": [
      "inzolia\n",
      "steer\n",
      "tame\n",
      "wooly\n"
     ]
    }
   ],
   "source": [
    "rev_dict = {v:k for k,v in count_vect.vocabulary_.items()}\n",
    "print(rev_dict[4958])\n",
    "print(rev_dict[9218])\n",
    "print(rev_dict[9636])\n",
    "print(rev_dict[10920])"
   ]
  },
  {
   "cell_type": "markdown",
   "metadata": {
    "tags": []
   },
   "source": [
    "#### test data- Bag of words "
   ]
  },
  {
   "cell_type": "code",
   "execution_count": 882,
   "metadata": {},
   "outputs": [
    {
     "name": "stdout",
     "output_type": "stream",
     "text": [
      "<class 'pandas.core.frame.DataFrame'>\n",
      "Int64Index: 21164 entries, 4 to 119983\n",
      "Data columns (total 18 columns):\n",
      " #   Column                       Non-Null Count  Dtype  \n",
      "---  ------                       --------------  -----  \n",
      " 0   country                      21156 non-null  object \n",
      " 1   description                  21164 non-null  object \n",
      " 2   designation                  15096 non-null  object \n",
      " 3   points                       21164 non-null  int64  \n",
      " 4   price                        19635 non-null  float64\n",
      " 5   province                     21156 non-null  object \n",
      " 6   region_1                     17737 non-null  object \n",
      " 7   region_2                     8112 non-null   object \n",
      " 8   taster_name                  16870 non-null  object \n",
      " 9   taster_twitter_handle        16082 non-null  object \n",
      " 10  title                        21164 non-null  object \n",
      " 11  variety                      21164 non-null  object \n",
      " 12  winery                       21164 non-null  object \n",
      " 13  normalized points            21164 non-null  float64\n",
      " 14  years                        21164 non-null  float64\n",
      " 15  basiline_1_predicted_points  21164 non-null  float64\n",
      " 16  basiline_2_predicted_points  21164 non-null  float64\n",
      " 17  pureTextdescription          21164 non-null  object \n",
      "dtypes: float64(5), int64(1), object(12)\n",
      "memory usage: 3.6+ MB\n"
     ]
    }
   ],
   "source": [
    "test_data['pureTextdescription'] = leave_language_only(test_data.description.str.lower())\n",
    "test_data.info()"
   ]
  },
  {
   "cell_type": "code",
   "execution_count": 883,
   "metadata": {},
   "outputs": [
    {
     "data": {
      "text/html": [
       "<div>\n",
       "<style scoped>\n",
       "    .dataframe tbody tr th:only-of-type {\n",
       "        vertical-align: middle;\n",
       "    }\n",
       "\n",
       "    .dataframe tbody tr th {\n",
       "        vertical-align: top;\n",
       "    }\n",
       "\n",
       "    .dataframe thead th {\n",
       "        text-align: right;\n",
       "    }\n",
       "</style>\n",
       "<table border=\"1\" class=\"dataframe\">\n",
       "  <thead>\n",
       "    <tr style=\"text-align: right;\">\n",
       "      <th></th>\n",
       "      <th>description</th>\n",
       "      <th>pureTextdescription</th>\n",
       "    </tr>\n",
       "  </thead>\n",
       "  <tbody>\n",
       "    <tr>\n",
       "      <th>84975</th>\n",
       "      <td>Like all good passito dessert wines made from ...</td>\n",
       "      <td>like all good passito dessert wines made from ...</td>\n",
       "    </tr>\n",
       "    <tr>\n",
       "      <th>73727</th>\n",
       "      <td>A smoothly textured, wood-aged wine, richly fl...</td>\n",
       "      <td>a smoothly textured  woodaged wine  richly fla...</td>\n",
       "    </tr>\n",
       "    <tr>\n",
       "      <th>91602</th>\n",
       "      <td>A medium-sweet wine, with a light prickle on t...</td>\n",
       "      <td>a mediumsweet wine  with a light prickle on to...</td>\n",
       "    </tr>\n",
       "    <tr>\n",
       "      <th>55271</th>\n",
       "      <td>It's a ripe wood-aged wine, showing a full bod...</td>\n",
       "      <td>its a ripe woodaged wine  showing a full body ...</td>\n",
       "    </tr>\n",
       "    <tr>\n",
       "      <th>89982</th>\n",
       "      <td>Concentrated and spicy, this is full of genero...</td>\n",
       "      <td>concentrated and spicy  this is full of genero...</td>\n",
       "    </tr>\n",
       "  </tbody>\n",
       "</table>\n",
       "</div>"
      ],
      "text/plain": [
       "                                             description  \\\n",
       "84975  Like all good passito dessert wines made from ...   \n",
       "73727  A smoothly textured, wood-aged wine, richly fl...   \n",
       "91602  A medium-sweet wine, with a light prickle on t...   \n",
       "55271  It's a ripe wood-aged wine, showing a full bod...   \n",
       "89982  Concentrated and spicy, this is full of genero...   \n",
       "\n",
       "                                     pureTextdescription  \n",
       "84975  like all good passito dessert wines made from ...  \n",
       "73727  a smoothly textured  woodaged wine  richly fla...  \n",
       "91602  a mediumsweet wine  with a light prickle on to...  \n",
       "55271  its a ripe woodaged wine  showing a full body ...  \n",
       "89982  concentrated and spicy  this is full of genero...  "
      ]
     },
     "execution_count": 883,
     "metadata": {},
     "output_type": "execute_result"
    }
   ],
   "source": [
    "test_data[['description','pureTextdescription']].sample(5)"
   ]
  },
  {
   "cell_type": "code",
   "execution_count": 884,
   "metadata": {},
   "outputs": [
    {
     "data": {
      "text/plain": [
       "<21164x11051 sparse matrix of type '<class 'numpy.int64'>'\n",
       "\twith 494934 stored elements in Compressed Sparse Row format>"
      ]
     },
     "execution_count": 884,
     "metadata": {},
     "output_type": "execute_result"
    }
   ],
   "source": [
    "clean_bow_counts_test = count_vect.fit_transform(test_data.pureTextdescription)\n",
    "clean_bow_counts_test"
   ]
  },
  {
   "cell_type": "markdown",
   "metadata": {},
   "source": [
    "#### Ridge Regression"
   ]
  },
  {
   "cell_type": "code",
   "execution_count": 71,
   "metadata": {},
   "outputs": [],
   "source": [
    "import numpy as np\n",
    "from sklearn.model_selection import train_test_split, cross_val_score\n",
    "from sklearn.metrics import roc_auc_score, precision_score, recall_score, accuracy_score"
   ]
  },
  {
   "cell_type": "code",
   "execution_count": 72,
   "metadata": {},
   "outputs": [],
   "source": [
    "from sklearn.linear_model import LogisticRegression, Ridge\n",
    "from sklearn.metrics import mean_squared_error"
   ]
  },
  {
   "cell_type": "code",
   "execution_count": 897,
   "metadata": {},
   "outputs": [],
   "source": [
    "%%capture\n",
    "search_grid = np.logspace(-2, 4, num=50, endpoint=True, base=10.0)\n",
    "MSE_by_alpha = []\n",
    "for alpha in search_grid:\n",
    "    model = Ridge(alpha = alpha)\n",
    "    avg_score = cross_val_score(model, clean_bow_counts_train, y = train_data.points, cv = 10, scoring = 'neg_mean_squared_error').mean()\n",
    "    MSE_by_alpha.append((alpha,avg_score))"
   ]
  },
  {
   "cell_type": "code",
   "execution_count": 898,
   "metadata": {},
   "outputs": [
    {
     "data": {
      "application/vnd.plotly.v1+json": {
       "config": {
        "linkText": "Export to plot.ly",
        "plotlyServerURL": "https://plot.ly",
        "showLink": true
       },
       "data": [
        {
         "line": {
          "color": "rgba(255, 153, 51, 1.0)",
          "dash": "solid",
          "shape": "linear",
          "width": 3
         },
         "mode": "lines",
         "name": "MSE",
         "text": "",
         "type": "scatter",
         "x": [
          0.01,
          0.013257113655901088,
          0.017575106248547922,
          0.023299518105153717,
          0.030888435964774818,
          0.040949150623804255,
          0.054286754393238594,
          0.07196856730011521,
          0.09540954763499938,
          0.12648552168552957,
          0.16768329368110083,
          0.22229964825261944,
          0.29470517025518095,
          0.3906939937054617,
          0.517947467923121,
          0.6866488450043002,
          0.9102981779915218,
          1.2067926406393288,
          1.5998587196060574,
          2.1209508879201904,
          2.8117686979742307,
          3.727593720314938,
          4.941713361323833,
          6.551285568595509,
          8.68511373751352,
          11.513953993264469,
          15.264179671752334,
          20.235896477251575,
          26.826957952797247,
          35.564803062231285,
          47.14866363457394,
          62.505519252739695,
          82.86427728546842
         ],
         "y": [
          -3.3547697518489477,
          -3.3539738208954852,
          -3.3531171673712796,
          -3.351442535887074,
          -3.3505815141432294,
          -3.348313036863522,
          -3.3453381086481597,
          -3.341666483881692,
          -3.337497829748476,
          -3.3315857719634776,
          -3.3243670996996832,
          -3.3147011904983694,
          -3.3028428689309073,
          -3.289321607142854,
          -3.271520247220182,
          -3.251357653742091,
          -3.2283554741096436,
          -3.203518323140687,
          -3.1764648637467876,
          -3.1487001918720683,
          -3.1208845788898127,
          -3.095070280393806,
          -3.0716101451938265,
          -3.05198073278175,
          -3.0369156804202695,
          -3.026729632253317,
          -3.022034255052909,
          -3.0232779274566894,
          -3.0306829146724135,
          -3.044578044291261,
          -3.065240959496842,
          -3.093374353521398,
          -3.129476596827941
         ]
        }
       ],
       "layout": {
        "autosize": true,
        "legend": {
         "bgcolor": "#F5F6F9",
         "font": {
          "color": "#4D5663"
         }
        },
        "paper_bgcolor": "#F5F6F9",
        "plot_bgcolor": "#F5F6F9",
        "shapes": [
         {
          "line": {
           "color": "#db4052",
           "dash": "solid",
           "width": 1
          },
          "type": "line",
          "x0": 0,
          "x1": 1,
          "xref": "paper",
          "y0": [
           0,
           0
          ],
          "y1": [
           0,
           0
          ],
          "yref": "y"
         }
        ],
        "title": {
         "font": {
          "color": "#4D5663"
         },
         "text": "BOW Counts - MSE as a function of learning rate (alpha)"
        },
        "xaxis": {
         "autorange": true,
         "gridcolor": "#E1E5ED",
         "range": [
          0.01,
          82.86427728546842
         ],
         "showgrid": true,
         "tickfont": {
          "color": "#4D5663"
         },
         "title": {
          "font": {
           "color": "#4D5663"
          },
          "text": "alpha"
         },
         "type": "linear",
         "zerolinecolor": "#E1E5ED"
        },
        "yaxis": {
         "autorange": true,
         "gridcolor": "#E1E5ED",
         "range": [
          -3.373255057226505,
          -3.0035489496753516
         ],
         "showgrid": true,
         "tickfont": {
          "color": "#4D5663"
         },
         "title": {
          "font": {
           "color": "#4D5663"
          },
          "text": "MSE"
         },
         "type": "linear",
         "zerolinecolor": "#E1E5ED"
        }
       }
      },
      "image/png": "[encoded data removed]",
      "text/html": [
       "<div>                            <div id=\"907e9604-d1d9-43f4-b193-18d8e30bc7e0\" class=\"plotly-graph-div\" style=\"height:525px; width:100%;\"></div>            <script type=\"text/javascript\">                require([\"plotly\"], function(Plotly) {                    window.PLOTLYENV=window.PLOTLYENV || {};\n",
       "                    window.PLOTLYENV.BASE_URL='https://plot.ly';                                    if (document.getElementById(\"907e9604-d1d9-43f4-b193-18d8e30bc7e0\")) {                    Plotly.newPlot(                        \"907e9604-d1d9-43f4-b193-18d8e30bc7e0\",                        [{\"line\":{\"color\":\"rgba(255, 153, 51, 1.0)\",\"dash\":\"solid\",\"shape\":\"linear\",\"width\":3},\"mode\":\"lines\",\"name\":\"MSE\",\"text\":\"\",\"x\":[0.01,0.013257113655901088,0.017575106248547922,0.023299518105153717,0.030888435964774818,0.040949150623804255,0.054286754393238594,0.07196856730011521,0.09540954763499938,0.12648552168552957,0.16768329368110083,0.22229964825261944,0.29470517025518095,0.3906939937054617,0.517947467923121,0.6866488450043002,0.9102981779915218,1.2067926406393288,1.5998587196060574,2.1209508879201904,2.8117686979742307,3.727593720314938,4.941713361323833,6.551285568595509,8.68511373751352,11.513953993264469,15.264179671752334,20.235896477251575,26.826957952797247,35.564803062231285,47.14866363457394,62.505519252739695,82.86427728546842],\"y\":[-3.3547697518489477,-3.3539738208954852,-3.3531171673712796,-3.351442535887074,-3.3505815141432294,-3.348313036863522,-3.3453381086481597,-3.341666483881692,-3.337497829748476,-3.3315857719634776,-3.3243670996996832,-3.3147011904983694,-3.3028428689309073,-3.289321607142854,-3.271520247220182,-3.251357653742091,-3.2283554741096436,-3.203518323140687,-3.1764648637467876,-3.1487001918720683,-3.1208845788898127,-3.095070280393806,-3.0716101451938265,-3.05198073278175,-3.0369156804202695,-3.026729632253317,-3.022034255052909,-3.0232779274566894,-3.0306829146724135,-3.044578044291261,-3.065240959496842,-3.093374353521398,-3.129476596827941],\"type\":\"scatter\"}],                        {\"legend\":{\"bgcolor\":\"#F5F6F9\",\"font\":{\"color\":\"#4D5663\"}},\"paper_bgcolor\":\"#F5F6F9\",\"plot_bgcolor\":\"#F5F6F9\",\"yaxis\":{\"tickfont\":{\"color\":\"#4D5663\"},\"gridcolor\":\"#E1E5ED\",\"titlefont\":{\"color\":\"#4D5663\"},\"zerolinecolor\":\"#E1E5ED\",\"showgrid\":true,\"title\":\"MSE\"},\"xaxis\":{\"tickfont\":{\"color\":\"#4D5663\"},\"gridcolor\":\"#E1E5ED\",\"titlefont\":{\"color\":\"#4D5663\"},\"zerolinecolor\":\"#E1E5ED\",\"showgrid\":true,\"title\":\"alpha\"},\"titlefont\":{\"color\":\"#4D5663\"},\"title\":\"BOW Counts - MSE as a function of learning rate (alpha)\",\"shapes\":[{\"x0\":0,\"y0\":[0,0],\"x1\":1,\"y1\":[0,0],\"line\":{\"color\":\"#db4052\",\"width\":1,\"dash\":\"solid\"},\"xref\":\"paper\",\"yref\":\"y\",\"type\":\"line\"}]},                        {\"showLink\": true, \"linkText\": \"Export to plot.ly\", \"plotlyServerURL\": \"https://plot.ly\", \"responsive\": true}                    ).then(function(){\n",
       "                            \n",
       "var gd = document.getElementById('907e9604-d1d9-43f4-b193-18d8e30bc7e0');\n",
       "var x = new MutationObserver(function (mutations, observer) {{\n",
       "        var display = window.getComputedStyle(gd).display;\n",
       "        if (!display || display === 'none') {{\n",
       "            console.log([gd, 'removed!']);\n",
       "            Plotly.purge(gd);\n",
       "            observer.disconnect();\n",
       "        }}\n",
       "}});\n",
       "\n",
       "// Listen for the removal of the full notebook cells\n",
       "var notebookContainer = gd.closest('#notebook-container');\n",
       "if (notebookContainer) {{\n",
       "    x.observe(notebookContainer, {childList: true});\n",
       "}}\n",
       "\n",
       "// Listen for the clearing of the current output cell\n",
       "var outputEl = gd.closest('.output');\n",
       "if (outputEl) {{\n",
       "    x.observe(outputEl, {childList: true});\n",
       "}}\n",
       "\n",
       "                        })                };                });            </script>        </div>"
      ]
     },
     "metadata": {},
     "output_type": "display_data"
    }
   ],
   "source": [
    "cv_results = pd.DataFrame(MSE_by_alpha, columns = ['alpha', 'MSE'])\n",
    "cv_results.query('alpha < 100').set_index('alpha').MSE.iplot(title = 'BOW Counts - MSE as a function of learning rate (alpha)', xTitle = 'alpha', yTitle = 'MSE', width = 3, hline=(0,0))"
   ]
  },
  {
   "cell_type": "code",
   "execution_count": 899,
   "metadata": {
    "tags": []
   },
   "outputs": [
    {
     "name": "stdout",
     "output_type": "stream",
     "text": [
      "15.264179671752334 3.022034255052909\n"
     ]
    }
   ],
   "source": [
    "opt_alpha, max_MSE = cv_results.loc[cv_results.MSE.idxmax()]\n",
    "print(opt_alpha, -max_MSE)"
   ]
  },
  {
   "cell_type": "markdown",
   "metadata": {},
   "source": [
    "train the model on the **train set** with the optimal model regularization parameter:"
   ]
  },
  {
   "cell_type": "code",
   "execution_count": 900,
   "metadata": {
    "tags": []
   },
   "outputs": [
    {
     "data": {
      "text/plain": [
       "Ridge(alpha=15.264179671752334)"
      ]
     },
     "execution_count": 900,
     "metadata": {},
     "output_type": "execute_result"
    }
   ],
   "source": [
    "Ridge_model = Ridge(alpha=opt_alpha)\n",
    "Ridge_model.fit(clean_bow_counts_train, train_data.points)"
   ]
  },
  {
   "cell_type": "code",
   "execution_count": 901,
   "metadata": {
    "tags": []
   },
   "outputs": [],
   "source": [
    "test_data['predicted_points_Ridge_model'] = Ridge_model.predict(clean_bow_counts_test)"
   ]
  },
  {
   "cell_type": "code",
   "execution_count": 905,
   "metadata": {},
   "outputs": [],
   "source": [
    "ridge_stats = calc_prediction_quality(test_data, 'predicted_points_Ridge_model','points')\n",
    "ridge_stats.name = 'ridge_stats'"
   ]
  },
  {
   "cell_type": "code",
   "execution_count": 907,
   "metadata": {},
   "outputs": [
    {
     "data": {
      "text/html": [
       "<div>\n",
       "<style scoped>\n",
       "    .dataframe tbody tr th:only-of-type {\n",
       "        vertical-align: middle;\n",
       "    }\n",
       "\n",
       "    .dataframe tbody tr th {\n",
       "        vertical-align: top;\n",
       "    }\n",
       "\n",
       "    .dataframe thead th {\n",
       "        text-align: right;\n",
       "    }\n",
       "</style>\n",
       "<table border=\"1\" class=\"dataframe\">\n",
       "  <thead>\n",
       "    <tr style=\"text-align: right;\">\n",
       "      <th></th>\n",
       "      <th>MSE</th>\n",
       "      <th>MAE</th>\n",
       "      <th>R2</th>\n",
       "    </tr>\n",
       "  </thead>\n",
       "  <tbody>\n",
       "    <tr>\n",
       "      <th>baseline_1</th>\n",
       "      <td>9.322615</td>\n",
       "      <td>2.494265</td>\n",
       "      <td>-0.000002</td>\n",
       "    </tr>\n",
       "    <tr>\n",
       "      <th>baseline_2</th>\n",
       "      <td>8.859680</td>\n",
       "      <td>2.430685</td>\n",
       "      <td>0.049655</td>\n",
       "    </tr>\n",
       "    <tr>\n",
       "      <th>baseline_3</th>\n",
       "      <td>8.358605</td>\n",
       "      <td>2.349938</td>\n",
       "      <td>0.103404</td>\n",
       "    </tr>\n",
       "    <tr>\n",
       "      <th>xgb_stats</th>\n",
       "      <td>6.230297</td>\n",
       "      <td>1.877433</td>\n",
       "      <td>0.331700</td>\n",
       "    </tr>\n",
       "    <tr>\n",
       "      <th>ridge_stats</th>\n",
       "      <td>2.960161</td>\n",
       "      <td>1.358504</td>\n",
       "      <td>0.682475</td>\n",
       "    </tr>\n",
       "  </tbody>\n",
       "</table>\n",
       "</div>"
      ],
      "text/plain": [
       "                  MSE       MAE        R2\n",
       "baseline_1   9.322615  2.494265 -0.000002\n",
       "baseline_2   8.859680  2.430685  0.049655\n",
       "baseline_3   8.358605  2.349938  0.103404\n",
       "xgb_stats    6.230297  1.877433  0.331700\n",
       "ridge_stats  2.960161  1.358504  0.682475"
      ]
     },
     "execution_count": 907,
     "metadata": {},
     "output_type": "execute_result"
    }
   ],
   "source": [
    "compared_model_5 = compared_model_4.append(ridge_stats)\n",
    "compared_model_5"
   ]
  },
  {
   "cell_type": "code",
   "execution_count": 908,
   "metadata": {},
   "outputs": [],
   "source": [
    "compared_model_5.to_csv('data/all_models_compared.csv', index=False)"
   ]
  },
  {
   "cell_type": "markdown",
   "metadata": {},
   "source": [
    "### Using both the text and other features"
   ]
  },
  {
   "cell_type": "markdown",
   "metadata": {},
   "source": [
    "<div class=\"alert alert-block alert-warning\">\n",
    "<b>TBD</b>\n",
    "</div>"
   ]
  },
  {
   "cell_type": "code",
   "execution_count": 909,
   "metadata": {
    "tags": []
   },
   "outputs": [],
   "source": [
    "from scipy.sparse import coo_matrix, hstack"
   ]
  },
  {
   "cell_type": "code",
   "execution_count": 963,
   "metadata": {},
   "outputs": [
    {
     "data": {
      "text/html": [
       "<div>\n",
       "<style scoped>\n",
       "    .dataframe tbody tr th:only-of-type {\n",
       "        vertical-align: middle;\n",
       "    }\n",
       "\n",
       "    .dataframe tbody tr th {\n",
       "        vertical-align: top;\n",
       "    }\n",
       "\n",
       "    .dataframe thead th {\n",
       "        text-align: right;\n",
       "    }\n",
       "</style>\n",
       "<table border=\"1\" class=\"dataframe\">\n",
       "  <thead>\n",
       "    <tr style=\"text-align: right;\">\n",
       "      <th></th>\n",
       "      <th>country</th>\n",
       "      <th>province</th>\n",
       "      <th>region_1</th>\n",
       "      <th>region_2</th>\n",
       "      <th>taster_name</th>\n",
       "      <th>variety</th>\n",
       "      <th>winery</th>\n",
       "      <th>years</th>\n",
       "      <th>price</th>\n",
       "    </tr>\n",
       "  </thead>\n",
       "  <tbody>\n",
       "    <tr>\n",
       "      <th>58191</th>\n",
       "      <td>41</td>\n",
       "      <td>51</td>\n",
       "      <td>14</td>\n",
       "      <td>13</td>\n",
       "      <td>19</td>\n",
       "      <td>687</td>\n",
       "      <td>11036</td>\n",
       "      <td>6</td>\n",
       "      <td>35.0</td>\n",
       "    </tr>\n",
       "    <tr>\n",
       "      <th>63571</th>\n",
       "      <td>15</td>\n",
       "      <td>47</td>\n",
       "      <td>768</td>\n",
       "      <td>6</td>\n",
       "      <td>16</td>\n",
       "      <td>429</td>\n",
       "      <td>12926</td>\n",
       "      <td>13</td>\n",
       "      <td>112.0</td>\n",
       "    </tr>\n",
       "    <tr>\n",
       "      <th>22031</th>\n",
       "      <td>41</td>\n",
       "      <td>51</td>\n",
       "      <td>155</td>\n",
       "      <td>0</td>\n",
       "      <td>7</td>\n",
       "      <td>122</td>\n",
       "      <td>11012</td>\n",
       "      <td>16</td>\n",
       "      <td>13.0</td>\n",
       "    </tr>\n",
       "    <tr>\n",
       "      <th>84258</th>\n",
       "      <td>41</td>\n",
       "      <td>265</td>\n",
       "      <td>1202</td>\n",
       "      <td>17</td>\n",
       "      <td>15</td>\n",
       "      <td>429</td>\n",
       "      <td>5315</td>\n",
       "      <td>16</td>\n",
       "      <td>55.0</td>\n",
       "    </tr>\n",
       "    <tr>\n",
       "      <th>79045</th>\n",
       "      <td>2</td>\n",
       "      <td>336</td>\n",
       "      <td>291</td>\n",
       "      <td>6</td>\n",
       "      <td>8</td>\n",
       "      <td>60</td>\n",
       "      <td>11817</td>\n",
       "      <td>5</td>\n",
       "      <td>50.0</td>\n",
       "    </tr>\n",
       "  </tbody>\n",
       "</table>\n",
       "</div>"
      ],
      "text/plain": [
       "       country  province  region_1  region_2  taster_name  variety  winery  \\\n",
       "58191       41        51        14        13           19      687   11036   \n",
       "63571       15        47       768         6           16      429   12926   \n",
       "22031       41        51       155         0            7      122   11012   \n",
       "84258       41       265      1202        17           15      429    5315   \n",
       "79045        2       336       291         6            8       60   11817   \n",
       "\n",
       "       years  price  \n",
       "58191      6   35.0  \n",
       "63571     13  112.0  \n",
       "22031     16   13.0  \n",
       "84258     16   55.0  \n",
       "79045      5   50.0  "
      ]
     },
     "execution_count": 963,
     "metadata": {},
     "output_type": "execute_result"
    }
   ],
   "source": [
    "encoded_features[features].sample(5)"
   ]
  },
  {
   "cell_type": "code",
   "execution_count": 911,
   "metadata": {
    "tags": []
   },
   "outputs": [],
   "source": [
    "train_features_spares_matrix = coo_matrix(train_encoded_features[features])\n",
    "train_united_features = hstack((clean_bow_counts_train ,train_features_spares_matrix))\n",
    "\n",
    "test_features_spares_matrix = coo_matrix(test_encoded_features[features])\n",
    "test_united_features = hstack((clean_bow_counts_test ,test_features_spares_matrix))"
   ]
  },
  {
   "cell_type": "code",
   "execution_count": 912,
   "metadata": {
    "tags": []
   },
   "outputs": [],
   "source": [
    "search_grid = np.logspace(-2, 4, num=50, endpoint=True, base=10.0)\n",
    "MSE_by_alpha = []\n",
    "for alpha in search_grid:\n",
    "    model = Ridge(alpha=alpha)\n",
    "    avg_score = cross_val_score(model, train_united_features, y = train_data.points, cv = 10, scoring = 'neg_mean_squared_error').mean()\n",
    "    MSE_by_alpha.append((alpha,avg_score))"
   ]
  },
  {
   "cell_type": "code",
   "execution_count": 913,
   "metadata": {
    "jupyter": {
     "source_hidden": true
    },
    "tags": []
   },
   "outputs": [
    {
     "data": {
      "application/vnd.plotly.v1+json": {
       "config": {
        "linkText": "Export to plot.ly",
        "plotlyServerURL": "https://plot.ly",
        "showLink": true
       },
       "data": [
        {
         "line": {
          "color": "rgba(255, 153, 51, 1.0)",
          "dash": "solid",
          "shape": "linear",
          "width": 3
         },
         "mode": "lines",
         "name": "MSE",
         "text": "",
         "type": "scatter",
         "x": [
          0.01,
          0.013257113655901088,
          0.017575106248547922,
          0.023299518105153717,
          0.030888435964774818,
          0.040949150623804255,
          0.054286754393238594,
          0.07196856730011521,
          0.09540954763499938,
          0.12648552168552957,
          0.16768329368110083,
          0.22229964825261944,
          0.29470517025518095,
          0.3906939937054617,
          0.517947467923121,
          0.6866488450043002,
          0.9102981779915218,
          1.2067926406393288,
          1.5998587196060574,
          2.1209508879201904,
          2.8117686979742307,
          3.727593720314938,
          4.941713361323833,
          6.551285568595509,
          8.68511373751352,
          11.513953993264469,
          15.264179671752334,
          20.235896477251575,
          26.826957952797247,
          35.564803062231285,
          47.14866363457394,
          62.505519252739695,
          82.86427728546842
         ],
         "y": [
          -3.337327512860287,
          -3.3521386348918667,
          -3.3562856234565195,
          -3.348816065422843,
          -3.3530874942507625,
          -3.354201801953601,
          -3.342025830282534,
          -3.334820265285623,
          -3.361905399132057,
          -3.337303059975869,
          -3.3610689217497636,
          -3.320200364855876,
          -3.342331224718528,
          -3.3040533264029532,
          -3.342153269233549,
          -3.334087109848027,
          -3.3563693791176634,
          -3.3528383061718925,
          -3.348182747710928,
          -3.3585999804683047,
          -3.3525913412629302,
          -3.3626644378594106,
          -3.344853365836019,
          -3.3422311007949213,
          -3.344569546137657,
          -3.359724294873071,
          -3.359792555531621,
          -3.3720664684729433,
          -3.385662630034969,
          -3.4003857482612476,
          -3.398786425299052,
          -3.404536641168563,
          -3.429804936844846
         ]
        }
       ],
       "layout": {
        "autosize": true,
        "legend": {
         "bgcolor": "#F5F6F9",
         "font": {
          "color": "#4D5663"
         }
        },
        "paper_bgcolor": "#F5F6F9",
        "plot_bgcolor": "#F5F6F9",
        "shapes": [
         {
          "line": {
           "color": "#db4052",
           "dash": "solid",
           "width": 1
          },
          "type": "line",
          "x0": 0,
          "x1": 1,
          "xref": "paper",
          "y0": [
           0,
           0
          ],
          "y1": [
           0,
           0
          ],
          "yref": "y"
         }
        ],
        "title": {
         "font": {
          "color": "#4D5663"
         },
         "text": "BOW Counts - MSE as a function of alpha (on train set)"
        },
        "xaxis": {
         "autorange": true,
         "gridcolor": "#E1E5ED",
         "range": [
          0.01,
          82.86427728546842
         ],
         "showgrid": true,
         "tickfont": {
          "color": "#4D5663"
         },
         "title": {
          "font": {
           "color": "#4D5663"
          },
          "text": "alpha"
         },
         "type": "linear",
         "zerolinecolor": "#E1E5ED"
        },
        "yaxis": {
         "autorange": true,
         "gridcolor": "#E1E5ED",
         "range": [
          -3.4367911374249513,
          -3.297067125822848
         ],
         "showgrid": true,
         "tickfont": {
          "color": "#4D5663"
         },
         "title": {
          "font": {
           "color": "#4D5663"
          },
          "text": "MSE"
         },
         "type": "linear",
         "zerolinecolor": "#E1E5ED"
        }
       }
      },
      "image/png": "[encoded data removed]",
      "text/html": [
       "<div>                            <div id=\"1500d006-0865-413a-a30b-d80647239b67\" class=\"plotly-graph-div\" style=\"height:525px; width:100%;\"></div>            <script type=\"text/javascript\">                require([\"plotly\"], function(Plotly) {                    window.PLOTLYENV=window.PLOTLYENV || {};\n",
       "                    window.PLOTLYENV.BASE_URL='https://plot.ly';                                    if (document.getElementById(\"1500d006-0865-413a-a30b-d80647239b67\")) {                    Plotly.newPlot(                        \"1500d006-0865-413a-a30b-d80647239b67\",                        [{\"line\":{\"color\":\"rgba(255, 153, 51, 1.0)\",\"dash\":\"solid\",\"shape\":\"linear\",\"width\":3},\"mode\":\"lines\",\"name\":\"MSE\",\"text\":\"\",\"x\":[0.01,0.013257113655901088,0.017575106248547922,0.023299518105153717,0.030888435964774818,0.040949150623804255,0.054286754393238594,0.07196856730011521,0.09540954763499938,0.12648552168552957,0.16768329368110083,0.22229964825261944,0.29470517025518095,0.3906939937054617,0.517947467923121,0.6866488450043002,0.9102981779915218,1.2067926406393288,1.5998587196060574,2.1209508879201904,2.8117686979742307,3.727593720314938,4.941713361323833,6.551285568595509,8.68511373751352,11.513953993264469,15.264179671752334,20.235896477251575,26.826957952797247,35.564803062231285,47.14866363457394,62.505519252739695,82.86427728546842],\"y\":[-3.337327512860287,-3.3521386348918667,-3.3562856234565195,-3.348816065422843,-3.3530874942507625,-3.354201801953601,-3.342025830282534,-3.334820265285623,-3.361905399132057,-3.337303059975869,-3.3610689217497636,-3.320200364855876,-3.342331224718528,-3.3040533264029532,-3.342153269233549,-3.334087109848027,-3.3563693791176634,-3.3528383061718925,-3.348182747710928,-3.3585999804683047,-3.3525913412629302,-3.3626644378594106,-3.344853365836019,-3.3422311007949213,-3.344569546137657,-3.359724294873071,-3.359792555531621,-3.3720664684729433,-3.385662630034969,-3.4003857482612476,-3.398786425299052,-3.404536641168563,-3.429804936844846],\"type\":\"scatter\"}],                        {\"legend\":{\"bgcolor\":\"#F5F6F9\",\"font\":{\"color\":\"#4D5663\"}},\"paper_bgcolor\":\"#F5F6F9\",\"plot_bgcolor\":\"#F5F6F9\",\"yaxis\":{\"tickfont\":{\"color\":\"#4D5663\"},\"gridcolor\":\"#E1E5ED\",\"titlefont\":{\"color\":\"#4D5663\"},\"zerolinecolor\":\"#E1E5ED\",\"showgrid\":true,\"title\":\"MSE\"},\"xaxis\":{\"tickfont\":{\"color\":\"#4D5663\"},\"gridcolor\":\"#E1E5ED\",\"titlefont\":{\"color\":\"#4D5663\"},\"zerolinecolor\":\"#E1E5ED\",\"showgrid\":true,\"title\":\"alpha\"},\"titlefont\":{\"color\":\"#4D5663\"},\"title\":\"BOW Counts - MSE as a function of alpha (on train set)\",\"shapes\":[{\"x0\":0,\"y0\":[0,0],\"x1\":1,\"y1\":[0,0],\"line\":{\"color\":\"#db4052\",\"width\":1,\"dash\":\"solid\"},\"xref\":\"paper\",\"yref\":\"y\",\"type\":\"line\"}]},                        {\"showLink\": true, \"linkText\": \"Export to plot.ly\", \"plotlyServerURL\": \"https://plot.ly\", \"responsive\": true}                    ).then(function(){\n",
       "                            \n",
       "var gd = document.getElementById('1500d006-0865-413a-a30b-d80647239b67');\n",
       "var x = new MutationObserver(function (mutations, observer) {{\n",
       "        var display = window.getComputedStyle(gd).display;\n",
       "        if (!display || display === 'none') {{\n",
       "            console.log([gd, 'removed!']);\n",
       "            Plotly.purge(gd);\n",
       "            observer.disconnect();\n",
       "        }}\n",
       "}});\n",
       "\n",
       "// Listen for the removal of the full notebook cells\n",
       "var notebookContainer = gd.closest('#notebook-container');\n",
       "if (notebookContainer) {{\n",
       "    x.observe(notebookContainer, {childList: true});\n",
       "}}\n",
       "\n",
       "// Listen for the clearing of the current output cell\n",
       "var outputEl = gd.closest('.output');\n",
       "if (outputEl) {{\n",
       "    x.observe(outputEl, {childList: true});\n",
       "}}\n",
       "\n",
       "                        })                };                });            </script>        </div>"
      ]
     },
     "metadata": {},
     "output_type": "display_data"
    }
   ],
   "source": [
    "cv_results = pd.DataFrame(MSE_by_alpha, columns = ['alpha', 'MSE'])\n",
    "cv_results.query('alpha < 100').set_index('alpha').MSE.iplot(title = 'BOW Counts - MSE as a function of alpha (on train set)', xTitle = 'alpha', yTitle = 'MSE', width = 3, hline=(0,0))"
   ]
  },
  {
   "cell_type": "code",
   "execution_count": 914,
   "metadata": {
    "tags": []
   },
   "outputs": [
    {
     "name": "stdout",
     "output_type": "stream",
     "text": [
      "0.3906939937054617 3.3040533264029532\n"
     ]
    }
   ],
   "source": [
    "opt_alpha, max_MSE = cv_results.loc[cv_results.MSE.idxmax()]\n",
    "print(opt_alpha, -max_MSE)"
   ]
  },
  {
   "cell_type": "markdown",
   "metadata": {
    "tags": []
   },
   "source": [
    "train the model on the **train set** with the optimal model regularization parameter:"
   ]
  },
  {
   "cell_type": "code",
   "execution_count": 915,
   "metadata": {
    "tags": []
   },
   "outputs": [
    {
     "data": {
      "text/plain": [
       "Ridge(alpha=0.3906939937054617)"
      ]
     },
     "execution_count": 915,
     "metadata": {},
     "output_type": "execute_result"
    }
   ],
   "source": [
    "Ridge_txt_and_ftrs = Ridge(alpha=opt_alpha)\n",
    "Ridge_txt_and_ftrs.fit(train_united_features, train_data.points)"
   ]
  },
  {
   "cell_type": "code",
   "execution_count": 916,
   "metadata": {
    "tags": []
   },
   "outputs": [],
   "source": [
    "test_data['pred_points_Ridge_txt_and_ftrs'] = Ridge_txt_and_ftrs.predict(test_united_features)"
   ]
  },
  {
   "cell_type": "code",
   "execution_count": 966,
   "metadata": {
    "tags": []
   },
   "outputs": [],
   "source": [
    "Ridge_txt_and_ftrs_stats = calc_prediction_quality(test_data, 'pred_points_Ridge_txt_and_ftrs','points')\n",
    "Ridge_txt_and_ftrs_stats.name = 'Ridge_txt_and_ftrs'"
   ]
  },
  {
   "cell_type": "code",
   "execution_count": 967,
   "metadata": {
    "tags": []
   },
   "outputs": [
    {
     "data": {
      "text/html": [
       "<div>\n",
       "<style scoped>\n",
       "    .dataframe tbody tr th:only-of-type {\n",
       "        vertical-align: middle;\n",
       "    }\n",
       "\n",
       "    .dataframe tbody tr th {\n",
       "        vertical-align: top;\n",
       "    }\n",
       "\n",
       "    .dataframe thead th {\n",
       "        text-align: right;\n",
       "    }\n",
       "</style>\n",
       "<table border=\"1\" class=\"dataframe\">\n",
       "  <thead>\n",
       "    <tr style=\"text-align: right;\">\n",
       "      <th></th>\n",
       "      <th>MSE</th>\n",
       "      <th>MAE</th>\n",
       "      <th>R2</th>\n",
       "    </tr>\n",
       "  </thead>\n",
       "  <tbody>\n",
       "    <tr>\n",
       "      <th>baseline_1</th>\n",
       "      <td>9.322615</td>\n",
       "      <td>2.494265</td>\n",
       "      <td>-0.000002</td>\n",
       "    </tr>\n",
       "    <tr>\n",
       "      <th>baseline_2</th>\n",
       "      <td>8.859680</td>\n",
       "      <td>2.430685</td>\n",
       "      <td>0.049655</td>\n",
       "    </tr>\n",
       "    <tr>\n",
       "      <th>baseline_3</th>\n",
       "      <td>8.358605</td>\n",
       "      <td>2.349938</td>\n",
       "      <td>0.103404</td>\n",
       "    </tr>\n",
       "    <tr>\n",
       "      <th>xgb_stats</th>\n",
       "      <td>6.230297</td>\n",
       "      <td>1.877433</td>\n",
       "      <td>0.331700</td>\n",
       "    </tr>\n",
       "    <tr>\n",
       "      <th>ridge_stats</th>\n",
       "      <td>2.960161</td>\n",
       "      <td>1.358504</td>\n",
       "      <td>0.682475</td>\n",
       "    </tr>\n",
       "    <tr>\n",
       "      <th>Ridge_txt_and_ftrs</th>\n",
       "      <td>3.231039</td>\n",
       "      <td>1.421278</td>\n",
       "      <td>0.653419</td>\n",
       "    </tr>\n",
       "  </tbody>\n",
       "</table>\n",
       "</div>"
      ],
      "text/plain": [
       "                         MSE       MAE        R2\n",
       "baseline_1          9.322615  2.494265 -0.000002\n",
       "baseline_2          8.859680  2.430685  0.049655\n",
       "baseline_3          8.358605  2.349938  0.103404\n",
       "xgb_stats           6.230297  1.877433  0.331700\n",
       "ridge_stats         2.960161  1.358504  0.682475\n",
       "Ridge_txt_and_ftrs  3.231039  1.421278  0.653419"
      ]
     },
     "execution_count": 967,
     "metadata": {},
     "output_type": "execute_result"
    }
   ],
   "source": [
    "compared_model_6 = compared_model_5.append(Ridge_txt_and_ftrs_stats)\n",
    "compared_model_6"
   ]
  },
  {
   "cell_type": "markdown",
   "metadata": {
    "tags": []
   },
   "source": [
    "alert!!- \n",
    "Adding more featers to the text didn't help the accuracy of the results, we would expect it to help, why could this happen?\n",
    "I will try transforming all the feature values to a common scale"
   ]
  },
  {
   "cell_type": "code",
   "execution_count": 983,
   "metadata": {},
   "outputs": [],
   "source": [
    "compared_model_6.to_csv('data/all_models_compared.csv', index=False)"
   ]
  },
  {
   "cell_type": "markdown",
   "metadata": {
    "tags": []
   },
   "source": [
    "### scaling features"
   ]
  },
  {
   "cell_type": "code",
   "execution_count": 932,
   "metadata": {},
   "outputs": [],
   "source": [
    "from sklearn.preprocessing import MinMaxScaler"
   ]
  },
  {
   "cell_type": "code",
   "execution_count": 933,
   "metadata": {},
   "outputs": [],
   "source": [
    "scaler = MinMaxScaler()"
   ]
  },
  {
   "cell_type": "code",
   "execution_count": 940,
   "metadata": {
    "tags": []
   },
   "outputs": [
    {
     "data": {
      "text/html": [
       "<div>\n",
       "<style scoped>\n",
       "    .dataframe tbody tr th:only-of-type {\n",
       "        vertical-align: middle;\n",
       "    }\n",
       "\n",
       "    .dataframe tbody tr th {\n",
       "        vertical-align: top;\n",
       "    }\n",
       "\n",
       "    .dataframe thead th {\n",
       "        text-align: right;\n",
       "    }\n",
       "</style>\n",
       "<table border=\"1\" class=\"dataframe\">\n",
       "  <thead>\n",
       "    <tr style=\"text-align: right;\">\n",
       "      <th></th>\n",
       "      <th>country</th>\n",
       "      <th>province</th>\n",
       "      <th>region_1</th>\n",
       "      <th>region_2</th>\n",
       "      <th>taster_name</th>\n",
       "      <th>variety</th>\n",
       "      <th>winery</th>\n",
       "      <th>years</th>\n",
       "      <th>price</th>\n",
       "    </tr>\n",
       "  </thead>\n",
       "  <tbody>\n",
       "    <tr>\n",
       "      <th>40210</th>\n",
       "      <td>0.953488</td>\n",
       "      <td>0.121429</td>\n",
       "      <td>0.652927</td>\n",
       "      <td>0.058824</td>\n",
       "      <td>0.736842</td>\n",
       "      <td>0.696093</td>\n",
       "      <td>0.620295</td>\n",
       "      <td>0.882353</td>\n",
       "      <td>0.005150</td>\n",
       "    </tr>\n",
       "    <tr>\n",
       "      <th>28029</th>\n",
       "      <td>0.186047</td>\n",
       "      <td>0.476190</td>\n",
       "      <td>0.603462</td>\n",
       "      <td>0.352941</td>\n",
       "      <td>0.631579</td>\n",
       "      <td>0.176556</td>\n",
       "      <td>0.819047</td>\n",
       "      <td>0.705882</td>\n",
       "      <td>0.004847</td>\n",
       "    </tr>\n",
       "    <tr>\n",
       "      <th>49224</th>\n",
       "      <td>0.953488</td>\n",
       "      <td>0.121429</td>\n",
       "      <td>0.818631</td>\n",
       "      <td>0.588235</td>\n",
       "      <td>0.368421</td>\n",
       "      <td>0.059334</td>\n",
       "      <td>0.763859</td>\n",
       "      <td>0.882353</td>\n",
       "      <td>0.009391</td>\n",
       "    </tr>\n",
       "    <tr>\n",
       "      <th>79788</th>\n",
       "      <td>0.953488</td>\n",
       "      <td>0.121429</td>\n",
       "      <td>0.652927</td>\n",
       "      <td>0.058824</td>\n",
       "      <td>0.578947</td>\n",
       "      <td>0.668596</td>\n",
       "      <td>0.660899</td>\n",
       "      <td>0.823529</td>\n",
       "      <td>0.014844</td>\n",
       "    </tr>\n",
       "    <tr>\n",
       "      <th>8849</th>\n",
       "      <td>0.395349</td>\n",
       "      <td>0.988095</td>\n",
       "      <td>0.603462</td>\n",
       "      <td>0.352941</td>\n",
       "      <td>0.052632</td>\n",
       "      <td>0.534009</td>\n",
       "      <td>0.481800</td>\n",
       "      <td>0.470588</td>\n",
       "      <td>0.008179</td>\n",
       "    </tr>\n",
       "  </tbody>\n",
       "</table>\n",
       "</div>"
      ],
      "text/plain": [
       "        country  province  region_1  region_2  taster_name   variety  \\\n",
       "40210  0.953488  0.121429  0.652927  0.058824     0.736842  0.696093   \n",
       "28029  0.186047  0.476190  0.603462  0.352941     0.631579  0.176556   \n",
       "49224  0.953488  0.121429  0.818631  0.588235     0.368421  0.059334   \n",
       "79788  0.953488  0.121429  0.652927  0.058824     0.578947  0.668596   \n",
       "8849   0.395349  0.988095  0.603462  0.352941     0.052632  0.534009   \n",
       "\n",
       "         winery     years     price  \n",
       "40210  0.620295  0.882353  0.005150  \n",
       "28029  0.819047  0.705882  0.004847  \n",
       "49224  0.763859  0.882353  0.009391  \n",
       "79788  0.660899  0.823529  0.014844  \n",
       "8849   0.481800  0.470588  0.008179  "
      ]
     },
     "execution_count": 940,
     "metadata": {},
     "output_type": "execute_result"
    }
   ],
   "source": [
    "scaling_train_encoded_features = []\n",
    "scaling_train_encoded_features = pd.DataFrame(scaler.fit_transform(train_encoded_features[features]), columns=train_encoded_features[features].columns)\n",
    "scaling_train_encoded_features.sample(5)"
   ]
  },
  {
   "cell_type": "code",
   "execution_count": 945,
   "metadata": {},
   "outputs": [
    {
     "data": {
      "text/html": [
       "<div>\n",
       "<style scoped>\n",
       "    .dataframe tbody tr th:only-of-type {\n",
       "        vertical-align: middle;\n",
       "    }\n",
       "\n",
       "    .dataframe tbody tr th {\n",
       "        vertical-align: top;\n",
       "    }\n",
       "\n",
       "    .dataframe thead th {\n",
       "        text-align: right;\n",
       "    }\n",
       "</style>\n",
       "<table border=\"1\" class=\"dataframe\">\n",
       "  <thead>\n",
       "    <tr style=\"text-align: right;\">\n",
       "      <th></th>\n",
       "      <th>country</th>\n",
       "      <th>province</th>\n",
       "      <th>region_1</th>\n",
       "      <th>region_2</th>\n",
       "      <th>taster_name</th>\n",
       "      <th>variety</th>\n",
       "      <th>winery</th>\n",
       "      <th>years</th>\n",
       "      <th>price</th>\n",
       "    </tr>\n",
       "  </thead>\n",
       "  <tbody>\n",
       "    <tr>\n",
       "      <th>1806</th>\n",
       "      <td>0.953488</td>\n",
       "      <td>0.121429</td>\n",
       "      <td>0.037985</td>\n",
       "      <td>0.058824</td>\n",
       "      <td>0.736842</td>\n",
       "      <td>0.622093</td>\n",
       "      <td>0.047469</td>\n",
       "      <td>0.705882</td>\n",
       "      <td>0.016393</td>\n",
       "    </tr>\n",
       "    <tr>\n",
       "      <th>413</th>\n",
       "      <td>0.348837</td>\n",
       "      <td>0.026190</td>\n",
       "      <td>0.016515</td>\n",
       "      <td>0.352941</td>\n",
       "      <td>0.842105</td>\n",
       "      <td>0.616279</td>\n",
       "      <td>0.157488</td>\n",
       "      <td>0.764706</td>\n",
       "      <td>0.006797</td>\n",
       "    </tr>\n",
       "    <tr>\n",
       "      <th>12666</th>\n",
       "      <td>0.186047</td>\n",
       "      <td>0.004762</td>\n",
       "      <td>0.603633</td>\n",
       "      <td>0.352941</td>\n",
       "      <td>0.631579</td>\n",
       "      <td>0.622093</td>\n",
       "      <td>0.039001</td>\n",
       "      <td>0.411765</td>\n",
       "      <td>0.000000</td>\n",
       "    </tr>\n",
       "    <tr>\n",
       "      <th>15250</th>\n",
       "      <td>0.511628</td>\n",
       "      <td>0.883333</td>\n",
       "      <td>0.878613</td>\n",
       "      <td>0.352941</td>\n",
       "      <td>0.736842</td>\n",
       "      <td>0.670058</td>\n",
       "      <td>0.143828</td>\n",
       "      <td>0.411765</td>\n",
       "      <td>0.015594</td>\n",
       "    </tr>\n",
       "    <tr>\n",
       "      <th>12451</th>\n",
       "      <td>0.953488</td>\n",
       "      <td>0.121429</td>\n",
       "      <td>0.745665</td>\n",
       "      <td>0.764706</td>\n",
       "      <td>0.736842</td>\n",
       "      <td>0.622093</td>\n",
       "      <td>0.822857</td>\n",
       "      <td>0.705882</td>\n",
       "      <td>0.020392</td>\n",
       "    </tr>\n",
       "  </tbody>\n",
       "</table>\n",
       "</div>"
      ],
      "text/plain": [
       "        country  province  region_1  region_2  taster_name   variety  \\\n",
       "1806   0.953488  0.121429  0.037985  0.058824     0.736842  0.622093   \n",
       "413    0.348837  0.026190  0.016515  0.352941     0.842105  0.616279   \n",
       "12666  0.186047  0.004762  0.603633  0.352941     0.631579  0.622093   \n",
       "15250  0.511628  0.883333  0.878613  0.352941     0.736842  0.670058   \n",
       "12451  0.953488  0.121429  0.745665  0.764706     0.736842  0.622093   \n",
       "\n",
       "         winery     years     price  \n",
       "1806   0.047469  0.705882  0.016393  \n",
       "413    0.157488  0.764706  0.006797  \n",
       "12666  0.039001  0.411765  0.000000  \n",
       "15250  0.143828  0.411765  0.015594  \n",
       "12451  0.822857  0.705882  0.020392  "
      ]
     },
     "execution_count": 945,
     "metadata": {},
     "output_type": "execute_result"
    }
   ],
   "source": [
    "scaling_test_encoded_features = []\n",
    "scaling_test_encoded_features = pd.DataFrame(scaler.fit_transform(test_encoded_features[features]), columns=test_encoded_features[features].columns)\n",
    "scaling_test_encoded_features.sample(5)"
   ]
  },
  {
   "cell_type": "code",
   "execution_count": 948,
   "metadata": {},
   "outputs": [],
   "source": [
    "scaling_train_features_spares_matrix = coo_matrix(scaling_train_encoded_features)\n",
    "scaling_train_united_features = hstack((clean_bow_counts_train ,scaling_train_features_spares_matrix))\n",
    "\n",
    "scaling_test_features_spares_matrix = coo_matrix(scaling_test_encoded_features)\n",
    "scaling_test_united_features = hstack((clean_bow_counts_test ,scaling_test_features_spares_matrix))"
   ]
  },
  {
   "cell_type": "code",
   "execution_count": 952,
   "metadata": {
    "tags": []
   },
   "outputs": [],
   "source": [
    "search_grid = np.logspace(-2, 4, num=50, endpoint=True, base=10.0)\n",
    "MSE_by_alpha = []\n",
    "for alpha in search_grid:\n",
    "    model = Ridge(alpha=alpha)\n",
    "    avg_score = cross_val_score(model, scaling_train_united_features, y = train_data.points, cv = 10, scoring = 'neg_mean_squared_error').mean()\n",
    "    MSE_by_alpha.append((alpha,avg_score))"
   ]
  },
  {
   "cell_type": "code",
   "execution_count": 954,
   "metadata": {
    "tags": []
   },
   "outputs": [
    {
     "data": {
      "application/vnd.plotly.v1+json": {
       "config": {
        "linkText": "Export to plot.ly",
        "plotlyServerURL": "https://plot.ly",
        "showLink": true
       },
       "data": [
        {
         "line": {
          "color": "rgba(255, 153, 51, 1.0)",
          "dash": "solid",
          "shape": "linear",
          "width": 3
         },
         "mode": "lines",
         "name": "MSE",
         "text": "",
         "type": "scatter",
         "x": [
          0.01,
          0.013257113655901088,
          0.017575106248547922,
          0.023299518105153717,
          0.030888435964774818,
          0.040949150623804255,
          0.054286754393238594,
          0.07196856730011521,
          0.09540954763499938,
          0.12648552168552957,
          0.16768329368110083,
          0.22229964825261944,
          0.29470517025518095,
          0.3906939937054617,
          0.517947467923121,
          0.6866488450043002,
          0.9102981779915218,
          1.2067926406393288,
          1.5998587196060574,
          2.1209508879201904,
          2.8117686979742307,
          3.727593720314938,
          4.941713361323833,
          6.551285568595509,
          8.68511373751352,
          11.513953993264469,
          15.264179671752334,
          20.235896477251575,
          26.826957952797247,
          35.564803062231285,
          47.14866363457394,
          62.505519252739695,
          82.86427728546842
         ],
         "y": [
          -3.355410838597083,
          -3.3550265257906795,
          -3.3537275503517754,
          -3.353621286691889,
          -3.3507702689319245,
          -3.349078115758658,
          -3.34677516537727,
          -3.3430685455517577,
          -3.3381379059156138,
          -3.3321359441767386,
          -3.3248382735452773,
          -3.3155985621843582,
          -3.303777596680581,
          -3.2892839841268553,
          -3.2716947338681344,
          -3.2518930901470013,
          -3.2289309060221973,
          -3.2036801159934796,
          -3.176763552698661,
          -3.1488572650656597,
          -3.1213768805604922,
          -3.0954915368904095,
          -3.072004832289724,
          -3.052383565915629,
          -3.037268348363848,
          -3.027137002954375,
          -3.0225285192031413,
          -3.0238471549735406,
          -3.0312249920860976,
          -3.0450299201281807,
          -3.065779987969191,
          -3.093952322753338,
          -3.1300807052225244
         ]
        }
       ],
       "layout": {
        "autosize": true,
        "legend": {
         "bgcolor": "#F5F6F9",
         "font": {
          "color": "#4D5663"
         }
        },
        "paper_bgcolor": "#F5F6F9",
        "plot_bgcolor": "#F5F6F9",
        "shapes": [
         {
          "line": {
           "color": "#db4052",
           "dash": "solid",
           "width": 1
          },
          "type": "line",
          "x0": 0,
          "x1": 1,
          "xref": "paper",
          "y0": [
           0,
           0
          ],
          "y1": [
           0,
           0
          ],
          "yref": "y"
         }
        ],
        "title": {
         "font": {
          "color": "#4D5663"
         },
         "text": "BOW Counts - MSE as a function of alpha (on train set)"
        },
        "xaxis": {
         "autorange": true,
         "gridcolor": "#E1E5ED",
         "range": [
          0.01,
          82.86427728546842
         ],
         "showgrid": true,
         "tickfont": {
          "color": "#4D5663"
         },
         "title": {
          "font": {
           "color": "#4D5663"
          },
          "text": "alpha"
         },
         "type": "linear",
         "zerolinecolor": "#E1E5ED"
        },
        "yaxis": {
         "autorange": true,
         "gridcolor": "#E1E5ED",
         "range": [
          -3.373904300785635,
          -3.004035057014589
         ],
         "showgrid": true,
         "tickfont": {
          "color": "#4D5663"
         },
         "title": {
          "font": {
           "color": "#4D5663"
          },
          "text": "MSE"
         },
         "type": "linear",
         "zerolinecolor": "#E1E5ED"
        }
       }
      },
      "image/png": "[encoded data removed]",
      "text/html": [
       "<div>                            <div id=\"4b17b431-bf53-4308-932a-d42087354925\" class=\"plotly-graph-div\" style=\"height:525px; width:100%;\"></div>            <script type=\"text/javascript\">                require([\"plotly\"], function(Plotly) {                    window.PLOTLYENV=window.PLOTLYENV || {};\n",
       "                    window.PLOTLYENV.BASE_URL='https://plot.ly';                                    if (document.getElementById(\"4b17b431-bf53-4308-932a-d42087354925\")) {                    Plotly.newPlot(                        \"4b17b431-bf53-4308-932a-d42087354925\",                        [{\"line\":{\"color\":\"rgba(255, 153, 51, 1.0)\",\"dash\":\"solid\",\"shape\":\"linear\",\"width\":3},\"mode\":\"lines\",\"name\":\"MSE\",\"text\":\"\",\"x\":[0.01,0.013257113655901088,0.017575106248547922,0.023299518105153717,0.030888435964774818,0.040949150623804255,0.054286754393238594,0.07196856730011521,0.09540954763499938,0.12648552168552957,0.16768329368110083,0.22229964825261944,0.29470517025518095,0.3906939937054617,0.517947467923121,0.6866488450043002,0.9102981779915218,1.2067926406393288,1.5998587196060574,2.1209508879201904,2.8117686979742307,3.727593720314938,4.941713361323833,6.551285568595509,8.68511373751352,11.513953993264469,15.264179671752334,20.235896477251575,26.826957952797247,35.564803062231285,47.14866363457394,62.505519252739695,82.86427728546842],\"y\":[-3.355410838597083,-3.3550265257906795,-3.3537275503517754,-3.353621286691889,-3.3507702689319245,-3.349078115758658,-3.34677516537727,-3.3430685455517577,-3.3381379059156138,-3.3321359441767386,-3.3248382735452773,-3.3155985621843582,-3.303777596680581,-3.2892839841268553,-3.2716947338681344,-3.2518930901470013,-3.2289309060221973,-3.2036801159934796,-3.176763552698661,-3.1488572650656597,-3.1213768805604922,-3.0954915368904095,-3.072004832289724,-3.052383565915629,-3.037268348363848,-3.027137002954375,-3.0225285192031413,-3.0238471549735406,-3.0312249920860976,-3.0450299201281807,-3.065779987969191,-3.093952322753338,-3.1300807052225244],\"type\":\"scatter\"}],                        {\"legend\":{\"bgcolor\":\"#F5F6F9\",\"font\":{\"color\":\"#4D5663\"}},\"paper_bgcolor\":\"#F5F6F9\",\"plot_bgcolor\":\"#F5F6F9\",\"yaxis\":{\"tickfont\":{\"color\":\"#4D5663\"},\"gridcolor\":\"#E1E5ED\",\"titlefont\":{\"color\":\"#4D5663\"},\"zerolinecolor\":\"#E1E5ED\",\"showgrid\":true,\"title\":\"MSE\"},\"xaxis\":{\"tickfont\":{\"color\":\"#4D5663\"},\"gridcolor\":\"#E1E5ED\",\"titlefont\":{\"color\":\"#4D5663\"},\"zerolinecolor\":\"#E1E5ED\",\"showgrid\":true,\"title\":\"alpha\"},\"titlefont\":{\"color\":\"#4D5663\"},\"title\":\"BOW Counts - MSE as a function of alpha (on train set)\",\"shapes\":[{\"x0\":0,\"y0\":[0,0],\"x1\":1,\"y1\":[0,0],\"line\":{\"color\":\"#db4052\",\"width\":1,\"dash\":\"solid\"},\"xref\":\"paper\",\"yref\":\"y\",\"type\":\"line\"}]},                        {\"showLink\": true, \"linkText\": \"Export to plot.ly\", \"plotlyServerURL\": \"https://plot.ly\", \"responsive\": true}                    ).then(function(){\n",
       "                            \n",
       "var gd = document.getElementById('4b17b431-bf53-4308-932a-d42087354925');\n",
       "var x = new MutationObserver(function (mutations, observer) {{\n",
       "        var display = window.getComputedStyle(gd).display;\n",
       "        if (!display || display === 'none') {{\n",
       "            console.log([gd, 'removed!']);\n",
       "            Plotly.purge(gd);\n",
       "            observer.disconnect();\n",
       "        }}\n",
       "}});\n",
       "\n",
       "// Listen for the removal of the full notebook cells\n",
       "var notebookContainer = gd.closest('#notebook-container');\n",
       "if (notebookContainer) {{\n",
       "    x.observe(notebookContainer, {childList: true});\n",
       "}}\n",
       "\n",
       "// Listen for the clearing of the current output cell\n",
       "var outputEl = gd.closest('.output');\n",
       "if (outputEl) {{\n",
       "    x.observe(outputEl, {childList: true});\n",
       "}}\n",
       "\n",
       "                        })                };                });            </script>        </div>"
      ]
     },
     "metadata": {},
     "output_type": "display_data"
    }
   ],
   "source": [
    "cv_results = pd.DataFrame(MSE_by_alpha, columns = ['alpha', 'MSE'])\n",
    "cv_results.query('alpha < 100').set_index('alpha').MSE.iplot(title = 'BOW Counts - MSE as a function of alpha (on train set)', xTitle = 'alpha', yTitle = 'MSE', width = 3, hline=(0,0))"
   ]
  },
  {
   "cell_type": "code",
   "execution_count": 955,
   "metadata": {
    "tags": []
   },
   "outputs": [
    {
     "name": "stdout",
     "output_type": "stream",
     "text": [
      "15.264179671752334 3.0225285192031413\n"
     ]
    }
   ],
   "source": [
    "opt_alpha, max_MSE = cv_results.loc[cv_results.MSE.idxmax()]\n",
    "print(opt_alpha, -max_MSE)"
   ]
  },
  {
   "cell_type": "markdown",
   "metadata": {
    "tags": []
   },
   "source": [
    "train the model on the **train set** with the optimal model regularization parameter:"
   ]
  },
  {
   "cell_type": "code",
   "execution_count": 956,
   "metadata": {
    "tags": []
   },
   "outputs": [
    {
     "data": {
      "text/plain": [
       "Ridge(alpha=15.264179671752334)"
      ]
     },
     "execution_count": 956,
     "metadata": {},
     "output_type": "execute_result"
    }
   ],
   "source": [
    "Ridge_ftrs_scaling = Ridge(alpha=opt_alpha)\n",
    "Ridge_ftrs_scaling.fit(scaling_train_united_features, train_data.points)"
   ]
  },
  {
   "cell_type": "code",
   "execution_count": 957,
   "metadata": {
    "tags": []
   },
   "outputs": [],
   "source": [
    "test_data['Ridge_ftrs_scaling'] = Ridge_ftrs_scaling.predict(scaling_test_united_features)"
   ]
  },
  {
   "cell_type": "code",
   "execution_count": 968,
   "metadata": {
    "tags": []
   },
   "outputs": [],
   "source": [
    "Ridge_ftrs_scaling_stats = calc_prediction_quality(test_data, 'Ridge_ftrs_scaling','points')\n",
    "Ridge_ftrs_scaling_stats.name = 'Ridge_text_and_ftrs_scaling'"
   ]
  },
  {
   "cell_type": "code",
   "execution_count": 969,
   "metadata": {
    "tags": []
   },
   "outputs": [
    {
     "data": {
      "text/html": [
       "<div>\n",
       "<style scoped>\n",
       "    .dataframe tbody tr th:only-of-type {\n",
       "        vertical-align: middle;\n",
       "    }\n",
       "\n",
       "    .dataframe tbody tr th {\n",
       "        vertical-align: top;\n",
       "    }\n",
       "\n",
       "    .dataframe thead th {\n",
       "        text-align: right;\n",
       "    }\n",
       "</style>\n",
       "<table border=\"1\" class=\"dataframe\">\n",
       "  <thead>\n",
       "    <tr style=\"text-align: right;\">\n",
       "      <th></th>\n",
       "      <th>MSE</th>\n",
       "      <th>MAE</th>\n",
       "      <th>R2</th>\n",
       "    </tr>\n",
       "  </thead>\n",
       "  <tbody>\n",
       "    <tr>\n",
       "      <th>baseline_1</th>\n",
       "      <td>9.322615</td>\n",
       "      <td>2.494265</td>\n",
       "      <td>-0.000002</td>\n",
       "    </tr>\n",
       "    <tr>\n",
       "      <th>baseline_2</th>\n",
       "      <td>8.859680</td>\n",
       "      <td>2.430685</td>\n",
       "      <td>0.049655</td>\n",
       "    </tr>\n",
       "    <tr>\n",
       "      <th>baseline_3</th>\n",
       "      <td>8.358605</td>\n",
       "      <td>2.349938</td>\n",
       "      <td>0.103404</td>\n",
       "    </tr>\n",
       "    <tr>\n",
       "      <th>xgb_stats</th>\n",
       "      <td>6.230297</td>\n",
       "      <td>1.877433</td>\n",
       "      <td>0.331700</td>\n",
       "    </tr>\n",
       "    <tr>\n",
       "      <th>ridge_stats</th>\n",
       "      <td>2.960161</td>\n",
       "      <td>1.358504</td>\n",
       "      <td>0.682475</td>\n",
       "    </tr>\n",
       "    <tr>\n",
       "      <th>Ridge_txt_and_ftrs</th>\n",
       "      <td>3.231039</td>\n",
       "      <td>1.421278</td>\n",
       "      <td>0.653419</td>\n",
       "    </tr>\n",
       "    <tr>\n",
       "      <th>Ridge_text_and_ftrs_scaling</th>\n",
       "      <td>2.957613</td>\n",
       "      <td>1.357829</td>\n",
       "      <td>0.682748</td>\n",
       "    </tr>\n",
       "  </tbody>\n",
       "</table>\n",
       "</div>"
      ],
      "text/plain": [
       "                                  MSE       MAE        R2\n",
       "baseline_1                   9.322615  2.494265 -0.000002\n",
       "baseline_2                   8.859680  2.430685  0.049655\n",
       "baseline_3                   8.358605  2.349938  0.103404\n",
       "xgb_stats                    6.230297  1.877433  0.331700\n",
       "ridge_stats                  2.960161  1.358504  0.682475\n",
       "Ridge_txt_and_ftrs           3.231039  1.421278  0.653419\n",
       "Ridge_text_and_ftrs_scaling  2.957613  1.357829  0.682748"
      ]
     },
     "execution_count": 969,
     "metadata": {},
     "output_type": "execute_result"
    }
   ],
   "source": [
    "compared_model_7 = compared_model_6.append(Ridge_ftrs_scaling_stats)\n",
    "compared_model_7"
   ]
  },
  {
   "cell_type": "markdown",
   "metadata": {},
   "source": [
    "yes!- After scaling there is an improvement in MSE!"
   ]
  },
  {
   "cell_type": "markdown",
   "metadata": {},
   "source": [
    "## Deep Learning approaches"
   ]
  },
  {
   "cell_type": "markdown",
   "metadata": {},
   "source": [
    "### Fully connected network on the text only"
   ]
  },
  {
   "cell_type": "markdown",
   "metadata": {},
   "source": [
    "#### Tokenization"
   ]
  },
  {
   "cell_type": "code",
   "execution_count": 73,
   "metadata": {},
   "outputs": [],
   "source": [
    "import tensorflow as tf\n",
    "from tensorflow.keras.layers import TextVectorization, Embedding, Dense, GlobalAveragePooling1D, Dropout\n",
    "from tensorflow.keras.callbacks import EarlyStopping"
   ]
  },
  {
   "cell_type": "markdown",
   "metadata": {},
   "source": [
    "What is a good size for the vocabulary? "
   ]
  },
  {
   "cell_type": "code",
   "execution_count": 7,
   "metadata": {},
   "outputs": [
    {
     "data": {
      "text/plain": [
       "0.95     60.0\n",
       "0.99     72.0\n",
       "1.00    135.0\n",
       "Name: description, dtype: float64"
      ]
     },
     "execution_count": 7,
     "metadata": {},
     "output_type": "execute_result"
    }
   ],
   "source": [
    "wine_reviews.description.apply(lambda x: len(x.split(' '))).quantile([0.95,0.99, 1])"
   ]
  },
  {
   "cell_type": "code",
   "execution_count": 8,
   "metadata": {},
   "outputs": [],
   "source": [
    "vocab_size = 32000 #  hyperparameter\n",
    "sequence_length = 60\n",
    "\n",
    "# Use the text vectorization layer to normalize, split, and map strings to integers. Set maximum_sequence length as all samples are not of the same length.\n",
    "vectorize_layer = TextVectorization(\n",
    "    #standardize=lambda text: tf.strings.lower(text), # You can use your own normalization function here\n",
    "    standardize='lower_and_strip_punctuation', # Or you can use a pre-made normalization function\n",
    "    max_tokens=vocab_size,    \n",
    "    split='whitespace',\n",
    "    output_mode='int',\n",
    "    name = 'Text_processing',\n",
    "    output_sequence_length=sequence_length)"
   ]
  },
  {
   "cell_type": "code",
   "execution_count": 9,
   "metadata": {
    "tags": []
   },
   "outputs": [],
   "source": [
    "vectorize_layer.adapt(train_data['description'])"
   ]
  },
  {
   "cell_type": "code",
   "execution_count": 10,
   "metadata": {},
   "outputs": [
    {
     "name": "stdout",
     "output_type": "stream",
     "text": [
      "Bright and juicy, this straightforward, savory red delivers aromas and flavors of succulent blackberry, wild cherry, crushed raspberry and hints of cinnamon. Round, soft tannins give it an easy-drinking quality ideal for everyday occasions. Drink soon to capture the fresh fruit.\n"
     ]
    },
    {
     "data": {
      "text/plain": [
       "<tf.Tensor: shape=(60,), dtype=int64, numpy=\n",
       "array([  62,    2,   71,    7,  439,  146,   34,  176,   17,    2,   11,\n",
       "          5,  629,   49,  184,   26,  231,   74,    2,  153,    5,  213,\n",
       "        200,   46,   24,  127,   12,   36,  643,  379, 1404,   31,  772,\n",
       "       3342,   25,  445,   13, 1938,    3,   40,   16,    0,    0,    0,\n",
       "          0,    0,    0,    0,    0,    0,    0,    0,    0,    0,    0,\n",
       "          0,    0,    0,    0,    0], dtype=int64)>"
      ]
     },
     "execution_count": 10,
     "metadata": {},
     "output_type": "execute_result"
    }
   ],
   "source": [
    "sample_description = train_data['description'].sample().iloc[0]\n",
    "print(sample_description)\n",
    "vectorize_layer(sample_description)"
   ]
  },
  {
   "cell_type": "code",
   "execution_count": 11,
   "metadata": {},
   "outputs": [
    {
     "name": "stdout",
     "output_type": "stream",
     "text": [
      "62 --->  bright\n",
      "2 --->  and\n",
      "71 --->  juicy\n",
      "7 --->  this\n",
      "439 --->  straightforward\n",
      "146 --->  savory\n",
      "34 --->  red\n",
      "176 --->  delivers\n",
      "17 --->  aromas\n",
      "2 --->  and\n",
      "11 --->  flavors\n",
      "5 --->  of\n",
      "629 --->  succulent\n",
      "49 --->  blackberry\n",
      "184 --->  wild\n",
      "26 --->  cherry\n",
      "231 --->  crushed\n",
      "74 --->  raspberry\n",
      "2 --->  and\n",
      "153 --->  hints\n"
     ]
    }
   ],
   "source": [
    "for token in vectorize_layer(sample_description).numpy()[:20]:\n",
    "    print(f\"{token} ---> \",vectorize_layer.get_vocabulary()[token])"
   ]
  },
  {
   "cell_type": "markdown",
   "metadata": {},
   "source": [
    "#### Modeling"
   ]
  },
  {
   "cell_type": "code",
   "execution_count": 12,
   "metadata": {},
   "outputs": [],
   "source": [
    "embedding_dim=16\n",
    "\n",
    "model_dnn = tf.keras.Sequential([\n",
    "    tf.keras.Input(shape=(1,), dtype=tf.string),\n",
    "    vectorize_layer,\n",
    "    Embedding(vocab_size, embedding_dim, name=\"embedding\"),\n",
    "    GlobalAveragePooling1D(),\n",
    "    Dense(164, activation='tanh', name='hidden_layer'),\n",
    "    Dropout(0.2),\n",
    "    Dense(1, name = 'output_layer')\n",
    "])"
   ]
  },
  {
   "cell_type": "code",
   "execution_count": 83,
   "metadata": {
    "tags": []
   },
   "outputs": [
    {
     "name": "stdout",
     "output_type": "stream",
     "text": [
      "Model: \"sequential_2\"\n",
      "_________________________________________________________________\n",
      " Layer (type)                Output Shape              Param #   \n",
      "=================================================================\n",
      " Text_processing (TextVector  (None, 60)               0         \n",
      " ization)                                                        \n",
      "                                                                 \n",
      " embedding (Embedding)       (None, 60, 16)            512000    \n",
      "                                                                 \n",
      " global_average_pooling1d_1   (None, 16)               0         \n",
      " (GlobalAveragePooling1D)                                        \n",
      "                                                                 \n",
      " hidden_layer (Dense)        (None, 164)               2788      \n",
      "                                                                 \n",
      " dropout_2 (Dropout)         (None, 164)               0         \n",
      "                                                                 \n",
      " output_layer (Dense)        (None, 1)                 165       \n",
      "                                                                 \n",
      "=================================================================\n",
      "Total params: 514,953\n",
      "Trainable params: 514,953\n",
      "Non-trainable params: 0\n",
      "_________________________________________________________________\n"
     ]
    }
   ],
   "source": [
    "model_dnn.summary()"
   ]
  },
  {
   "cell_type": "code",
   "execution_count": 14,
   "metadata": {},
   "outputs": [
    {
     "name": "stdout",
     "output_type": "stream",
     "text": [
      "You must install pydot (`pip install pydot`) and install graphviz (see instructions at https://graphviz.gitlab.io/download/) for plot_model/model_to_dot to work.\n"
     ]
    }
   ],
   "source": [
    "tf.keras.utils.plot_model(model_dnn, show_dtype=False, show_shapes=True, show_layer_names=True)"
   ]
  },
  {
   "cell_type": "code",
   "execution_count": 15,
   "metadata": {},
   "outputs": [],
   "source": [
    "model_dnn.compile(\n",
    "    optimizer=tf.optimizers.Adam(), loss='mean_absolute_error', metrics=['mean_squared_error','mean_absolute_error'])"
   ]
  },
  {
   "cell_type": "code",
   "execution_count": 16,
   "metadata": {},
   "outputs": [
    {
     "name": "stdout",
     "output_type": "stream",
     "text": [
      "Epoch 1/20\n",
      "662/662 [==============================] - 9s 12ms/step - loss: 24.1738 - mean_squared_error: 1523.4551 - mean_absolute_error: 24.1738 - val_loss: 2.4779 - val_mean_squared_error: 9.3292 - val_mean_absolute_error: 2.4779\n",
      "Epoch 2/20\n",
      "662/662 [==============================] - 15s 23ms/step - loss: 3.5093 - mean_squared_error: 19.2852 - mean_absolute_error: 3.5093 - val_loss: 1.7841 - val_mean_squared_error: 5.0116 - val_mean_absolute_error: 1.7841\n",
      "Epoch 3/20\n",
      "662/662 [==============================] - 21s 31ms/step - loss: 3.1981 - mean_squared_error: 16.0849 - mean_absolute_error: 3.1981 - val_loss: 1.5559 - val_mean_squared_error: 3.8614 - val_mean_absolute_error: 1.5559\n",
      "Epoch 4/20\n",
      "662/662 [==============================] - 11s 16ms/step - loss: 3.1163 - mean_squared_error: 15.3136 - mean_absolute_error: 3.1163 - val_loss: 1.4567 - val_mean_squared_error: 3.3944 - val_mean_absolute_error: 1.4567\n",
      "Epoch 5/20\n",
      "662/662 [==============================] - 9s 13ms/step - loss: 3.0783 - mean_squared_error: 14.8932 - mean_absolute_error: 3.0783 - val_loss: 1.4313 - val_mean_squared_error: 3.2836 - val_mean_absolute_error: 1.4313\n",
      "Epoch 6/20\n",
      "662/662 [==============================] - 10s 14ms/step - loss: 3.0591 - mean_squared_error: 14.7343 - mean_absolute_error: 3.0591 - val_loss: 1.4700 - val_mean_squared_error: 3.4809 - val_mean_absolute_error: 1.4700\n",
      "Epoch 7/20\n",
      "662/662 [==============================] - 8s 12ms/step - loss: 3.0500 - mean_squared_error: 14.6266 - mean_absolute_error: 3.0500 - val_loss: 1.3957 - val_mean_squared_error: 3.1275 - val_mean_absolute_error: 1.3957\n",
      "Epoch 8/20\n",
      "662/662 [==============================] - 8s 13ms/step - loss: 3.0314 - mean_squared_error: 14.4780 - mean_absolute_error: 3.0314 - val_loss: 1.3886 - val_mean_squared_error: 3.1004 - val_mean_absolute_error: 1.3886\n",
      "Epoch 9/20\n",
      "662/662 [==============================] - 8s 12ms/step - loss: 3.0146 - mean_squared_error: 14.3446 - mean_absolute_error: 3.0146 - val_loss: 1.3782 - val_mean_squared_error: 3.0489 - val_mean_absolute_error: 1.3782\n",
      "Epoch 10/20\n",
      "662/662 [==============================] - 8s 12ms/step - loss: 3.0095 - mean_squared_error: 14.2565 - mean_absolute_error: 3.0095 - val_loss: 1.3777 - val_mean_squared_error: 3.0531 - val_mean_absolute_error: 1.3777\n",
      "Epoch 11/20\n",
      "662/662 [==============================] - 7s 11ms/step - loss: 3.0041 - mean_squared_error: 14.2533 - mean_absolute_error: 3.0041 - val_loss: 1.3745 - val_mean_squared_error: 3.0465 - val_mean_absolute_error: 1.3745\n",
      "Epoch 12/20\n",
      "662/662 [==============================] - 10s 16ms/step - loss: 3.0029 - mean_squared_error: 14.2336 - mean_absolute_error: 3.0029 - val_loss: 1.3624 - val_mean_squared_error: 2.9916 - val_mean_absolute_error: 1.3624\n",
      "Epoch 13/20\n",
      "662/662 [==============================] - 9s 14ms/step - loss: 2.9806 - mean_squared_error: 14.0299 - mean_absolute_error: 2.9806 - val_loss: 1.4201 - val_mean_squared_error: 3.2646 - val_mean_absolute_error: 1.4201\n",
      "Epoch 14/20\n",
      "662/662 [==============================] - 8s 13ms/step - loss: 2.9860 - mean_squared_error: 13.9994 - mean_absolute_error: 2.9860 - val_loss: 1.3579 - val_mean_squared_error: 2.9780 - val_mean_absolute_error: 1.3579\n",
      "Epoch 15/20\n",
      "662/662 [==============================] - 8s 12ms/step - loss: 2.9551 - mean_squared_error: 13.7603 - mean_absolute_error: 2.9551 - val_loss: 1.3646 - val_mean_squared_error: 3.0087 - val_mean_absolute_error: 1.3646\n",
      "Epoch 16/20\n",
      "662/662 [==============================] - 8s 12ms/step - loss: 2.9559 - mean_squared_error: 13.7878 - mean_absolute_error: 2.9559 - val_loss: 1.3571 - val_mean_squared_error: 2.9638 - val_mean_absolute_error: 1.3571\n",
      "Epoch 17/20\n",
      "662/662 [==============================] - 8s 12ms/step - loss: 2.9581 - mean_squared_error: 13.7283 - mean_absolute_error: 2.9581 - val_loss: 1.3792 - val_mean_squared_error: 3.0820 - val_mean_absolute_error: 1.3792\n",
      "Epoch 18/20\n",
      "662/662 [==============================] - 8s 11ms/step - loss: 2.9552 - mean_squared_error: 13.7310 - mean_absolute_error: 2.9552 - val_loss: 1.3710 - val_mean_squared_error: 3.0477 - val_mean_absolute_error: 1.3710\n",
      "Wall time: 2min 52s\n"
     ]
    }
   ],
   "source": [
    "%%time\n",
    "text_col, target_col = 'description', 'points'\n",
    "\n",
    "early_stopping_monitor = EarlyStopping(\n",
    "    monitor='val_mean_squared_error',\n",
    "    min_delta=0,\n",
    "    patience=2,\n",
    "    verbose=0,\n",
    "    restore_best_weights=True\n",
    ")\n",
    "\n",
    "history = model_dnn.fit(\n",
    "    train_data[text_col],\n",
    "    train_data[target_col],\n",
    "    epochs=20,\n",
    "    batch_size=128,\n",
    "    verbose=1,    \n",
    "    callbacks=[early_stopping_monitor],\n",
    "    validation_data = (test_data[text_col], test_data[target_col]))"
   ]
  },
  {
   "cell_type": "markdown",
   "metadata": {},
   "source": [
    "### Simple NN Prediction & Evaluation"
   ]
  },
  {
   "cell_type": "code",
   "execution_count": 17,
   "metadata": {},
   "outputs": [],
   "source": [
    "test_data['dnn_stat'] = model_dnn.predict(test_data[text_col])"
   ]
  },
  {
   "cell_type": "code",
   "execution_count": 18,
   "metadata": {
    "tags": []
   },
   "outputs": [],
   "source": [
    "dnn_stat = calc_prediction_quality(test_data, 'dnn_stat', target_col)"
   ]
  },
  {
   "cell_type": "code",
   "execution_count": 19,
   "metadata": {},
   "outputs": [
    {
     "data": {
      "text/plain": [
       "MSE    2.963829\n",
       "MAE    1.357136\n",
       "R2     0.682081\n",
       "Name: dnn_stat, dtype: float64"
      ]
     },
     "execution_count": 19,
     "metadata": {},
     "output_type": "execute_result"
    }
   ],
   "source": [
    "dnn_stat.name = 'dnn_stat'\n",
    "dnn_stat"
   ]
  },
  {
   "cell_type": "code",
   "execution_count": 24,
   "metadata": {},
   "outputs": [
    {
     "data": {
      "text/html": [
       "<div>\n",
       "<style scoped>\n",
       "    .dataframe tbody tr th:only-of-type {\n",
       "        vertical-align: middle;\n",
       "    }\n",
       "\n",
       "    .dataframe tbody tr th {\n",
       "        vertical-align: top;\n",
       "    }\n",
       "\n",
       "    .dataframe thead th {\n",
       "        text-align: right;\n",
       "    }\n",
       "</style>\n",
       "<table border=\"1\" class=\"dataframe\">\n",
       "  <thead>\n",
       "    <tr style=\"text-align: right;\">\n",
       "      <th></th>\n",
       "      <th>MSE</th>\n",
       "      <th>MAE</th>\n",
       "      <th>R2</th>\n",
       "    </tr>\n",
       "  </thead>\n",
       "  <tbody>\n",
       "    <tr>\n",
       "      <th>baseline_1</th>\n",
       "      <td>9.322615</td>\n",
       "      <td>2.494265</td>\n",
       "      <td>-0.000002</td>\n",
       "    </tr>\n",
       "    <tr>\n",
       "      <th>baseline_2</th>\n",
       "      <td>8.859680</td>\n",
       "      <td>2.430685</td>\n",
       "      <td>0.049655</td>\n",
       "    </tr>\n",
       "    <tr>\n",
       "      <th>baseline_3</th>\n",
       "      <td>8.358605</td>\n",
       "      <td>2.349938</td>\n",
       "      <td>0.103404</td>\n",
       "    </tr>\n",
       "    <tr>\n",
       "      <th>xgb_stats</th>\n",
       "      <td>6.230297</td>\n",
       "      <td>1.877433</td>\n",
       "      <td>0.331700</td>\n",
       "    </tr>\n",
       "    <tr>\n",
       "      <th>ridge_stats</th>\n",
       "      <td>2.960161</td>\n",
       "      <td>1.358504</td>\n",
       "      <td>0.682475</td>\n",
       "    </tr>\n",
       "    <tr>\n",
       "      <th>Ridge_txt_and_ftrs</th>\n",
       "      <td>3.231039</td>\n",
       "      <td>1.421278</td>\n",
       "      <td>0.653419</td>\n",
       "    </tr>\n",
       "    <tr>\n",
       "      <th>Ridge_text_and_ftrs_scaling</th>\n",
       "      <td>2.957613</td>\n",
       "      <td>1.357829</td>\n",
       "      <td>0.682748</td>\n",
       "    </tr>\n",
       "    <tr>\n",
       "      <th>dnn_stat</th>\n",
       "      <td>2.963829</td>\n",
       "      <td>1.357136</td>\n",
       "      <td>0.682081</td>\n",
       "    </tr>\n",
       "  </tbody>\n",
       "</table>\n",
       "</div>"
      ],
      "text/plain": [
       "                                  MSE       MAE        R2\n",
       "baseline_1                   9.322615  2.494265 -0.000002\n",
       "baseline_2                   8.859680  2.430685  0.049655\n",
       "baseline_3                   8.358605  2.349938  0.103404\n",
       "xgb_stats                    6.230297  1.877433  0.331700\n",
       "ridge_stats                  2.960161  1.358504  0.682475\n",
       "Ridge_txt_and_ftrs           3.231039  1.421278  0.653419\n",
       "Ridge_text_and_ftrs_scaling  2.957613  1.357829  0.682748\n",
       "dnn_stat                     2.963829  1.357136  0.682081"
      ]
     },
     "execution_count": 24,
     "metadata": {},
     "output_type": "execute_result"
    }
   ],
   "source": [
    "compared_model_8 = compared_model_7.append(dnn_stat)\n",
    "compared_model_8"
   ]
  },
  {
   "cell_type": "markdown",
   "metadata": {},
   "source": [
    "### Descriptions words concatinated"
   ]
  },
  {
   "cell_type": "code",
   "execution_count": 39,
   "metadata": {},
   "outputs": [],
   "source": [
    "import tensorflow as tf\n",
    "from tensorflow.keras.layers import Reshape, Dense, Dropout, Embedding\n",
    "from tensorflow.keras import Sequential\n",
    "from tensorflow.keras.utils import  plot_model"
   ]
  },
  {
   "cell_type": "code",
   "execution_count": 47,
   "metadata": {},
   "outputs": [],
   "source": [
    "embedding_dim=16\n",
    "\n",
    "model_concatinated = tf.keras.Sequential([\n",
    "    tf.keras.Input(shape=(1,), dtype=tf.string),\n",
    "    vectorize_layer,\n",
    "    Embedding(vocab_size, embedding_dim, name=\"embedding\", ),\n",
    "    Reshape((embedding_dim * sequence_length, ), name='concat_words'),\n",
    "    Dense(700, activation='tanh', name='hidden_layer'),\n",
    "    Dropout(0.7),\n",
    "    Dense(1, name = 'output_layer')\n",
    "])"
   ]
  },
  {
   "cell_type": "code",
   "execution_count": 48,
   "metadata": {},
   "outputs": [],
   "source": [
    "model_concatinated.compile(\n",
    "    optimizer=tf.optimizers.Adam(), loss='mean_absolute_error', metrics=['mean_squared_error','mean_absolute_error'])"
   ]
  },
  {
   "cell_type": "code",
   "execution_count": 49,
   "metadata": {},
   "outputs": [
    {
     "name": "stdout",
     "output_type": "stream",
     "text": [
      "You must install pydot (`pip install pydot`) and install graphviz (see instructions at https://graphviz.gitlab.io/download/) for plot_model/model_to_dot to work.\n"
     ]
    }
   ],
   "source": [
    "tf.keras.utils.plot_model(model_concatinated, show_dtype=True, show_shapes=True, show_layer_names=True)"
   ]
  },
  {
   "cell_type": "code",
   "execution_count": 50,
   "metadata": {},
   "outputs": [
    {
     "name": "stdout",
     "output_type": "stream",
     "text": [
      "Epoch 1/20\n",
      "331/331 [==============================] - 11s 31ms/step - loss: 13.1130 - mean_squared_error: 628.1619 - mean_absolute_error: 13.1130 - val_loss: 2.5034 - val_mean_squared_error: 9.5097 - val_mean_absolute_error: 2.5034\n",
      "Epoch 2/20\n",
      "331/331 [==============================] - 11s 32ms/step - loss: 4.8083 - mean_squared_error: 36.1480 - mean_absolute_error: 4.8083 - val_loss: 2.4925 - val_mean_squared_error: 9.2679 - val_mean_absolute_error: 2.4925\n",
      "Epoch 3/20\n",
      "331/331 [==============================] - 10s 29ms/step - loss: 4.7014 - mean_squared_error: 34.7403 - mean_absolute_error: 4.7014 - val_loss: 1.8346 - val_mean_squared_error: 5.2796 - val_mean_absolute_error: 1.8346\n",
      "Epoch 4/20\n",
      "331/331 [==============================] - 10s 29ms/step - loss: 4.3865 - mean_squared_error: 30.1959 - mean_absolute_error: 4.3865 - val_loss: 1.5076 - val_mean_squared_error: 3.6410 - val_mean_absolute_error: 1.5076\n",
      "Epoch 5/20\n",
      "331/331 [==============================] - 10s 29ms/step - loss: 4.3475 - mean_squared_error: 29.7557 - mean_absolute_error: 4.3475 - val_loss: 1.4757 - val_mean_squared_error: 3.5178 - val_mean_absolute_error: 1.4757\n",
      "Epoch 6/20\n",
      "331/331 [==============================] - 9s 26ms/step - loss: 4.2980 - mean_squared_error: 29.0029 - mean_absolute_error: 4.2980 - val_loss: 1.4519 - val_mean_squared_error: 3.3958 - val_mean_absolute_error: 1.4519\n",
      "Epoch 7/20\n",
      "331/331 [==============================] - 9s 29ms/step - loss: 4.2965 - mean_squared_error: 29.0432 - mean_absolute_error: 4.2965 - val_loss: 1.5300 - val_mean_squared_error: 3.7758 - val_mean_absolute_error: 1.5300\n",
      "Epoch 8/20\n",
      "331/331 [==============================] - 9s 27ms/step - loss: 4.2918 - mean_squared_error: 28.9942 - mean_absolute_error: 4.2918 - val_loss: 1.4166 - val_mean_squared_error: 3.2414 - val_mean_absolute_error: 1.4166\n",
      "Epoch 9/20\n",
      "331/331 [==============================] - 10s 30ms/step - loss: 4.2697 - mean_squared_error: 28.6695 - mean_absolute_error: 4.2697 - val_loss: 1.4185 - val_mean_squared_error: 3.2357 - val_mean_absolute_error: 1.4185\n",
      "Epoch 10/20\n",
      "331/331 [==============================] - 9s 28ms/step - loss: 4.2739 - mean_squared_error: 28.6833 - mean_absolute_error: 4.2739 - val_loss: 1.4659 - val_mean_squared_error: 3.4962 - val_mean_absolute_error: 1.4659\n",
      "Epoch 11/20\n",
      "331/331 [==============================] - 10s 29ms/step - loss: 4.2578 - mean_squared_error: 28.5321 - mean_absolute_error: 4.2578 - val_loss: 1.4270 - val_mean_squared_error: 3.3127 - val_mean_absolute_error: 1.4270\n",
      "Wall time: 1min 45s\n"
     ]
    }
   ],
   "source": [
    "%%time\n",
    "text_col, target_col = 'description', 'points'\n",
    "\n",
    "early_stopping_monitor = EarlyStopping(\n",
    "    monitor='val_mean_squared_error',\n",
    "    min_delta=0,\n",
    "    patience=2,\n",
    "    verbose=0,\n",
    "    restore_best_weights=True\n",
    ")\n",
    "\n",
    "history = model_concatinated.fit(\n",
    "    train_data[text_col],\n",
    "    train_data[target_col],\n",
    "    epochs=20,\n",
    "    batch_size=256,\n",
    "    verbose=1,    \n",
    "    callbacks=[early_stopping_monitor],\n",
    "    validation_data = (test_data[text_col], test_data[target_col]))"
   ]
  },
  {
   "cell_type": "code",
   "execution_count": 51,
   "metadata": {
    "tags": []
   },
   "outputs": [],
   "source": [
    "test_data['dnn_concatinated'] = model_concatinated.predict(test_data[text_col])"
   ]
  },
  {
   "cell_type": "code",
   "execution_count": 52,
   "metadata": {
    "tags": []
   },
   "outputs": [
    {
     "data": {
      "text/plain": [
       "MSE    3.235679\n",
       "MAE    1.418518\n",
       "R2     0.652921\n",
       "dtype: float64"
      ]
     },
     "execution_count": 52,
     "metadata": {},
     "output_type": "execute_result"
    }
   ],
   "source": [
    "dnn_concatinated = calc_prediction_quality(test_data, 'dnn_concatinated', target_col)\n",
    "dnn_concatinated"
   ]
  },
  {
   "cell_type": "code",
   "execution_count": 53,
   "metadata": {},
   "outputs": [],
   "source": [
    "dnn_concatinated.name = 'dnn_concatinated'"
   ]
  },
  {
   "cell_type": "code",
   "execution_count": 54,
   "metadata": {},
   "outputs": [
    {
     "data": {
      "text/html": [
       "<div>\n",
       "<style scoped>\n",
       "    .dataframe tbody tr th:only-of-type {\n",
       "        vertical-align: middle;\n",
       "    }\n",
       "\n",
       "    .dataframe tbody tr th {\n",
       "        vertical-align: top;\n",
       "    }\n",
       "\n",
       "    .dataframe thead th {\n",
       "        text-align: right;\n",
       "    }\n",
       "</style>\n",
       "<table border=\"1\" class=\"dataframe\">\n",
       "  <thead>\n",
       "    <tr style=\"text-align: right;\">\n",
       "      <th></th>\n",
       "      <th>MSE</th>\n",
       "      <th>MAE</th>\n",
       "      <th>R2</th>\n",
       "    </tr>\n",
       "  </thead>\n",
       "  <tbody>\n",
       "    <tr>\n",
       "      <th>baseline_1</th>\n",
       "      <td>9.322615</td>\n",
       "      <td>2.494265</td>\n",
       "      <td>-0.000002</td>\n",
       "    </tr>\n",
       "    <tr>\n",
       "      <th>baseline_2</th>\n",
       "      <td>8.859680</td>\n",
       "      <td>2.430685</td>\n",
       "      <td>0.049655</td>\n",
       "    </tr>\n",
       "    <tr>\n",
       "      <th>baseline_3</th>\n",
       "      <td>8.358605</td>\n",
       "      <td>2.349938</td>\n",
       "      <td>0.103404</td>\n",
       "    </tr>\n",
       "    <tr>\n",
       "      <th>xgb_stats</th>\n",
       "      <td>6.230297</td>\n",
       "      <td>1.877433</td>\n",
       "      <td>0.331700</td>\n",
       "    </tr>\n",
       "    <tr>\n",
       "      <th>ridge_stats</th>\n",
       "      <td>2.960161</td>\n",
       "      <td>1.358504</td>\n",
       "      <td>0.682475</td>\n",
       "    </tr>\n",
       "    <tr>\n",
       "      <th>Ridge_txt_and_ftrs</th>\n",
       "      <td>3.231039</td>\n",
       "      <td>1.421278</td>\n",
       "      <td>0.653419</td>\n",
       "    </tr>\n",
       "    <tr>\n",
       "      <th>Ridge_text_and_ftrs_scaling</th>\n",
       "      <td>2.957613</td>\n",
       "      <td>1.357829</td>\n",
       "      <td>0.682748</td>\n",
       "    </tr>\n",
       "    <tr>\n",
       "      <th>dnn_stat</th>\n",
       "      <td>2.963829</td>\n",
       "      <td>1.357136</td>\n",
       "      <td>0.682081</td>\n",
       "    </tr>\n",
       "    <tr>\n",
       "      <th>dnn_concatinated</th>\n",
       "      <td>3.235679</td>\n",
       "      <td>1.418518</td>\n",
       "      <td>0.652921</td>\n",
       "    </tr>\n",
       "  </tbody>\n",
       "</table>\n",
       "</div>"
      ],
      "text/plain": [
       "                                  MSE       MAE        R2\n",
       "baseline_1                   9.322615  2.494265 -0.000002\n",
       "baseline_2                   8.859680  2.430685  0.049655\n",
       "baseline_3                   8.358605  2.349938  0.103404\n",
       "xgb_stats                    6.230297  1.877433  0.331700\n",
       "ridge_stats                  2.960161  1.358504  0.682475\n",
       "Ridge_txt_and_ftrs           3.231039  1.421278  0.653419\n",
       "Ridge_text_and_ftrs_scaling  2.957613  1.357829  0.682748\n",
       "dnn_stat                     2.963829  1.357136  0.682081\n",
       "dnn_concatinated             3.235679  1.418518  0.652921"
      ]
     },
     "execution_count": 54,
     "metadata": {},
     "output_type": "execute_result"
    }
   ],
   "source": [
    "compared_model_9 = compared_model_8.append(dnn_concatinated)\n",
    "compared_model_9"
   ]
  },
  {
   "cell_type": "markdown",
   "metadata": {},
   "source": [
    "### Using external embedding (description feature only)"
   ]
  },
  {
   "cell_type": "markdown",
   "metadata": {},
   "source": [
    "Follow https://keras.io/examples/nlp/pretrained_word_embeddings/\n",
    "\n",
    "You can either average the description words embeddings, concatinate them or do both and compare. "
   ]
  },
  {
   "cell_type": "code",
   "execution_count": 100,
   "metadata": {},
   "outputs": [],
   "source": [
    "import os\n",
    "import urllib.request\n",
    "import matplotlib.pyplot as plt\n",
    "from scipy import spatial\n",
    "from sklearn.manifold import TSNE\n",
    "import numpy as np"
   ]
  },
  {
   "cell_type": "code",
   "execution_count": 101,
   "metadata": {},
   "outputs": [
    {
     "name": "stdout",
     "output_type": "stream",
     "text": [
      "Found 400000 word vectors.\n"
     ]
    }
   ],
   "source": [
    "filename = \"glove.6B.50d.txt\"\n",
    "path_to_glove_file = os.getcwd() + \"\\\\\" + filename\n",
    "\n",
    "embeddings_index = {}     \n",
    "with open(path_to_glove_file) as f:\n",
    "    for line in f:\n",
    "        word, coefs = line.split(maxsplit=1)\n",
    "        coefs = np.fromstring(coefs, \"f\", sep=\" \")\n",
    "        embeddings_index[word] = coefs\n",
    "\n",
    "f.close()\n",
    "\n",
    "print(\"Found %s word vectors.\" % len(embeddings_index))"
   ]
  },
  {
   "cell_type": "code",
   "execution_count": 102,
   "metadata": {},
   "outputs": [],
   "source": [
    "embedding_matrix = np.zeros((vocab_size, 50))"
   ]
  },
  {
   "cell_type": "code",
   "execution_count": 103,
   "metadata": {},
   "outputs": [],
   "source": [
    "not_in_glove = []\n",
    "i = 0\n",
    "for word in vectorize_layer.get_vocabulary():\n",
    "    if embeddings_index.get(word) is not None:\n",
    "        embedding_matrix[i] = embeddings_index.get(word)\n",
    "    else:\n",
    "        not_in_glove.append((i, vectorize_layer.get_vocabulary()[i]))   \n",
    "    i =+ 1 "
   ]
  },
  {
   "cell_type": "code",
   "execution_count": 177,
   "metadata": {},
   "outputs": [
    {
     "data": {
      "text/plain": [
       "39.49375"
      ]
     },
     "execution_count": 177,
     "metadata": {},
     "output_type": "execute_result"
    }
   ],
   "source": [
    "(len(not_in_glove)/len(embedding_matrix))*100"
   ]
  },
  {
   "cell_type": "markdown",
   "metadata": {},
   "source": [
    "39% of the words are not in the glov!\n",
    "we can cleaing the text and explror the glove more to find a better fit, (not in this work)."
   ]
  },
  {
   "cell_type": "code",
   "execution_count": 119,
   "metadata": {},
   "outputs": [],
   "source": [
    "#embedding_dim=16\n",
    "\n",
    "model_external_embedding = tf.keras.Sequential([\n",
    "    tf.keras.Input(shape=(1,), dtype=tf.string),\n",
    "    vectorize_layer,\n",
    "    Embedding(input_dim=vocab_size,\n",
    "              output_dim=50,\n",
    "              weights=[embedding_matrix],\n",
    "              input_length=sequence_length,\n",
    "              trainable=False),\n",
    "    GlobalAveragePooling1D(),\n",
    "    Dense(500, activation='tanh', name='hidden_layer'),\n",
    "    Dropout(0.2),\n",
    "    Dense(1, name = 'output_layer')\n",
    "])"
   ]
  },
  {
   "cell_type": "code",
   "execution_count": 120,
   "metadata": {},
   "outputs": [
    {
     "name": "stdout",
     "output_type": "stream",
     "text": [
      "Model: \"sequential_9\"\n",
      "_________________________________________________________________\n",
      " Layer (type)                Output Shape              Param #   \n",
      "=================================================================\n",
      " Text_processing (TextVector  (None, 60)               0         \n",
      " ization)                                                        \n",
      "                                                                 \n",
      " embedding_2 (Embedding)     (None, 60, 50)            1600000   \n",
      "                                                                 \n",
      " global_average_pooling1d_5   (None, 50)               0         \n",
      " (GlobalAveragePooling1D)                                        \n",
      "                                                                 \n",
      " hidden_layer (Dense)        (None, 500)               25500     \n",
      "                                                                 \n",
      " dropout_9 (Dropout)         (None, 500)               0         \n",
      "                                                                 \n",
      " output_layer (Dense)        (None, 1)                 501       \n",
      "                                                                 \n",
      "=================================================================\n",
      "Total params: 1,626,001\n",
      "Trainable params: 26,001\n",
      "Non-trainable params: 1,600,000\n",
      "_________________________________________________________________\n"
     ]
    }
   ],
   "source": [
    "model_external_embedding.summary()"
   ]
  },
  {
   "cell_type": "code",
   "execution_count": 121,
   "metadata": {},
   "outputs": [],
   "source": [
    "model_external_embedding.compile(\n",
    "    optimizer=tf.optimizers.Adam(), loss='mean_absolute_error', metrics=['mean_squared_error','mean_absolute_error'])"
   ]
  },
  {
   "cell_type": "code",
   "execution_count": 122,
   "metadata": {},
   "outputs": [
    {
     "name": "stdout",
     "output_type": "stream",
     "text": [
      "Epoch 1/20\n",
      "331/331 [==============================] - 4s 12ms/step - loss: 49.6418 - mean_squared_error: 3468.1680 - mean_absolute_error: 49.6418 - val_loss: 5.5489 - val_mean_squared_error: 86.7836 - val_mean_absolute_error: 5.5489\n",
      "Epoch 2/20\n",
      "331/331 [==============================] - 5s 14ms/step - loss: 3.1341 - mean_squared_error: 16.4419 - mean_absolute_error: 3.1341 - val_loss: 2.4535 - val_mean_squared_error: 9.2757 - val_mean_absolute_error: 2.4535\n",
      "Epoch 3/20\n",
      "331/331 [==============================] - 4s 13ms/step - loss: 2.9480 - mean_squared_error: 13.4210 - mean_absolute_error: 2.9480 - val_loss: 2.4596 - val_mean_squared_error: 9.2345 - val_mean_absolute_error: 2.4596\n",
      "Epoch 4/20\n",
      "331/331 [==============================] - 4s 12ms/step - loss: 2.9396 - mean_squared_error: 13.3245 - mean_absolute_error: 2.9396 - val_loss: 2.4998 - val_mean_squared_error: 9.3579 - val_mean_absolute_error: 2.4998\n",
      "Epoch 5/20\n",
      "331/331 [==============================] - 4s 13ms/step - loss: 2.9492 - mean_squared_error: 13.4145 - mean_absolute_error: 2.9492 - val_loss: 2.4729 - val_mean_squared_error: 9.2274 - val_mean_absolute_error: 2.4729\n",
      "Epoch 6/20\n",
      "331/331 [==============================] - 4s 13ms/step - loss: 2.9470 - mean_squared_error: 13.3964 - mean_absolute_error: 2.9470 - val_loss: 2.4587 - val_mean_squared_error: 9.2570 - val_mean_absolute_error: 2.4587\n",
      "Epoch 7/20\n",
      "331/331 [==============================] - 4s 12ms/step - loss: 2.9435 - mean_squared_error: 13.3642 - mean_absolute_error: 2.9435 - val_loss: 2.4663 - val_mean_squared_error: 9.2519 - val_mean_absolute_error: 2.4663\n",
      "Wall time: 29.7 s\n"
     ]
    }
   ],
   "source": [
    "%%time\n",
    "text_col, target_col = 'description', 'points'\n",
    "\n",
    "early_stopping_monitor = EarlyStopping(\n",
    "    monitor='val_mean_squared_error',\n",
    "    min_delta=0,\n",
    "    patience=2,\n",
    "    verbose=0,\n",
    "    restore_best_weights=True\n",
    ")\n",
    "\n",
    "history = model_external_embedding.fit(\n",
    "    train_data[text_col],\n",
    "    train_data[target_col],\n",
    "    epochs=20,\n",
    "    batch_size=256,\n",
    "    verbose=1,    \n",
    "    callbacks=[early_stopping_monitor],\n",
    "    validation_data = (test_data[text_col], test_data[target_col]))"
   ]
  },
  {
   "cell_type": "code",
   "execution_count": 123,
   "metadata": {
    "tags": []
   },
   "outputs": [],
   "source": [
    "test_data['dnn__external_embedding'] = model_external_embedding.predict(test_data[text_col])"
   ]
  },
  {
   "cell_type": "code",
   "execution_count": 124,
   "metadata": {
    "tags": []
   },
   "outputs": [
    {
     "data": {
      "text/plain": [
       "MSE    9.227414\n",
       "MAE    2.472947\n",
       "R2     0.010210\n",
       "dtype: float64"
      ]
     },
     "execution_count": 124,
     "metadata": {},
     "output_type": "execute_result"
    }
   ],
   "source": [
    "dnn_external_embedding = calc_prediction_quality(test_data, 'dnn__external_embedding', target_col)\n",
    "dnn_external_embedding"
   ]
  },
  {
   "cell_type": "code",
   "execution_count": 125,
   "metadata": {},
   "outputs": [],
   "source": [
    "dnn_external_embedding.name = 'dnn_external_embedding'"
   ]
  },
  {
   "cell_type": "code",
   "execution_count": 112,
   "metadata": {},
   "outputs": [
    {
     "data": {
      "text/html": [
       "<div>\n",
       "<style scoped>\n",
       "    .dataframe tbody tr th:only-of-type {\n",
       "        vertical-align: middle;\n",
       "    }\n",
       "\n",
       "    .dataframe tbody tr th {\n",
       "        vertical-align: top;\n",
       "    }\n",
       "\n",
       "    .dataframe thead th {\n",
       "        text-align: right;\n",
       "    }\n",
       "</style>\n",
       "<table border=\"1\" class=\"dataframe\">\n",
       "  <thead>\n",
       "    <tr style=\"text-align: right;\">\n",
       "      <th></th>\n",
       "      <th>MSE</th>\n",
       "      <th>MAE</th>\n",
       "      <th>R2</th>\n",
       "    </tr>\n",
       "  </thead>\n",
       "  <tbody>\n",
       "    <tr>\n",
       "      <th>baseline_1</th>\n",
       "      <td>9.322615</td>\n",
       "      <td>2.494265</td>\n",
       "      <td>-0.000002</td>\n",
       "    </tr>\n",
       "    <tr>\n",
       "      <th>baseline_2</th>\n",
       "      <td>8.859680</td>\n",
       "      <td>2.430685</td>\n",
       "      <td>0.049655</td>\n",
       "    </tr>\n",
       "    <tr>\n",
       "      <th>baseline_3</th>\n",
       "      <td>8.358605</td>\n",
       "      <td>2.349938</td>\n",
       "      <td>0.103404</td>\n",
       "    </tr>\n",
       "    <tr>\n",
       "      <th>xgb_stats</th>\n",
       "      <td>6.230297</td>\n",
       "      <td>1.877433</td>\n",
       "      <td>0.331700</td>\n",
       "    </tr>\n",
       "    <tr>\n",
       "      <th>ridge_stats</th>\n",
       "      <td>2.960161</td>\n",
       "      <td>1.358504</td>\n",
       "      <td>0.682475</td>\n",
       "    </tr>\n",
       "    <tr>\n",
       "      <th>Ridge_txt_and_ftrs</th>\n",
       "      <td>3.231039</td>\n",
       "      <td>1.421278</td>\n",
       "      <td>0.653419</td>\n",
       "    </tr>\n",
       "    <tr>\n",
       "      <th>Ridge_text_and_ftrs_scaling</th>\n",
       "      <td>2.957613</td>\n",
       "      <td>1.357829</td>\n",
       "      <td>0.682748</td>\n",
       "    </tr>\n",
       "    <tr>\n",
       "      <th>dnn_stat</th>\n",
       "      <td>2.963829</td>\n",
       "      <td>1.357136</td>\n",
       "      <td>0.682081</td>\n",
       "    </tr>\n",
       "    <tr>\n",
       "      <th>dnn_concatinated</th>\n",
       "      <td>3.235679</td>\n",
       "      <td>1.418518</td>\n",
       "      <td>0.652921</td>\n",
       "    </tr>\n",
       "    <tr>\n",
       "      <th>dnn_external_embedding</th>\n",
       "      <td>9.242284</td>\n",
       "      <td>2.482059</td>\n",
       "      <td>0.008615</td>\n",
       "    </tr>\n",
       "  </tbody>\n",
       "</table>\n",
       "</div>"
      ],
      "text/plain": [
       "                                  MSE       MAE        R2\n",
       "baseline_1                   9.322615  2.494265 -0.000002\n",
       "baseline_2                   8.859680  2.430685  0.049655\n",
       "baseline_3                   8.358605  2.349938  0.103404\n",
       "xgb_stats                    6.230297  1.877433  0.331700\n",
       "ridge_stats                  2.960161  1.358504  0.682475\n",
       "Ridge_txt_and_ftrs           3.231039  1.421278  0.653419\n",
       "Ridge_text_and_ftrs_scaling  2.957613  1.357829  0.682748\n",
       "dnn_stat                     2.963829  1.357136  0.682081\n",
       "dnn_concatinated             3.235679  1.418518  0.652921\n",
       "dnn_external_embedding       9.242284  2.482059  0.008615"
      ]
     },
     "execution_count": 112,
     "metadata": {},
     "output_type": "execute_result"
    }
   ],
   "source": [
    "compared_model_10 = compared_model_9.append(dnn_external_embedding)\n",
    "compared_model_10"
   ]
  },
  {
   "cell_type": "markdown",
   "metadata": {},
   "source": [
    "I think there is a mistake in the code logic of the model  because the ratio of MSE,MAE is very high compared to other results I have seen so far. (?)\n",
    "Regardless, it can be expected that the results will be less accurateit , there are not many similar words in the external dictionary in relation to all the words in the wine data set , so you can expect results to be less accurate"
   ]
  },
  {
   "cell_type": "markdown",
   "metadata": {},
   "source": [
    "<div class=\"alert alert-block alert-warning\">\n",
    "<b>TBD</b>\n",
    "</div>"
   ]
  },
  {
   "cell_type": "markdown",
   "metadata": {},
   "source": [
    "### Using LSTM or RNN Layer, (description feature only)"
   ]
  },
  {
   "cell_type": "markdown",
   "metadata": {
    "tags": []
   },
   "source": [
    "See example here: https://www.tensorflow.org/api_docs/python/tf/keras/layers/LSTM"
   ]
  },
  {
   "cell_type": "code",
   "execution_count": 142,
   "metadata": {},
   "outputs": [],
   "source": [
    "from keras.layers import LSTM"
   ]
  },
  {
   "cell_type": "code",
   "execution_count": 156,
   "metadata": {},
   "outputs": [],
   "source": [
    "model_lstm = tf.keras.Sequential([\n",
    "    tf.keras.Input(shape=(1,), dtype=tf.string),\n",
    "    vectorize_layer,\n",
    "    Embedding(vocab_size, embedding_dim, name=\"embedding\", ),\n",
    "    tf.keras.layers.LSTM(\n",
    "                        128,\n",
    "                        activation='tanh',\n",
    "                        recurrent_activation='sigmoid',\n",
    "                        use_bias=True,\n",
    "                        kernel_initializer='glorot_uniform',\n",
    "                        recurrent_initializer='orthogonal',\n",
    "                        bias_initializer='zeros',\n",
    "                        unit_forget_bias=True,\n",
    "                        kernel_regularizer=None,\n",
    "                        recurrent_regularizer=None,\n",
    "                        bias_regularizer=None,\n",
    "                        activity_regularizer=None,\n",
    "                        kernel_constraint=None,\n",
    "                        recurrent_constraint=None,\n",
    "                        bias_constraint=None,\n",
    "                        dropout=0.0,\n",
    "                        recurrent_dropout=0.0,\n",
    "                        return_sequences=False,\n",
    "                        return_state=False,\n",
    "                        go_backwards=False,\n",
    "                        stateful=False,\n",
    "                        time_major=False,\n",
    "                        unroll=False,\n",
    "                        ),\n",
    "    Dense(128, activation='tanh', name='hidden_layer'),\n",
    "    Dense(1, name = 'output_layer')\n",
    "])"
   ]
  },
  {
   "cell_type": "code",
   "execution_count": 157,
   "metadata": {},
   "outputs": [
    {
     "name": "stdout",
     "output_type": "stream",
     "text": [
      "Model: \"sequential_11\"\n",
      "_________________________________________________________________\n",
      " Layer (type)                Output Shape              Param #   \n",
      "=================================================================\n",
      " Text_processing (TextVector  (None, 60)               0         \n",
      " ization)                                                        \n",
      "                                                                 \n",
      " embedding (Embedding)       (None, 60, 16)            512000    \n",
      "                                                                 \n",
      " lstm_1 (LSTM)               (None, 128)               74240     \n",
      "                                                                 \n",
      " hidden_layer (Dense)        (None, 128)               16512     \n",
      "                                                                 \n",
      " output_layer (Dense)        (None, 1)                 129       \n",
      "                                                                 \n",
      "=================================================================\n",
      "Total params: 602,881\n",
      "Trainable params: 602,881\n",
      "Non-trainable params: 0\n",
      "_________________________________________________________________\n"
     ]
    }
   ],
   "source": [
    "model_lstm.summary()"
   ]
  },
  {
   "cell_type": "code",
   "execution_count": 158,
   "metadata": {},
   "outputs": [],
   "source": [
    "model_lstm.compile(\n",
    "    optimizer=tf.optimizers.Adam(), loss='mean_absolute_error', metrics=['mean_squared_error','mean_absolute_error'])"
   ]
  },
  {
   "cell_type": "code",
   "execution_count": 159,
   "metadata": {},
   "outputs": [
    {
     "name": "stdout",
     "output_type": "stream",
     "text": [
      "Epoch 1/20\n",
      "662/662 [==============================] - 79s 117ms/step - loss: 32.0013 - mean_squared_error: 1604.8330 - mean_absolute_error: 32.0013 - val_loss: 2.4677 - val_mean_squared_error: 9.4958 - val_mean_absolute_error: 2.4677\n",
      "Epoch 2/20\n",
      "662/662 [==============================] - 81s 122ms/step - loss: 2.4995 - mean_squared_error: 9.6686 - mean_absolute_error: 2.4995 - val_loss: 2.4674 - val_mean_squared_error: 9.4995 - val_mean_absolute_error: 2.4674\n",
      "Epoch 3/20\n",
      "662/662 [==============================] - 83s 126ms/step - loss: 2.4997 - mean_squared_error: 9.6602 - mean_absolute_error: 2.4997 - val_loss: 2.4698 - val_mean_squared_error: 9.4702 - val_mean_absolute_error: 2.4698\n",
      "Epoch 4/20\n",
      "662/662 [==============================] - 84s 127ms/step - loss: 2.5010 - mean_squared_error: 9.6558 - mean_absolute_error: 2.5010 - val_loss: 2.4678 - val_mean_squared_error: 9.5159 - val_mean_absolute_error: 2.4678\n",
      "Epoch 5/20\n",
      "662/662 [==============================] - 85s 128ms/step - loss: 2.5011 - mean_squared_error: 9.6560 - mean_absolute_error: 2.5011 - val_loss: 2.4709 - val_mean_squared_error: 9.4576 - val_mean_absolute_error: 2.4709\n",
      "Epoch 6/20\n",
      "662/662 [==============================] - 84s 126ms/step - loss: 2.5015 - mean_squared_error: 9.6483 - mean_absolute_error: 2.5015 - val_loss: 2.4693 - val_mean_squared_error: 9.4759 - val_mean_absolute_error: 2.4693\n",
      "Epoch 7/20\n",
      "662/662 [==============================] - 80s 121ms/step - loss: 2.5021 - mean_squared_error: 9.6467 - mean_absolute_error: 2.5021 - val_loss: 2.4781 - val_mean_squared_error: 9.5627 - val_mean_absolute_error: 2.4781\n",
      "Wall time: 9min 36s\n"
     ]
    }
   ],
   "source": [
    "%%time\n",
    "text_col, target_col = 'description', 'points'\n",
    "\n",
    "early_stopping_monitor = EarlyStopping(\n",
    "    monitor='val_mean_squared_error',\n",
    "    min_delta=0,\n",
    "    patience=2,\n",
    "    verbose=0,\n",
    "    restore_best_weights=True\n",
    ")\n",
    "\n",
    "history = model_lstm.fit(\n",
    "    train_data[text_col],\n",
    "    train_data[target_col],\n",
    "    epochs=20,\n",
    "    batch_size=128,\n",
    "    verbose=1,    \n",
    "    callbacks=[early_stopping_monitor],\n",
    "    validation_data = (test_data[text_col], test_data[target_col]))"
   ]
  },
  {
   "cell_type": "code",
   "execution_count": 166,
   "metadata": {},
   "outputs": [],
   "source": [
    "test_data['dnn_lstm'] = model_lstm.predict(test_data[text_col])"
   ]
  },
  {
   "cell_type": "code",
   "execution_count": 167,
   "metadata": {},
   "outputs": [
    {
     "data": {
      "text/plain": [
       "MSE    9.457553\n",
       "MAE    2.470858\n",
       "R2    -0.014476\n",
       "dtype: float64"
      ]
     },
     "execution_count": 167,
     "metadata": {},
     "output_type": "execute_result"
    }
   ],
   "source": [
    "dnn_lstm = calc_prediction_quality(test_data, 'dnn__lstm', target_col)\n",
    "dnn_lstm"
   ]
  },
  {
   "cell_type": "code",
   "execution_count": 168,
   "metadata": {},
   "outputs": [],
   "source": [
    "dnn_lstm.name = 'dnn_lstm'"
   ]
  },
  {
   "cell_type": "code",
   "execution_count": 170,
   "metadata": {},
   "outputs": [
    {
     "data": {
      "text/html": [
       "<div>\n",
       "<style scoped>\n",
       "    .dataframe tbody tr th:only-of-type {\n",
       "        vertical-align: middle;\n",
       "    }\n",
       "\n",
       "    .dataframe tbody tr th {\n",
       "        vertical-align: top;\n",
       "    }\n",
       "\n",
       "    .dataframe thead th {\n",
       "        text-align: right;\n",
       "    }\n",
       "</style>\n",
       "<table border=\"1\" class=\"dataframe\">\n",
       "  <thead>\n",
       "    <tr style=\"text-align: right;\">\n",
       "      <th></th>\n",
       "      <th>MSE</th>\n",
       "      <th>MAE</th>\n",
       "      <th>R2</th>\n",
       "    </tr>\n",
       "  </thead>\n",
       "  <tbody>\n",
       "    <tr>\n",
       "      <th>baseline_1</th>\n",
       "      <td>9.322615</td>\n",
       "      <td>2.494265</td>\n",
       "      <td>-0.000002</td>\n",
       "    </tr>\n",
       "    <tr>\n",
       "      <th>baseline_2</th>\n",
       "      <td>8.859680</td>\n",
       "      <td>2.430685</td>\n",
       "      <td>0.049655</td>\n",
       "    </tr>\n",
       "    <tr>\n",
       "      <th>baseline_3</th>\n",
       "      <td>8.358605</td>\n",
       "      <td>2.349938</td>\n",
       "      <td>0.103404</td>\n",
       "    </tr>\n",
       "    <tr>\n",
       "      <th>xgb_stats</th>\n",
       "      <td>6.230297</td>\n",
       "      <td>1.877433</td>\n",
       "      <td>0.331700</td>\n",
       "    </tr>\n",
       "    <tr>\n",
       "      <th>ridge_stats</th>\n",
       "      <td>2.960161</td>\n",
       "      <td>1.358504</td>\n",
       "      <td>0.682475</td>\n",
       "    </tr>\n",
       "    <tr>\n",
       "      <th>Ridge_txt_and_ftrs</th>\n",
       "      <td>3.231039</td>\n",
       "      <td>1.421278</td>\n",
       "      <td>0.653419</td>\n",
       "    </tr>\n",
       "    <tr>\n",
       "      <th>Ridge_text_and_ftrs_scaling</th>\n",
       "      <td>2.957613</td>\n",
       "      <td>1.357829</td>\n",
       "      <td>0.682748</td>\n",
       "    </tr>\n",
       "    <tr>\n",
       "      <th>dnn_stat</th>\n",
       "      <td>2.963829</td>\n",
       "      <td>1.357136</td>\n",
       "      <td>0.682081</td>\n",
       "    </tr>\n",
       "    <tr>\n",
       "      <th>dnn_concatinated</th>\n",
       "      <td>3.235679</td>\n",
       "      <td>1.418518</td>\n",
       "      <td>0.652921</td>\n",
       "    </tr>\n",
       "    <tr>\n",
       "      <th>dnn_external_embedding</th>\n",
       "      <td>9.242284</td>\n",
       "      <td>2.482059</td>\n",
       "      <td>0.008615</td>\n",
       "    </tr>\n",
       "    <tr>\n",
       "      <th>dnn_lstm</th>\n",
       "      <td>9.457553</td>\n",
       "      <td>2.470858</td>\n",
       "      <td>-0.014476</td>\n",
       "    </tr>\n",
       "  </tbody>\n",
       "</table>\n",
       "</div>"
      ],
      "text/plain": [
       "                                  MSE       MAE        R2\n",
       "baseline_1                   9.322615  2.494265 -0.000002\n",
       "baseline_2                   8.859680  2.430685  0.049655\n",
       "baseline_3                   8.358605  2.349938  0.103404\n",
       "xgb_stats                    6.230297  1.877433  0.331700\n",
       "ridge_stats                  2.960161  1.358504  0.682475\n",
       "Ridge_txt_and_ftrs           3.231039  1.421278  0.653419\n",
       "Ridge_text_and_ftrs_scaling  2.957613  1.357829  0.682748\n",
       "dnn_stat                     2.963829  1.357136  0.682081\n",
       "dnn_concatinated             3.235679  1.418518  0.652921\n",
       "dnn_external_embedding       9.242284  2.482059  0.008615\n",
       "dnn_lstm                     9.457553  2.470858 -0.014476"
      ]
     },
     "execution_count": 170,
     "metadata": {},
     "output_type": "execute_result"
    }
   ],
   "source": [
    "compared_model_11 = compared_model_10.append(dnn_lstm)\n",
    "compared_model_11"
   ]
  },
  {
   "cell_type": "code",
   "execution_count": 171,
   "metadata": {},
   "outputs": [],
   "source": [
    "compared_model_11.to_csv('data/all_models_compared_08.06.22.csv', index=False)\n",
    "compared_model_11.to_pickle('data/all_models_compared_08.06.22.pkl')"
   ]
  },
  {
   "cell_type": "code",
   "execution_count": 172,
   "metadata": {},
   "outputs": [],
   "source": [
    "wine_reviews = pd.read_pickle('data/data_wine_reviews_04.06.22.pkl')\n",
    "train_data = pd.read_pickle('data/train_data_wine_04.06.22.pkl')\n",
    "test_data = pd.read_pickle('data/test_data_wine_04.06.22.pkl')\n",
    "compared_model_11 = pd.read_pickle('data/all_models_compared_08.06.22.pkl')"
   ]
  },
  {
   "cell_type": "markdown",
   "metadata": {},
   "source": [
    "I think there is a mistake in the code logic of the model  because the ratio of MSE,MAE is very high compared to other results I have seen so far. (?)\n",
    "Regardless,The use of the LSTM leyer is not good in our case, the capcity of the model is not necessary for the dataset of the wine because the text is not very long and the amount of data is relatively small"
   ]
  },
  {
   "cell_type": "markdown",
   "metadata": {},
   "source": [
    "<div class=\"alert alert-block alert-warning\">\n",
    "<b>TBD</b>\n",
    "</div>"
   ]
  },
  {
   "cell_type": "markdown",
   "metadata": {},
   "source": [
    "### Bonus (Not mandatory) Use all features using Keras functional API"
   ]
  },
  {
   "cell_type": "markdown",
   "metadata": {},
   "source": [
    "See here: https://keras.io/guides/functional_api/"
   ]
  },
  {
   "cell_type": "markdown",
   "metadata": {},
   "source": [
    "<div class=\"alert alert-block alert-warning\">\n",
    "<b>TBD</b>\n",
    "</div>"
   ]
  }
 ],
 "metadata": {
  "kernelspec": {
   "display_name": "Python 3 (ipykernel)",
   "language": "python",
   "name": "python3"
  },
  "language_info": {
   "codemirror_mode": {
    "name": "ipython",
    "version": 3
   },
   "file_extension": ".py",
   "mimetype": "text/x-python",
   "name": "python",
   "nbconvert_exporter": "python",
   "pygments_lexer": "ipython3",
   "version": "3.9.7"
  }
 },
 "nbformat": 4,
 "nbformat_minor": 4
}
